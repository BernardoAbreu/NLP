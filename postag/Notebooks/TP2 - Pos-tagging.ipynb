{
 "cells": [
  {
   "cell_type": "markdown",
   "metadata": {},
   "source": [
    "# Trabalho Prático 2\n",
    "## Processamento de Linguagem Natural - 2018/2\n",
    "\n",
    "### Bernardo de Almeida Abreu - 2018718155"
   ]
  },
  {
   "cell_type": "code",
   "execution_count": 1,
   "metadata": {
    "ExecuteTime": {
     "end_time": "2018-11-10T05:51:02.898312Z",
     "start_time": "2018-11-10T05:50:57.878452Z"
    }
   },
   "outputs": [
    {
     "name": "stderr",
     "output_type": "stream",
     "text": [
      "Using TensorFlow backend.\n"
     ]
    }
   ],
   "source": [
    "%matplotlib notebook\n",
    "\n",
    "import numpy as np\n",
    "import pandas as pd\n",
    "import re\n",
    "import gensim\n",
    "import nltk\n",
    "import keras\n",
    "import matplotlib.pyplot as plt\n"
   ]
  },
  {
   "cell_type": "code",
   "execution_count": 2,
   "metadata": {
    "ExecuteTime": {
     "end_time": "2018-11-10T05:51:02.930162Z",
     "start_time": "2018-11-10T05:51:02.902624Z"
    }
   },
   "outputs": [],
   "source": [
    "paths = {\n",
    "    'train': '../macmorpho-v3/macmorpho-train.txt',\n",
    "    'test': '../macmorpho-v3/macmorpho-test.txt',\n",
    "    'dev': '../macmorpho-v3/macmorpho-dev.txt',\n",
    "    'word2vec': '../data/skip_s100.txt'\n",
    "}"
   ]
  },
  {
   "cell_type": "markdown",
   "metadata": {},
   "source": [
    "### Leitura do texto"
   ]
  },
  {
   "cell_type": "code",
   "execution_count": 3,
   "metadata": {
    "ExecuteTime": {
     "end_time": "2018-11-10T05:51:02.979718Z",
     "start_time": "2018-11-10T05:51:02.946801Z"
    }
   },
   "outputs": [],
   "source": [
    "def read_text(filename):\n",
    "    with open(filename, 'r') as f:\n",
    "        return f.readlines()"
   ]
  },
  {
   "cell_type": "code",
   "execution_count": 4,
   "metadata": {
    "ExecuteTime": {
     "end_time": "2018-11-10T05:51:03.072203Z",
     "start_time": "2018-11-10T05:51:02.987956Z"
    },
    "scrolled": true
   },
   "outputs": [
    {
     "name": "stdout",
     "output_type": "stream",
     "text": [
      "Jersei_N atinge_V média_N de_PREP Cr$_CUR 1,4_NUM milhão_N na_PREP+ART venda_N da_PREP+ART Pinhal_NPROP em_PREP São_NPROP Paulo_NPROP ._PU\n",
      "\n",
      "Salto_N sete_ADJ\n",
      "\n",
      "Ainda_ADV em_PREP dezembro_N de_PREP 1990_N ,_PU foi_V editada_PCP a_ART famosa_ADJ 289_N ,_PU que_PRO-KS modificava_V a_ART sistemática_N da_PREP+ART arrecadação_N do_PREP+ART ITR_NPROP e_KC alterava_V suas_PROADJ alíquotas_N ._PU\n",
      "\n"
     ]
    }
   ],
   "source": [
    "train_text = read_text(paths['train'])\n",
    "test_text = read_text(paths['test'])\n",
    "dev_text = read_text(paths['dev'])\n",
    "\n",
    "print(train_text[0])\n",
    "print(test_text[0])\n",
    "print(dev_text[0])"
   ]
  },
  {
   "cell_type": "markdown",
   "metadata": {},
   "source": [
    "### Separação de palavras e tags"
   ]
  },
  {
   "cell_type": "code",
   "execution_count": 24,
   "metadata": {
    "ExecuteTime": {
     "end_time": "2018-11-10T05:59:09.857140Z",
     "start_time": "2018-11-10T05:59:09.839315Z"
    }
   },
   "outputs": [],
   "source": [
    "def split_word_tags(text):\n",
    "    word_lines = []\n",
    "    tag_lines = []\n",
    "    for line in text:\n",
    "        words, tags = zip(*[tagged_word.split('_') for tagged_word in line.split()])\n",
    "        \n",
    "        word_lines.append([w.lower() if w.lower for w in words])\n",
    "        tag_lines.append(list(tags))\n",
    "    return word_lines, tag_lines"
   ]
  },
  {
   "cell_type": "code",
   "execution_count": 25,
   "metadata": {
    "ExecuteTime": {
     "end_time": "2018-11-10T05:59:13.957229Z",
     "start_time": "2018-11-10T05:59:11.360241Z"
    }
   },
   "outputs": [
    {
     "name": "stdout",
     "output_type": "stream",
     "text": [
      "['jersei', 'atinge', 'média', 'de', 'cr$', '1,4', 'milhão', 'na', 'venda', 'da', 'pinhal', 'em', 'são', 'paulo', '.']\n",
      "['N', 'V', 'N', 'PREP', 'CUR', 'NUM', 'N', 'PREP+ART', 'N', 'PREP+ART', 'NPROP', 'PREP', 'NPROP', 'NPROP', 'PU']\n"
     ]
    }
   ],
   "source": [
    "train_words, train_tags = split_word_tags(train_text)\n",
    "print(train_words[0])\n",
    "print(train_tags[0])\n",
    "\n",
    "test_words, test_tags = split_word_tags(test_text)\n",
    "dev_words, dev_tags = split_word_tags(dev_text)\n"
   ]
  },
  {
   "cell_type": "code",
   "execution_count": 26,
   "metadata": {
    "ExecuteTime": {
     "end_time": "2018-11-10T05:59:16.491630Z",
     "start_time": "2018-11-10T05:59:16.201025Z"
    }
   },
   "outputs": [
    {
     "data": {
      "text/plain": [
       "47236"
      ]
     },
     "execution_count": 26,
     "metadata": {},
     "output_type": "execute_result"
    }
   ],
   "source": [
    "flat_list = [item for sublist in (train_words) for item in sublist]\n",
    "len(set(flat_list))"
   ]
  },
  {
   "cell_type": "markdown",
   "metadata": {},
   "source": [
    "## Pad the words"
   ]
  },
  {
   "cell_type": "markdown",
   "metadata": {},
   "source": [
    "### Analyse sentence size distribution"
   ]
  },
  {
   "cell_type": "code",
   "execution_count": 27,
   "metadata": {
    "ExecuteTime": {
     "end_time": "2018-11-10T05:59:22.416068Z",
     "start_time": "2018-11-10T05:59:22.268619Z"
    }
   },
   "outputs": [
    {
     "data": {
      "text/plain": [
       "(49932, 2)"
      ]
     },
     "execution_count": 27,
     "metadata": {},
     "output_type": "execute_result"
    }
   ],
   "source": [
    "df_train = pd.DataFrame(columns=['words', 'tags'])\n",
    "df_test = pd.DataFrame(columns=['words', 'tags'])\n",
    "df_dev = pd.DataFrame(columns=['words', 'tags'])\n",
    "\n",
    "df_train['words'] = train_words\n",
    "df_train['tags'] = train_tags\n",
    "\n",
    "df_test['words'] = test_words\n",
    "df_test['tags'] = test_tags\n",
    "\n",
    "df_dev['words'] = dev_words\n",
    "df_dev['tags'] = dev_tags\n",
    "\n",
    "\n",
    "\n",
    "df_sentences = pd.concat([df_train, df_test, df_dev], axis=0)\n",
    "\n",
    "df_sentences.shape"
   ]
  },
  {
   "cell_type": "code",
   "execution_count": 28,
   "metadata": {
    "ExecuteTime": {
     "end_time": "2018-11-10T05:59:28.022705Z",
     "start_time": "2018-11-10T05:59:27.888465Z"
    }
   },
   "outputs": [
    {
     "data": {
      "text/plain": [
       "count    49932.000000\n",
       "mean        18.940779\n",
       "std         12.070051\n",
       "min          1.000000\n",
       "25%         10.000000\n",
       "50%         17.000000\n",
       "75%         25.000000\n",
       "max        248.000000\n",
       "Name: words, dtype: float64"
      ]
     },
     "execution_count": 28,
     "metadata": {},
     "output_type": "execute_result"
    }
   ],
   "source": [
    "df_sentences['words'].map(len).describe()"
   ]
  },
  {
   "cell_type": "code",
   "execution_count": 29,
   "metadata": {
    "ExecuteTime": {
     "end_time": "2018-11-10T05:59:29.735287Z",
     "start_time": "2018-11-10T05:59:29.523410Z"
    }
   },
   "outputs": [
    {
     "data": {
      "application/javascript": [
       "/* Put everything inside the global mpl namespace */\n",
       "window.mpl = {};\n",
       "\n",
       "\n",
       "mpl.get_websocket_type = function() {\n",
       "    if (typeof(WebSocket) !== 'undefined') {\n",
       "        return WebSocket;\n",
       "    } else if (typeof(MozWebSocket) !== 'undefined') {\n",
       "        return MozWebSocket;\n",
       "    } else {\n",
       "        alert('Your browser does not have WebSocket support.' +\n",
       "              'Please try Chrome, Safari or Firefox ≥ 6. ' +\n",
       "              'Firefox 4 and 5 are also supported but you ' +\n",
       "              'have to enable WebSockets in about:config.');\n",
       "    };\n",
       "}\n",
       "\n",
       "mpl.figure = function(figure_id, websocket, ondownload, parent_element) {\n",
       "    this.id = figure_id;\n",
       "\n",
       "    this.ws = websocket;\n",
       "\n",
       "    this.supports_binary = (this.ws.binaryType != undefined);\n",
       "\n",
       "    if (!this.supports_binary) {\n",
       "        var warnings = document.getElementById(\"mpl-warnings\");\n",
       "        if (warnings) {\n",
       "            warnings.style.display = 'block';\n",
       "            warnings.textContent = (\n",
       "                \"This browser does not support binary websocket messages. \" +\n",
       "                    \"Performance may be slow.\");\n",
       "        }\n",
       "    }\n",
       "\n",
       "    this.imageObj = new Image();\n",
       "\n",
       "    this.context = undefined;\n",
       "    this.message = undefined;\n",
       "    this.canvas = undefined;\n",
       "    this.rubberband_canvas = undefined;\n",
       "    this.rubberband_context = undefined;\n",
       "    this.format_dropdown = undefined;\n",
       "\n",
       "    this.image_mode = 'full';\n",
       "\n",
       "    this.root = $('<div/>');\n",
       "    this._root_extra_style(this.root)\n",
       "    this.root.attr('style', 'display: inline-block');\n",
       "\n",
       "    $(parent_element).append(this.root);\n",
       "\n",
       "    this._init_header(this);\n",
       "    this._init_canvas(this);\n",
       "    this._init_toolbar(this);\n",
       "\n",
       "    var fig = this;\n",
       "\n",
       "    this.waiting = false;\n",
       "\n",
       "    this.ws.onopen =  function () {\n",
       "            fig.send_message(\"supports_binary\", {value: fig.supports_binary});\n",
       "            fig.send_message(\"send_image_mode\", {});\n",
       "            if (mpl.ratio != 1) {\n",
       "                fig.send_message(\"set_dpi_ratio\", {'dpi_ratio': mpl.ratio});\n",
       "            }\n",
       "            fig.send_message(\"refresh\", {});\n",
       "        }\n",
       "\n",
       "    this.imageObj.onload = function() {\n",
       "            if (fig.image_mode == 'full') {\n",
       "                // Full images could contain transparency (where diff images\n",
       "                // almost always do), so we need to clear the canvas so that\n",
       "                // there is no ghosting.\n",
       "                fig.context.clearRect(0, 0, fig.canvas.width, fig.canvas.height);\n",
       "            }\n",
       "            fig.context.drawImage(fig.imageObj, 0, 0);\n",
       "        };\n",
       "\n",
       "    this.imageObj.onunload = function() {\n",
       "        fig.ws.close();\n",
       "    }\n",
       "\n",
       "    this.ws.onmessage = this._make_on_message_function(this);\n",
       "\n",
       "    this.ondownload = ondownload;\n",
       "}\n",
       "\n",
       "mpl.figure.prototype._init_header = function() {\n",
       "    var titlebar = $(\n",
       "        '<div class=\"ui-dialog-titlebar ui-widget-header ui-corner-all ' +\n",
       "        'ui-helper-clearfix\"/>');\n",
       "    var titletext = $(\n",
       "        '<div class=\"ui-dialog-title\" style=\"width: 100%; ' +\n",
       "        'text-align: center; padding: 3px;\"/>');\n",
       "    titlebar.append(titletext)\n",
       "    this.root.append(titlebar);\n",
       "    this.header = titletext[0];\n",
       "}\n",
       "\n",
       "\n",
       "\n",
       "mpl.figure.prototype._canvas_extra_style = function(canvas_div) {\n",
       "\n",
       "}\n",
       "\n",
       "\n",
       "mpl.figure.prototype._root_extra_style = function(canvas_div) {\n",
       "\n",
       "}\n",
       "\n",
       "mpl.figure.prototype._init_canvas = function() {\n",
       "    var fig = this;\n",
       "\n",
       "    var canvas_div = $('<div/>');\n",
       "\n",
       "    canvas_div.attr('style', 'position: relative; clear: both; outline: 0');\n",
       "\n",
       "    function canvas_keyboard_event(event) {\n",
       "        return fig.key_event(event, event['data']);\n",
       "    }\n",
       "\n",
       "    canvas_div.keydown('key_press', canvas_keyboard_event);\n",
       "    canvas_div.keyup('key_release', canvas_keyboard_event);\n",
       "    this.canvas_div = canvas_div\n",
       "    this._canvas_extra_style(canvas_div)\n",
       "    this.root.append(canvas_div);\n",
       "\n",
       "    var canvas = $('<canvas/>');\n",
       "    canvas.addClass('mpl-canvas');\n",
       "    canvas.attr('style', \"left: 0; top: 0; z-index: 0; outline: 0\")\n",
       "\n",
       "    this.canvas = canvas[0];\n",
       "    this.context = canvas[0].getContext(\"2d\");\n",
       "\n",
       "    var backingStore = this.context.backingStorePixelRatio ||\n",
       "\tthis.context.webkitBackingStorePixelRatio ||\n",
       "\tthis.context.mozBackingStorePixelRatio ||\n",
       "\tthis.context.msBackingStorePixelRatio ||\n",
       "\tthis.context.oBackingStorePixelRatio ||\n",
       "\tthis.context.backingStorePixelRatio || 1;\n",
       "\n",
       "    mpl.ratio = (window.devicePixelRatio || 1) / backingStore;\n",
       "\n",
       "    var rubberband = $('<canvas/>');\n",
       "    rubberband.attr('style', \"position: absolute; left: 0; top: 0; z-index: 1;\")\n",
       "\n",
       "    var pass_mouse_events = true;\n",
       "\n",
       "    canvas_div.resizable({\n",
       "        start: function(event, ui) {\n",
       "            pass_mouse_events = false;\n",
       "        },\n",
       "        resize: function(event, ui) {\n",
       "            fig.request_resize(ui.size.width, ui.size.height);\n",
       "        },\n",
       "        stop: function(event, ui) {\n",
       "            pass_mouse_events = true;\n",
       "            fig.request_resize(ui.size.width, ui.size.height);\n",
       "        },\n",
       "    });\n",
       "\n",
       "    function mouse_event_fn(event) {\n",
       "        if (pass_mouse_events)\n",
       "            return fig.mouse_event(event, event['data']);\n",
       "    }\n",
       "\n",
       "    rubberband.mousedown('button_press', mouse_event_fn);\n",
       "    rubberband.mouseup('button_release', mouse_event_fn);\n",
       "    // Throttle sequential mouse events to 1 every 20ms.\n",
       "    rubberband.mousemove('motion_notify', mouse_event_fn);\n",
       "\n",
       "    rubberband.mouseenter('figure_enter', mouse_event_fn);\n",
       "    rubberband.mouseleave('figure_leave', mouse_event_fn);\n",
       "\n",
       "    canvas_div.on(\"wheel\", function (event) {\n",
       "        event = event.originalEvent;\n",
       "        event['data'] = 'scroll'\n",
       "        if (event.deltaY < 0) {\n",
       "            event.step = 1;\n",
       "        } else {\n",
       "            event.step = -1;\n",
       "        }\n",
       "        mouse_event_fn(event);\n",
       "    });\n",
       "\n",
       "    canvas_div.append(canvas);\n",
       "    canvas_div.append(rubberband);\n",
       "\n",
       "    this.rubberband = rubberband;\n",
       "    this.rubberband_canvas = rubberband[0];\n",
       "    this.rubberband_context = rubberband[0].getContext(\"2d\");\n",
       "    this.rubberband_context.strokeStyle = \"#000000\";\n",
       "\n",
       "    this._resize_canvas = function(width, height) {\n",
       "        // Keep the size of the canvas, canvas container, and rubber band\n",
       "        // canvas in synch.\n",
       "        canvas_div.css('width', width)\n",
       "        canvas_div.css('height', height)\n",
       "\n",
       "        canvas.attr('width', width * mpl.ratio);\n",
       "        canvas.attr('height', height * mpl.ratio);\n",
       "        canvas.attr('style', 'width: ' + width + 'px; height: ' + height + 'px;');\n",
       "\n",
       "        rubberband.attr('width', width);\n",
       "        rubberband.attr('height', height);\n",
       "    }\n",
       "\n",
       "    // Set the figure to an initial 600x600px, this will subsequently be updated\n",
       "    // upon first draw.\n",
       "    this._resize_canvas(600, 600);\n",
       "\n",
       "    // Disable right mouse context menu.\n",
       "    $(this.rubberband_canvas).bind(\"contextmenu\",function(e){\n",
       "        return false;\n",
       "    });\n",
       "\n",
       "    function set_focus () {\n",
       "        canvas.focus();\n",
       "        canvas_div.focus();\n",
       "    }\n",
       "\n",
       "    window.setTimeout(set_focus, 100);\n",
       "}\n",
       "\n",
       "mpl.figure.prototype._init_toolbar = function() {\n",
       "    var fig = this;\n",
       "\n",
       "    var nav_element = $('<div/>')\n",
       "    nav_element.attr('style', 'width: 100%');\n",
       "    this.root.append(nav_element);\n",
       "\n",
       "    // Define a callback function for later on.\n",
       "    function toolbar_event(event) {\n",
       "        return fig.toolbar_button_onclick(event['data']);\n",
       "    }\n",
       "    function toolbar_mouse_event(event) {\n",
       "        return fig.toolbar_button_onmouseover(event['data']);\n",
       "    }\n",
       "\n",
       "    for(var toolbar_ind in mpl.toolbar_items) {\n",
       "        var name = mpl.toolbar_items[toolbar_ind][0];\n",
       "        var tooltip = mpl.toolbar_items[toolbar_ind][1];\n",
       "        var image = mpl.toolbar_items[toolbar_ind][2];\n",
       "        var method_name = mpl.toolbar_items[toolbar_ind][3];\n",
       "\n",
       "        if (!name) {\n",
       "            // put a spacer in here.\n",
       "            continue;\n",
       "        }\n",
       "        var button = $('<button/>');\n",
       "        button.addClass('ui-button ui-widget ui-state-default ui-corner-all ' +\n",
       "                        'ui-button-icon-only');\n",
       "        button.attr('role', 'button');\n",
       "        button.attr('aria-disabled', 'false');\n",
       "        button.click(method_name, toolbar_event);\n",
       "        button.mouseover(tooltip, toolbar_mouse_event);\n",
       "\n",
       "        var icon_img = $('<span/>');\n",
       "        icon_img.addClass('ui-button-icon-primary ui-icon');\n",
       "        icon_img.addClass(image);\n",
       "        icon_img.addClass('ui-corner-all');\n",
       "\n",
       "        var tooltip_span = $('<span/>');\n",
       "        tooltip_span.addClass('ui-button-text');\n",
       "        tooltip_span.html(tooltip);\n",
       "\n",
       "        button.append(icon_img);\n",
       "        button.append(tooltip_span);\n",
       "\n",
       "        nav_element.append(button);\n",
       "    }\n",
       "\n",
       "    var fmt_picker_span = $('<span/>');\n",
       "\n",
       "    var fmt_picker = $('<select/>');\n",
       "    fmt_picker.addClass('mpl-toolbar-option ui-widget ui-widget-content');\n",
       "    fmt_picker_span.append(fmt_picker);\n",
       "    nav_element.append(fmt_picker_span);\n",
       "    this.format_dropdown = fmt_picker[0];\n",
       "\n",
       "    for (var ind in mpl.extensions) {\n",
       "        var fmt = mpl.extensions[ind];\n",
       "        var option = $(\n",
       "            '<option/>', {selected: fmt === mpl.default_extension}).html(fmt);\n",
       "        fmt_picker.append(option)\n",
       "    }\n",
       "\n",
       "    // Add hover states to the ui-buttons\n",
       "    $( \".ui-button\" ).hover(\n",
       "        function() { $(this).addClass(\"ui-state-hover\");},\n",
       "        function() { $(this).removeClass(\"ui-state-hover\");}\n",
       "    );\n",
       "\n",
       "    var status_bar = $('<span class=\"mpl-message\"/>');\n",
       "    nav_element.append(status_bar);\n",
       "    this.message = status_bar[0];\n",
       "}\n",
       "\n",
       "mpl.figure.prototype.request_resize = function(x_pixels, y_pixels) {\n",
       "    // Request matplotlib to resize the figure. Matplotlib will then trigger a resize in the client,\n",
       "    // which will in turn request a refresh of the image.\n",
       "    this.send_message('resize', {'width': x_pixels, 'height': y_pixels});\n",
       "}\n",
       "\n",
       "mpl.figure.prototype.send_message = function(type, properties) {\n",
       "    properties['type'] = type;\n",
       "    properties['figure_id'] = this.id;\n",
       "    this.ws.send(JSON.stringify(properties));\n",
       "}\n",
       "\n",
       "mpl.figure.prototype.send_draw_message = function() {\n",
       "    if (!this.waiting) {\n",
       "        this.waiting = true;\n",
       "        this.ws.send(JSON.stringify({type: \"draw\", figure_id: this.id}));\n",
       "    }\n",
       "}\n",
       "\n",
       "\n",
       "mpl.figure.prototype.handle_save = function(fig, msg) {\n",
       "    var format_dropdown = fig.format_dropdown;\n",
       "    var format = format_dropdown.options[format_dropdown.selectedIndex].value;\n",
       "    fig.ondownload(fig, format);\n",
       "}\n",
       "\n",
       "\n",
       "mpl.figure.prototype.handle_resize = function(fig, msg) {\n",
       "    var size = msg['size'];\n",
       "    if (size[0] != fig.canvas.width || size[1] != fig.canvas.height) {\n",
       "        fig._resize_canvas(size[0], size[1]);\n",
       "        fig.send_message(\"refresh\", {});\n",
       "    };\n",
       "}\n",
       "\n",
       "mpl.figure.prototype.handle_rubberband = function(fig, msg) {\n",
       "    var x0 = msg['x0'] / mpl.ratio;\n",
       "    var y0 = (fig.canvas.height - msg['y0']) / mpl.ratio;\n",
       "    var x1 = msg['x1'] / mpl.ratio;\n",
       "    var y1 = (fig.canvas.height - msg['y1']) / mpl.ratio;\n",
       "    x0 = Math.floor(x0) + 0.5;\n",
       "    y0 = Math.floor(y0) + 0.5;\n",
       "    x1 = Math.floor(x1) + 0.5;\n",
       "    y1 = Math.floor(y1) + 0.5;\n",
       "    var min_x = Math.min(x0, x1);\n",
       "    var min_y = Math.min(y0, y1);\n",
       "    var width = Math.abs(x1 - x0);\n",
       "    var height = Math.abs(y1 - y0);\n",
       "\n",
       "    fig.rubberband_context.clearRect(\n",
       "        0, 0, fig.canvas.width, fig.canvas.height);\n",
       "\n",
       "    fig.rubberband_context.strokeRect(min_x, min_y, width, height);\n",
       "}\n",
       "\n",
       "mpl.figure.prototype.handle_figure_label = function(fig, msg) {\n",
       "    // Updates the figure title.\n",
       "    fig.header.textContent = msg['label'];\n",
       "}\n",
       "\n",
       "mpl.figure.prototype.handle_cursor = function(fig, msg) {\n",
       "    var cursor = msg['cursor'];\n",
       "    switch(cursor)\n",
       "    {\n",
       "    case 0:\n",
       "        cursor = 'pointer';\n",
       "        break;\n",
       "    case 1:\n",
       "        cursor = 'default';\n",
       "        break;\n",
       "    case 2:\n",
       "        cursor = 'crosshair';\n",
       "        break;\n",
       "    case 3:\n",
       "        cursor = 'move';\n",
       "        break;\n",
       "    }\n",
       "    fig.rubberband_canvas.style.cursor = cursor;\n",
       "}\n",
       "\n",
       "mpl.figure.prototype.handle_message = function(fig, msg) {\n",
       "    fig.message.textContent = msg['message'];\n",
       "}\n",
       "\n",
       "mpl.figure.prototype.handle_draw = function(fig, msg) {\n",
       "    // Request the server to send over a new figure.\n",
       "    fig.send_draw_message();\n",
       "}\n",
       "\n",
       "mpl.figure.prototype.handle_image_mode = function(fig, msg) {\n",
       "    fig.image_mode = msg['mode'];\n",
       "}\n",
       "\n",
       "mpl.figure.prototype.updated_canvas_event = function() {\n",
       "    // Called whenever the canvas gets updated.\n",
       "    this.send_message(\"ack\", {});\n",
       "}\n",
       "\n",
       "// A function to construct a web socket function for onmessage handling.\n",
       "// Called in the figure constructor.\n",
       "mpl.figure.prototype._make_on_message_function = function(fig) {\n",
       "    return function socket_on_message(evt) {\n",
       "        if (evt.data instanceof Blob) {\n",
       "            /* FIXME: We get \"Resource interpreted as Image but\n",
       "             * transferred with MIME type text/plain:\" errors on\n",
       "             * Chrome.  But how to set the MIME type?  It doesn't seem\n",
       "             * to be part of the websocket stream */\n",
       "            evt.data.type = \"image/png\";\n",
       "\n",
       "            /* Free the memory for the previous frames */\n",
       "            if (fig.imageObj.src) {\n",
       "                (window.URL || window.webkitURL).revokeObjectURL(\n",
       "                    fig.imageObj.src);\n",
       "            }\n",
       "\n",
       "            fig.imageObj.src = (window.URL || window.webkitURL).createObjectURL(\n",
       "                evt.data);\n",
       "            fig.updated_canvas_event();\n",
       "            fig.waiting = false;\n",
       "            return;\n",
       "        }\n",
       "        else if (typeof evt.data === 'string' && evt.data.slice(0, 21) == \"data:image/png;base64\") {\n",
       "            fig.imageObj.src = evt.data;\n",
       "            fig.updated_canvas_event();\n",
       "            fig.waiting = false;\n",
       "            return;\n",
       "        }\n",
       "\n",
       "        var msg = JSON.parse(evt.data);\n",
       "        var msg_type = msg['type'];\n",
       "\n",
       "        // Call the  \"handle_{type}\" callback, which takes\n",
       "        // the figure and JSON message as its only arguments.\n",
       "        try {\n",
       "            var callback = fig[\"handle_\" + msg_type];\n",
       "        } catch (e) {\n",
       "            console.log(\"No handler for the '\" + msg_type + \"' message type: \", msg);\n",
       "            return;\n",
       "        }\n",
       "\n",
       "        if (callback) {\n",
       "            try {\n",
       "                // console.log(\"Handling '\" + msg_type + \"' message: \", msg);\n",
       "                callback(fig, msg);\n",
       "            } catch (e) {\n",
       "                console.log(\"Exception inside the 'handler_\" + msg_type + \"' callback:\", e, e.stack, msg);\n",
       "            }\n",
       "        }\n",
       "    };\n",
       "}\n",
       "\n",
       "// from http://stackoverflow.com/questions/1114465/getting-mouse-location-in-canvas\n",
       "mpl.findpos = function(e) {\n",
       "    //this section is from http://www.quirksmode.org/js/events_properties.html\n",
       "    var targ;\n",
       "    if (!e)\n",
       "        e = window.event;\n",
       "    if (e.target)\n",
       "        targ = e.target;\n",
       "    else if (e.srcElement)\n",
       "        targ = e.srcElement;\n",
       "    if (targ.nodeType == 3) // defeat Safari bug\n",
       "        targ = targ.parentNode;\n",
       "\n",
       "    // jQuery normalizes the pageX and pageY\n",
       "    // pageX,Y are the mouse positions relative to the document\n",
       "    // offset() returns the position of the element relative to the document\n",
       "    var x = e.pageX - $(targ).offset().left;\n",
       "    var y = e.pageY - $(targ).offset().top;\n",
       "\n",
       "    return {\"x\": x, \"y\": y};\n",
       "};\n",
       "\n",
       "/*\n",
       " * return a copy of an object with only non-object keys\n",
       " * we need this to avoid circular references\n",
       " * http://stackoverflow.com/a/24161582/3208463\n",
       " */\n",
       "function simpleKeys (original) {\n",
       "  return Object.keys(original).reduce(function (obj, key) {\n",
       "    if (typeof original[key] !== 'object')\n",
       "        obj[key] = original[key]\n",
       "    return obj;\n",
       "  }, {});\n",
       "}\n",
       "\n",
       "mpl.figure.prototype.mouse_event = function(event, name) {\n",
       "    var canvas_pos = mpl.findpos(event)\n",
       "\n",
       "    if (name === 'button_press')\n",
       "    {\n",
       "        this.canvas.focus();\n",
       "        this.canvas_div.focus();\n",
       "    }\n",
       "\n",
       "    var x = canvas_pos.x * mpl.ratio;\n",
       "    var y = canvas_pos.y * mpl.ratio;\n",
       "\n",
       "    this.send_message(name, {x: x, y: y, button: event.button,\n",
       "                             step: event.step,\n",
       "                             guiEvent: simpleKeys(event)});\n",
       "\n",
       "    /* This prevents the web browser from automatically changing to\n",
       "     * the text insertion cursor when the button is pressed.  We want\n",
       "     * to control all of the cursor setting manually through the\n",
       "     * 'cursor' event from matplotlib */\n",
       "    event.preventDefault();\n",
       "    return false;\n",
       "}\n",
       "\n",
       "mpl.figure.prototype._key_event_extra = function(event, name) {\n",
       "    // Handle any extra behaviour associated with a key event\n",
       "}\n",
       "\n",
       "mpl.figure.prototype.key_event = function(event, name) {\n",
       "\n",
       "    // Prevent repeat events\n",
       "    if (name == 'key_press')\n",
       "    {\n",
       "        if (event.which === this._key)\n",
       "            return;\n",
       "        else\n",
       "            this._key = event.which;\n",
       "    }\n",
       "    if (name == 'key_release')\n",
       "        this._key = null;\n",
       "\n",
       "    var value = '';\n",
       "    if (event.ctrlKey && event.which != 17)\n",
       "        value += \"ctrl+\";\n",
       "    if (event.altKey && event.which != 18)\n",
       "        value += \"alt+\";\n",
       "    if (event.shiftKey && event.which != 16)\n",
       "        value += \"shift+\";\n",
       "\n",
       "    value += 'k';\n",
       "    value += event.which.toString();\n",
       "\n",
       "    this._key_event_extra(event, name);\n",
       "\n",
       "    this.send_message(name, {key: value,\n",
       "                             guiEvent: simpleKeys(event)});\n",
       "    return false;\n",
       "}\n",
       "\n",
       "mpl.figure.prototype.toolbar_button_onclick = function(name) {\n",
       "    if (name == 'download') {\n",
       "        this.handle_save(this, null);\n",
       "    } else {\n",
       "        this.send_message(\"toolbar_button\", {name: name});\n",
       "    }\n",
       "};\n",
       "\n",
       "mpl.figure.prototype.toolbar_button_onmouseover = function(tooltip) {\n",
       "    this.message.textContent = tooltip;\n",
       "};\n",
       "mpl.toolbar_items = [[\"Home\", \"Reset original view\", \"fa fa-home icon-home\", \"home\"], [\"Back\", \"Back to previous view\", \"fa fa-arrow-left icon-arrow-left\", \"back\"], [\"Forward\", \"Forward to next view\", \"fa fa-arrow-right icon-arrow-right\", \"forward\"], [\"\", \"\", \"\", \"\"], [\"Pan\", \"Pan axes with left mouse, zoom with right\", \"fa fa-arrows icon-move\", \"pan\"], [\"Zoom\", \"Zoom to rectangle\", \"fa fa-square-o icon-check-empty\", \"zoom\"], [\"\", \"\", \"\", \"\"], [\"Download\", \"Download plot\", \"fa fa-floppy-o icon-save\", \"download\"]];\n",
       "\n",
       "mpl.extensions = [\"eps\", \"jpeg\", \"pdf\", \"png\", \"ps\", \"raw\", \"svg\", \"tif\"];\n",
       "\n",
       "mpl.default_extension = \"png\";var comm_websocket_adapter = function(comm) {\n",
       "    // Create a \"websocket\"-like object which calls the given IPython comm\n",
       "    // object with the appropriate methods. Currently this is a non binary\n",
       "    // socket, so there is still some room for performance tuning.\n",
       "    var ws = {};\n",
       "\n",
       "    ws.close = function() {\n",
       "        comm.close()\n",
       "    };\n",
       "    ws.send = function(m) {\n",
       "        //console.log('sending', m);\n",
       "        comm.send(m);\n",
       "    };\n",
       "    // Register the callback with on_msg.\n",
       "    comm.on_msg(function(msg) {\n",
       "        //console.log('receiving', msg['content']['data'], msg);\n",
       "        // Pass the mpl event to the overridden (by mpl) onmessage function.\n",
       "        ws.onmessage(msg['content']['data'])\n",
       "    });\n",
       "    return ws;\n",
       "}\n",
       "\n",
       "mpl.mpl_figure_comm = function(comm, msg) {\n",
       "    // This is the function which gets called when the mpl process\n",
       "    // starts-up an IPython Comm through the \"matplotlib\" channel.\n",
       "\n",
       "    var id = msg.content.data.id;\n",
       "    // Get hold of the div created by the display call when the Comm\n",
       "    // socket was opened in Python.\n",
       "    var element = $(\"#\" + id);\n",
       "    var ws_proxy = comm_websocket_adapter(comm)\n",
       "\n",
       "    function ondownload(figure, format) {\n",
       "        window.open(figure.imageObj.src);\n",
       "    }\n",
       "\n",
       "    var fig = new mpl.figure(id, ws_proxy,\n",
       "                           ondownload,\n",
       "                           element.get(0));\n",
       "\n",
       "    // Call onopen now - mpl needs it, as it is assuming we've passed it a real\n",
       "    // web socket which is closed, not our websocket->open comm proxy.\n",
       "    ws_proxy.onopen();\n",
       "\n",
       "    fig.parent_element = element.get(0);\n",
       "    fig.cell_info = mpl.find_output_cell(\"<div id='\" + id + \"'></div>\");\n",
       "    if (!fig.cell_info) {\n",
       "        console.error(\"Failed to find cell for figure\", id, fig);\n",
       "        return;\n",
       "    }\n",
       "\n",
       "    var output_index = fig.cell_info[2]\n",
       "    var cell = fig.cell_info[0];\n",
       "\n",
       "};\n",
       "\n",
       "mpl.figure.prototype.handle_close = function(fig, msg) {\n",
       "    var width = fig.canvas.width/mpl.ratio\n",
       "    fig.root.unbind('remove')\n",
       "\n",
       "    // Update the output cell to use the data from the current canvas.\n",
       "    fig.push_to_output();\n",
       "    var dataURL = fig.canvas.toDataURL();\n",
       "    // Re-enable the keyboard manager in IPython - without this line, in FF,\n",
       "    // the notebook keyboard shortcuts fail.\n",
       "    IPython.keyboard_manager.enable()\n",
       "    $(fig.parent_element).html('<img src=\"' + dataURL + '\" width=\"' + width + '\">');\n",
       "    fig.close_ws(fig, msg);\n",
       "}\n",
       "\n",
       "mpl.figure.prototype.close_ws = function(fig, msg){\n",
       "    fig.send_message('closing', msg);\n",
       "    // fig.ws.close()\n",
       "}\n",
       "\n",
       "mpl.figure.prototype.push_to_output = function(remove_interactive) {\n",
       "    // Turn the data on the canvas into data in the output cell.\n",
       "    var width = this.canvas.width/mpl.ratio\n",
       "    var dataURL = this.canvas.toDataURL();\n",
       "    this.cell_info[1]['text/html'] = '<img src=\"' + dataURL + '\" width=\"' + width + '\">';\n",
       "}\n",
       "\n",
       "mpl.figure.prototype.updated_canvas_event = function() {\n",
       "    // Tell IPython that the notebook contents must change.\n",
       "    IPython.notebook.set_dirty(true);\n",
       "    this.send_message(\"ack\", {});\n",
       "    var fig = this;\n",
       "    // Wait a second, then push the new image to the DOM so\n",
       "    // that it is saved nicely (might be nice to debounce this).\n",
       "    setTimeout(function () { fig.push_to_output() }, 1000);\n",
       "}\n",
       "\n",
       "mpl.figure.prototype._init_toolbar = function() {\n",
       "    var fig = this;\n",
       "\n",
       "    var nav_element = $('<div/>')\n",
       "    nav_element.attr('style', 'width: 100%');\n",
       "    this.root.append(nav_element);\n",
       "\n",
       "    // Define a callback function for later on.\n",
       "    function toolbar_event(event) {\n",
       "        return fig.toolbar_button_onclick(event['data']);\n",
       "    }\n",
       "    function toolbar_mouse_event(event) {\n",
       "        return fig.toolbar_button_onmouseover(event['data']);\n",
       "    }\n",
       "\n",
       "    for(var toolbar_ind in mpl.toolbar_items){\n",
       "        var name = mpl.toolbar_items[toolbar_ind][0];\n",
       "        var tooltip = mpl.toolbar_items[toolbar_ind][1];\n",
       "        var image = mpl.toolbar_items[toolbar_ind][2];\n",
       "        var method_name = mpl.toolbar_items[toolbar_ind][3];\n",
       "\n",
       "        if (!name) { continue; };\n",
       "\n",
       "        var button = $('<button class=\"btn btn-default\" href=\"#\" title=\"' + name + '\"><i class=\"fa ' + image + ' fa-lg\"></i></button>');\n",
       "        button.click(method_name, toolbar_event);\n",
       "        button.mouseover(tooltip, toolbar_mouse_event);\n",
       "        nav_element.append(button);\n",
       "    }\n",
       "\n",
       "    // Add the status bar.\n",
       "    var status_bar = $('<span class=\"mpl-message\" style=\"text-align:right; float: right;\"/>');\n",
       "    nav_element.append(status_bar);\n",
       "    this.message = status_bar[0];\n",
       "\n",
       "    // Add the close button to the window.\n",
       "    var buttongrp = $('<div class=\"btn-group inline pull-right\"></div>');\n",
       "    var button = $('<button class=\"btn btn-mini btn-primary\" href=\"#\" title=\"Stop Interaction\"><i class=\"fa fa-power-off icon-remove icon-large\"></i></button>');\n",
       "    button.click(function (evt) { fig.handle_close(fig, {}); } );\n",
       "    button.mouseover('Stop Interaction', toolbar_mouse_event);\n",
       "    buttongrp.append(button);\n",
       "    var titlebar = this.root.find($('.ui-dialog-titlebar'));\n",
       "    titlebar.prepend(buttongrp);\n",
       "}\n",
       "\n",
       "mpl.figure.prototype._root_extra_style = function(el){\n",
       "    var fig = this\n",
       "    el.on(\"remove\", function(){\n",
       "\tfig.close_ws(fig, {});\n",
       "    });\n",
       "}\n",
       "\n",
       "mpl.figure.prototype._canvas_extra_style = function(el){\n",
       "    // this is important to make the div 'focusable\n",
       "    el.attr('tabindex', 0)\n",
       "    // reach out to IPython and tell the keyboard manager to turn it's self\n",
       "    // off when our div gets focus\n",
       "\n",
       "    // location in version 3\n",
       "    if (IPython.notebook.keyboard_manager) {\n",
       "        IPython.notebook.keyboard_manager.register_events(el);\n",
       "    }\n",
       "    else {\n",
       "        // location in version 2\n",
       "        IPython.keyboard_manager.register_events(el);\n",
       "    }\n",
       "\n",
       "}\n",
       "\n",
       "mpl.figure.prototype._key_event_extra = function(event, name) {\n",
       "    var manager = IPython.notebook.keyboard_manager;\n",
       "    if (!manager)\n",
       "        manager = IPython.keyboard_manager;\n",
       "\n",
       "    // Check for shift+enter\n",
       "    if (event.shiftKey && event.which == 13) {\n",
       "        this.canvas_div.blur();\n",
       "        event.shiftKey = false;\n",
       "        // Send a \"J\" for go to next cell\n",
       "        event.which = 74;\n",
       "        event.keyCode = 74;\n",
       "        manager.command_mode();\n",
       "        manager.handle_keydown(event);\n",
       "    }\n",
       "}\n",
       "\n",
       "mpl.figure.prototype.handle_save = function(fig, msg) {\n",
       "    fig.ondownload(fig, null);\n",
       "}\n",
       "\n",
       "\n",
       "mpl.find_output_cell = function(html_output) {\n",
       "    // Return the cell and output element which can be found *uniquely* in the notebook.\n",
       "    // Note - this is a bit hacky, but it is done because the \"notebook_saving.Notebook\"\n",
       "    // IPython event is triggered only after the cells have been serialised, which for\n",
       "    // our purposes (turning an active figure into a static one), is too late.\n",
       "    var cells = IPython.notebook.get_cells();\n",
       "    var ncells = cells.length;\n",
       "    for (var i=0; i<ncells; i++) {\n",
       "        var cell = cells[i];\n",
       "        if (cell.cell_type === 'code'){\n",
       "            for (var j=0; j<cell.output_area.outputs.length; j++) {\n",
       "                var data = cell.output_area.outputs[j];\n",
       "                if (data.data) {\n",
       "                    // IPython >= 3 moved mimebundle to data attribute of output\n",
       "                    data = data.data;\n",
       "                }\n",
       "                if (data['text/html'] == html_output) {\n",
       "                    return [cell, data, j];\n",
       "                }\n",
       "            }\n",
       "        }\n",
       "    }\n",
       "}\n",
       "\n",
       "// Register the function which deals with the matplotlib target/channel.\n",
       "// The kernel may be null if the page has been refreshed.\n",
       "if (IPython.notebook.kernel != null) {\n",
       "    IPython.notebook.kernel.comm_manager.register_target('matplotlib', mpl.mpl_figure_comm);\n",
       "}\n"
      ],
      "text/plain": [
       "<IPython.core.display.Javascript object>"
      ]
     },
     "metadata": {},
     "output_type": "display_data"
    },
    {
     "data": {
      "text/html": [
       "<img src=\"data:image/png;base64,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\" width=\"640\">"
      ],
      "text/plain": [
       "<IPython.core.display.HTML object>"
      ]
     },
     "metadata": {},
     "output_type": "display_data"
    }
   ],
   "source": [
    "df_sentences['words'].map(len).hist()\n",
    "plt.show()"
   ]
  },
  {
   "cell_type": "code",
   "execution_count": 30,
   "metadata": {
    "ExecuteTime": {
     "end_time": "2018-11-10T05:59:42.342699Z",
     "start_time": "2018-11-10T05:59:42.248284Z"
    }
   },
   "outputs": [
    {
     "data": {
      "text/plain": [
       "26"
      ]
     },
     "execution_count": 30,
     "metadata": {},
     "output_type": "execute_result"
    }
   ],
   "source": [
    "max_sentence_length = int(df_sentences['words'].map(len).describe()['75%'] + 1)\n",
    "max_sentence_length"
   ]
  },
  {
   "cell_type": "code",
   "execution_count": 31,
   "metadata": {
    "ExecuteTime": {
     "end_time": "2018-11-10T05:59:43.902238Z",
     "start_time": "2018-11-10T05:59:43.890627Z"
    }
   },
   "outputs": [],
   "source": [
    "def fill_sentence(sentence):\n",
    "    tokens_to_fill = int(max_sentence_length - len(sentence))\n",
    "    \n",
    "    sentence.append('<END>')\n",
    "    sentence.extend(['<PAD>']*tokens_to_fill)\n",
    "    \n",
    "    return sentence"
   ]
  },
  {
   "cell_type": "code",
   "execution_count": 32,
   "metadata": {
    "ExecuteTime": {
     "end_time": "2018-11-10T05:59:45.517892Z",
     "start_time": "2018-11-10T05:59:45.249592Z"
    }
   },
   "outputs": [],
   "source": [
    "df_sentences[\"words\"] = df_sentences[\"words\"].map(fill_sentence)\n",
    "df_sentences[\"tags\"] = df_sentences[\"tags\"].map(fill_sentence)"
   ]
  },
  {
   "cell_type": "code",
   "execution_count": 33,
   "metadata": {
    "ExecuteTime": {
     "end_time": "2018-11-10T05:59:46.237015Z",
     "start_time": "2018-11-10T05:59:46.207614Z"
    }
   },
   "outputs": [
    {
     "data": {
      "text/html": [
       "<div>\n",
       "<style scoped>\n",
       "    .dataframe tbody tr th:only-of-type {\n",
       "        vertical-align: middle;\n",
       "    }\n",
       "\n",
       "    .dataframe tbody tr th {\n",
       "        vertical-align: top;\n",
       "    }\n",
       "\n",
       "    .dataframe thead th {\n",
       "        text-align: right;\n",
       "    }\n",
       "</style>\n",
       "<table border=\"1\" class=\"dataframe\">\n",
       "  <thead>\n",
       "    <tr style=\"text-align: right;\">\n",
       "      <th></th>\n",
       "      <th>words</th>\n",
       "      <th>tags</th>\n",
       "    </tr>\n",
       "  </thead>\n",
       "  <tbody>\n",
       "    <tr>\n",
       "      <th>0</th>\n",
       "      <td>[salto, sete, &lt;END&gt;, &lt;PAD&gt;, &lt;PAD&gt;, &lt;PAD&gt;, &lt;PAD...</td>\n",
       "      <td>[N, ADJ, &lt;END&gt;, &lt;PAD&gt;, &lt;PAD&gt;, &lt;PAD&gt;, &lt;PAD&gt;, &lt;P...</td>\n",
       "    </tr>\n",
       "    <tr>\n",
       "      <th>1</th>\n",
       "      <td>[o, grande, assunto, da, semana, em, nova, yor...</td>\n",
       "      <td>[ART, ADJ, N, PREP+ART, N, PREP, NPROP, NPROP,...</td>\n",
       "    </tr>\n",
       "    <tr>\n",
       "      <th>2</th>\n",
       "      <td>[número, duplo, especial, ,, é, inteirinho, de...</td>\n",
       "      <td>[N, ADJ, ADJ, PU, V, ADJ, PCP, PREP, N, PREP, ...</td>\n",
       "    </tr>\n",
       "    <tr>\n",
       "      <th>3</th>\n",
       "      <td>[a, endiabrada, editora, tina, brown, ex, da, ...</td>\n",
       "      <td>[ART, PCP, N, NPROP, NPROP, N, PREP+ART, PU, N...</td>\n",
       "    </tr>\n",
       "    <tr>\n",
       "      <th>4</th>\n",
       "      <td>[além, das, fotos, de, richard, avedon, ., &lt;EN...</td>\n",
       "      <td>[PREP, PREP+ART, N, PREP, NPROP, NPROP, PU, &lt;E...</td>\n",
       "    </tr>\n",
       "  </tbody>\n",
       "</table>\n",
       "</div>"
      ],
      "text/plain": [
       "                                               words  \\\n",
       "0  [salto, sete, <END>, <PAD>, <PAD>, <PAD>, <PAD...   \n",
       "1  [o, grande, assunto, da, semana, em, nova, yor...   \n",
       "2  [número, duplo, especial, ,, é, inteirinho, de...   \n",
       "3  [a, endiabrada, editora, tina, brown, ex, da, ...   \n",
       "4  [além, das, fotos, de, richard, avedon, ., <EN...   \n",
       "\n",
       "                                                tags  \n",
       "0  [N, ADJ, <END>, <PAD>, <PAD>, <PAD>, <PAD>, <P...  \n",
       "1  [ART, ADJ, N, PREP+ART, N, PREP, NPROP, NPROP,...  \n",
       "2  [N, ADJ, ADJ, PU, V, ADJ, PCP, PREP, N, PREP, ...  \n",
       "3  [ART, PCP, N, NPROP, NPROP, N, PREP+ART, PU, N...  \n",
       "4  [PREP, PREP+ART, N, PREP, NPROP, NPROP, PU, <E...  "
      ]
     },
     "execution_count": 33,
     "metadata": {},
     "output_type": "execute_result"
    }
   ],
   "source": [
    "df_test.head()"
   ]
  },
  {
   "cell_type": "markdown",
   "metadata": {},
   "source": [
    "## Embedding - Word2Vec"
   ]
  },
  {
   "cell_type": "code",
   "execution_count": 34,
   "metadata": {
    "ExecuteTime": {
     "end_time": "2018-11-10T05:59:47.896505Z",
     "start_time": "2018-11-10T05:59:47.820918Z"
    }
   },
   "outputs": [
    {
     "name": "stdout",
     "output_type": "stream",
     "text": [
      "37948\n",
      "9987\n",
      "1997\n",
      "49932\n"
     ]
    }
   ],
   "source": [
    "all_words = train_words + test_words + dev_words\n",
    "print(len(train_words))\n",
    "print(len(test_words))\n",
    "print(len(dev_words))\n",
    "total_sentences = len(all_words)\n",
    "print(total_sentences)"
   ]
  },
  {
   "cell_type": "code",
   "execution_count": 35,
   "metadata": {
    "ExecuteTime": {
     "end_time": "2018-11-10T06:06:56.670939Z",
     "start_time": "2018-11-10T05:59:49.326860Z"
    }
   },
   "outputs": [],
   "source": [
    "w2v_model = gensim.models.KeyedVectors.load_word2vec_format(paths['word2vec'])"
   ]
  },
  {
   "cell_type": "code",
   "execution_count": null,
   "metadata": {
    "ExecuteTime": {
     "start_time": "2018-11-10T05:50:57.952Z"
    }
   },
   "outputs": [],
   "source": [
    "# model.train(all_words, total_examples=total_sentences, epochs=50)"
   ]
  },
  {
   "cell_type": "code",
   "execution_count": 36,
   "metadata": {
    "ExecuteTime": {
     "end_time": "2018-11-10T06:16:15.172931Z",
     "start_time": "2018-11-10T06:16:13.886999Z"
    },
    "scrolled": true
   },
   "outputs": [
    {
     "data": {
      "text/plain": [
       "[('hemopa', 0.8358802199363708),\n",
       " ('hemonúcleo', 0.8148629069328308),\n",
       " ('hemoal', 0.7524207830429077),\n",
       " ('hemorio', 0.7506005764007568),\n",
       " ('procon', 0.73494553565979),\n",
       " ('centrinho', 0.7315340042114258),\n",
       " ('hemoam', 0.7078859806060791),\n",
       " ('incor', 0.7009122371673584),\n",
       " ('detran', 0.7000018358230591),\n",
       " ('poupatempo', 0.6961973905563354)]"
      ]
     },
     "execution_count": 36,
     "metadata": {},
     "output_type": "execute_result"
    }
   ],
   "source": [
    "w2v_model.similar_by_vector('hemocentro')"
   ]
  },
  {
   "cell_type": "markdown",
   "metadata": {},
   "source": [
    "### Adiciona vetores extras"
   ]
  },
  {
   "cell_type": "code",
   "execution_count": 37,
   "metadata": {
    "ExecuteTime": {
     "end_time": "2018-11-10T06:16:24.599476Z",
     "start_time": "2018-11-10T06:16:23.977605Z"
    }
   },
   "outputs": [],
   "source": [
    "w2v_model.add(['<PAD>','<END>'], [[0.1]*100,[0.2]*100])"
   ]
  },
  {
   "cell_type": "markdown",
   "metadata": {},
   "source": [
    "## Arquitetura do modelo"
   ]
  },
  {
   "cell_type": "code",
   "execution_count": 38,
   "metadata": {
    "ExecuteTime": {
     "end_time": "2018-11-10T06:16:26.929787Z",
     "start_time": "2018-11-10T06:16:26.922285Z"
    }
   },
   "outputs": [
    {
     "data": {
      "text/plain": [
       "<keras.engine.sequential.Sequential at 0x7fd75548a5c0>"
      ]
     },
     "execution_count": 38,
     "metadata": {},
     "output_type": "execute_result"
    }
   ],
   "source": [
    "model = keras.models.Sequential()\n",
    "model"
   ]
  },
  {
   "cell_type": "markdown",
   "metadata": {},
   "source": [
    "### Adiciona camada de embedding"
   ]
  },
  {
   "cell_type": "code",
   "execution_count": 39,
   "metadata": {
    "ExecuteTime": {
     "end_time": "2018-11-10T06:16:29.248306Z",
     "start_time": "2018-11-10T06:16:29.234415Z"
    }
   },
   "outputs": [
    {
     "name": "stdout",
     "output_type": "stream",
     "text": [
      "929608\n",
      "26\n",
      "37948\n"
     ]
    }
   ],
   "source": [
    "print(len(w2v_model.vocab))\n",
    "print(max_sentence_length)\n",
    "print(len(df_train))"
   ]
  },
  {
   "cell_type": "code",
   "execution_count": 40,
   "metadata": {
    "ExecuteTime": {
     "end_time": "2018-11-10T06:16:30.882662Z",
     "start_time": "2018-11-10T06:16:30.861421Z"
    }
   },
   "outputs": [],
   "source": [
    "model.add(keras.layers.InputLayer(input_shape=(max_sentence_length, )))"
   ]
  },
  {
   "cell_type": "code",
   "execution_count": 23,
   "metadata": {
    "ExecuteTime": {
     "end_time": "2018-11-10T05:57:28.772351Z",
     "start_time": "2018-11-10T05:57:27.764943Z"
    }
   },
   "outputs": [
    {
     "name": "stdout",
     "output_type": "stream",
     "text": [
      "Result embedding shape: (929608, 100)\n",
      "Checking similar words:\n",
      "  modelo -> protótipo (0.78), conceito (0.75), padrão (0.75), propulsor (0.74), paradigma (0.73), layout (0.73), prototipo (0.72), monovolume (0.72)\n",
      "  rede -> emissora (0.73), repetidora (0.72), tv (0.72), retransmissora (0.70), operadora (0.70), rádio (0.70), televisão (0.67), transmundial (0.67)\n",
      "  treino -> treinamento (0.75), técnico-tático (0.68), técnico/tático (0.67), treinos (0.67), voo (0.66), vôo (0.63), rachão (0.62), trenamento (0.60)\n",
      "  aprendizado -> aprimoramento (0.77), auto-conhecimento (0.74), autoconhecimento (0.71), auto-aperfeiçoamento (0.70), refinamento (0.68), amadurecimento (0.68), autocontrole (0.67), letramento (0.66)\n",
      "\n",
      "Preparing the data for LSTM...\n",
      "0 jersei\n",
      "1 atinge\n",
      "2 média\n",
      "3 de\n",
      "4 cr$\n",
      "5 1,4\n"
     ]
    },
    {
     "ename": "KeyError",
     "evalue": "'1,4'",
     "output_type": "error",
     "traceback": [
      "\u001b[0;31m---------------------------------------------------------------------------\u001b[0m",
      "\u001b[0;31mKeyError\u001b[0m                                  Traceback (most recent call last)",
      "\u001b[0;32m<ipython-input-23-89500a0ad117>\u001b[0m in \u001b[0;36m<module>\u001b[0;34m\u001b[0m\n\u001b[1;32m     18\u001b[0m     \u001b[0;32mfor\u001b[0m \u001b[0mt\u001b[0m\u001b[0;34m,\u001b[0m \u001b[0mword\u001b[0m \u001b[0;32min\u001b[0m \u001b[0menumerate\u001b[0m\u001b[0;34m(\u001b[0m\u001b[0msentence\u001b[0m\u001b[0;34m[\u001b[0m\u001b[0;34m:\u001b[0m\u001b[0;34m-\u001b[0m\u001b[0;36m1\u001b[0m\u001b[0;34m]\u001b[0m\u001b[0;34m)\u001b[0m\u001b[0;34m:\u001b[0m\u001b[0;34m\u001b[0m\u001b[0m\n\u001b[1;32m     19\u001b[0m         \u001b[0mprint\u001b[0m\u001b[0;34m(\u001b[0m\u001b[0mt\u001b[0m\u001b[0;34m,\u001b[0m \u001b[0mword\u001b[0m\u001b[0;34m)\u001b[0m\u001b[0;34m\u001b[0m\u001b[0m\n\u001b[0;32m---> 20\u001b[0;31m         \u001b[0mtrain_x\u001b[0m\u001b[0;34m[\u001b[0m\u001b[0mi\u001b[0m\u001b[0;34m,\u001b[0m \u001b[0mt\u001b[0m\u001b[0;34m]\u001b[0m \u001b[0;34m=\u001b[0m \u001b[0mword2idx\u001b[0m\u001b[0;34m(\u001b[0m\u001b[0mword\u001b[0m\u001b[0;34m)\u001b[0m\u001b[0;34m\u001b[0m\u001b[0m\n\u001b[0m\u001b[1;32m     21\u001b[0m     \u001b[0mtrain_y\u001b[0m\u001b[0;34m[\u001b[0m\u001b[0mi\u001b[0m\u001b[0;34m]\u001b[0m \u001b[0;34m=\u001b[0m \u001b[0mword2idx\u001b[0m\u001b[0;34m(\u001b[0m\u001b[0msentence\u001b[0m\u001b[0;34m[\u001b[0m\u001b[0;34m-\u001b[0m\u001b[0;36m1\u001b[0m\u001b[0;34m]\u001b[0m\u001b[0;34m)\u001b[0m\u001b[0;34m\u001b[0m\u001b[0m\n\u001b[1;32m     22\u001b[0m \u001b[0mprint\u001b[0m\u001b[0;34m(\u001b[0m\u001b[0;34m'train_x shape:'\u001b[0m\u001b[0;34m,\u001b[0m \u001b[0mtrain_x\u001b[0m\u001b[0;34m.\u001b[0m\u001b[0mshape\u001b[0m\u001b[0;34m)\u001b[0m\u001b[0;34m\u001b[0m\u001b[0m\n",
      "\u001b[0;32m<ipython-input-23-89500a0ad117>\u001b[0m in \u001b[0;36mword2idx\u001b[0;34m(word)\u001b[0m\n\u001b[1;32m      8\u001b[0m \u001b[0;34m\u001b[0m\u001b[0m\n\u001b[1;32m      9\u001b[0m \u001b[0;32mdef\u001b[0m \u001b[0mword2idx\u001b[0m\u001b[0;34m(\u001b[0m\u001b[0mword\u001b[0m\u001b[0;34m)\u001b[0m\u001b[0;34m:\u001b[0m\u001b[0;34m\u001b[0m\u001b[0m\n\u001b[0;32m---> 10\u001b[0;31m     \u001b[0;32mreturn\u001b[0m \u001b[0mw2v_model\u001b[0m\u001b[0;34m.\u001b[0m\u001b[0mvocab\u001b[0m\u001b[0;34m[\u001b[0m\u001b[0mword\u001b[0m\u001b[0;34m]\u001b[0m\u001b[0;34m.\u001b[0m\u001b[0mindex\u001b[0m\u001b[0;34m\u001b[0m\u001b[0m\n\u001b[0m\u001b[1;32m     11\u001b[0m \u001b[0;32mdef\u001b[0m \u001b[0midx2word\u001b[0m\u001b[0;34m(\u001b[0m\u001b[0midx\u001b[0m\u001b[0;34m)\u001b[0m\u001b[0;34m:\u001b[0m\u001b[0;34m\u001b[0m\u001b[0m\n\u001b[1;32m     12\u001b[0m     \u001b[0;32mreturn\u001b[0m \u001b[0mw2v_model\u001b[0m\u001b[0;34m.\u001b[0m\u001b[0mindex2word\u001b[0m\u001b[0;34m[\u001b[0m\u001b[0midx\u001b[0m\u001b[0;34m]\u001b[0m\u001b[0;34m\u001b[0m\u001b[0m\n",
      "\u001b[0;31mKeyError\u001b[0m: '1,4'"
     ]
    }
   ],
   "source": [
    "pretrained_weights = w2v_model.vectors\n",
    "vocab_size, emdedding_size = pretrained_weights.shape\n",
    "print('Result embedding shape:', pretrained_weights.shape)\n",
    "print('Checking similar words:')\n",
    "for word in ['modelo', 'rede', 'treino', 'aprendizado']:\n",
    "    most_similar = ', '.join('%s (%.2f)' % (similar, dist) for similar, dist in w2v_model.most_similar(word)[:8])\n",
    "    print('  %s -> %s' % (word, most_similar))\n",
    "\n",
    "def word2idx(word):\n",
    "    return w2v_model.vocab[word].index\n",
    "def idx2word(idx):\n",
    "    return w2v_model.index2word[idx]\n",
    "\n",
    "print('\\nPreparing the data for LSTM...')\n",
    "train_x = np.zeros([len(df_train), max_sentence_length], dtype=np.int32)\n",
    "train_y = np.zeros([len(df_train)], dtype=np.int32)\n",
    "for i, sentence in enumerate(df_train['words']):\n",
    "    for t, word in enumerate(sentence[:-1]):\n",
    "        print(t, word)\n",
    "        train_x[i, t] = word2idx(word)\n",
    "    train_y[i] = word2idx(sentence[-1])\n",
    "print('train_x shape:', train_x.shape)\n",
    "print('train_y shape:', train_y.shape)"
   ]
  },
  {
   "cell_type": "code",
   "execution_count": null,
   "metadata": {
    "ExecuteTime": {
     "end_time": "2018-11-10T05:57:28.786048Z",
     "start_time": "2018-11-10T05:50:58.069Z"
    },
    "scrolled": false
   },
   "outputs": [],
   "source": [
    "model.add(\n",
    "    keras.layers.Embedding(\n",
    "        input_dim=len(w2v_model.vocab),\n",
    "        output_dim=300,\n",
    "        input_length=max_sentence_length\n",
    "    )\n",
    ")"
   ]
  },
  {
   "cell_type": "code",
   "execution_count": null,
   "metadata": {
    "ExecuteTime": {
     "end_time": "2018-11-10T05:57:28.788536Z",
     "start_time": "2018-11-10T05:50:58.075Z"
    }
   },
   "outputs": [],
   "source": [
    "model.add(Bidirectional(LSTM(256, return_sequences=True)))\n",
    "model.add(TimeDistributed(Dense(len(tag2index))))\n",
    "model.add(Activation('softmax'))\n",
    " \n",
    "model.compile(loss='categorical_crossentropy',\n",
    "              optimizer=Adam(0.001),\n",
    "              metrics=['accuracy'])\n",
    " \n",
    "model.summary()\n"
   ]
  }
 ],
 "metadata": {
  "kernelspec": {
   "display_name": "Python 3",
   "language": "python",
   "name": "python3"
  },
  "language_info": {
   "codemirror_mode": {
    "name": "ipython",
    "version": 3
   },
   "file_extension": ".py",
   "mimetype": "text/x-python",
   "name": "python",
   "nbconvert_exporter": "python",
   "pygments_lexer": "ipython3",
   "version": "3.6.6"
  }
 },
 "nbformat": 4,
 "nbformat_minor": 2
}
