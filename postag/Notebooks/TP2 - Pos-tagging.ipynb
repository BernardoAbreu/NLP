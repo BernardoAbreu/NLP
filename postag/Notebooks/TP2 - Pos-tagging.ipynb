{
 "cells": [
  {
   "cell_type": "markdown",
   "metadata": {},
   "source": [
    "# Trabalho Prático 2\n",
    "## Processamento de Linguagem Natural - 2018/2\n",
    "\n",
    "### Bernardo de Almeida Abreu - 2018718155"
   ]
  },
  {
   "cell_type": "code",
   "execution_count": 1,
   "metadata": {
    "ExecuteTime": {
     "end_time": "2018-11-11T22:19:45.297723Z",
     "start_time": "2018-11-11T22:19:45.276119Z"
    }
   },
   "outputs": [
    {
     "name": "stderr",
     "output_type": "stream",
     "text": [
      "/home/bernardo/anaconda3/lib/python3.6/site-packages/h5py/__init__.py:36: FutureWarning: Conversion of the second argument of issubdtype from `float` to `np.floating` is deprecated. In future, it will be treated as `np.float64 == np.dtype(float).type`.\n",
      "  from ._conv import register_converters as _register_converters\n",
      "Using TensorFlow backend.\n"
     ]
    }
   ],
   "source": [
    "%matplotlib notebook\n",
    "\n",
    "import numpy as np\n",
    "import pandas as pd\n",
    "import re\n",
    "import gensim\n",
    "import nltk\n",
    "import keras\n",
    "import matplotlib.pyplot as plt\n",
    "from keras.models import model_from_json"
   ]
  },
  {
   "cell_type": "code",
   "execution_count": 2,
   "metadata": {
    "ExecuteTime": {
     "end_time": "2018-11-11T20:03:42.563127Z",
     "start_time": "2018-11-11T20:03:42.543143Z"
    }
   },
   "outputs": [],
   "source": [
    "paths = {\n",
    "    'train': '../macmorpho-v3/macmorpho-train.txt',\n",
    "    'test': '../macmorpho-v3/macmorpho-test.txt',\n",
    "    'dev': '../macmorpho-v3/macmorpho-dev.txt',\n",
    "    'word2vec': '../data/skip_s100.txt',\n",
    "    'model': '../src/model.json',\n",
    "    'model_weights': '../src/model.h5'\n",
    "}"
   ]
  },
  {
   "cell_type": "markdown",
   "metadata": {},
   "source": [
    "## Embedding - Word2Vec"
   ]
  },
  {
   "cell_type": "code",
   "execution_count": 3,
   "metadata": {
    "ExecuteTime": {
     "end_time": "2018-11-11T20:34:49.912752Z",
     "start_time": "2018-11-11T20:03:45.914274Z"
    }
   },
   "outputs": [],
   "source": [
    "w2v_model = gensim.models.KeyedVectors.load_word2vec_format(paths['word2vec'])"
   ]
  },
  {
   "cell_type": "code",
   "execution_count": 4,
   "metadata": {
    "ExecuteTime": {
     "end_time": "2018-11-11T20:42:23.377836Z",
     "start_time": "2018-11-11T20:42:22.189410Z"
    },
    "scrolled": true
   },
   "outputs": [
    {
     "name": "stderr",
     "output_type": "stream",
     "text": [
      "/home/bernardo/anaconda3/lib/python3.6/site-packages/gensim/matutils.py:737: FutureWarning: Conversion of the second argument of issubdtype from `int` to `np.signedinteger` is deprecated. In future, it will be treated as `np.int64 == np.dtype(int).type`.\n",
      "  if np.issubdtype(vec.dtype, np.int):\n"
     ]
    },
    {
     "data": {
      "text/plain": [
       "[('hemopa', 0.8358802199363708),\n",
       " ('hemonúcleo', 0.8148629069328308),\n",
       " ('hemoal', 0.7524209022521973),\n",
       " ('hemorio', 0.7506005764007568),\n",
       " ('procon', 0.73494553565979),\n",
       " ('centrinho', 0.7315341234207153),\n",
       " ('hemoam', 0.7078859806060791),\n",
       " ('incor', 0.7009121775627136),\n",
       " ('detran', 0.7000018358230591),\n",
       " ('poupatempo', 0.6961973905563354)]"
      ]
     },
     "execution_count": 4,
     "metadata": {},
     "output_type": "execute_result"
    }
   ],
   "source": [
    "w2v_model.similar_by_vector('hemocentro')"
   ]
  },
  {
   "cell_type": "markdown",
   "metadata": {},
   "source": [
    "### Adiciona vetores extras"
   ]
  },
  {
   "cell_type": "code",
   "execution_count": 5,
   "metadata": {
    "ExecuteTime": {
     "end_time": "2018-11-11T20:42:32.888793Z",
     "start_time": "2018-11-11T20:42:32.376028Z"
    }
   },
   "outputs": [],
   "source": [
    "w2v_model.add(['<PAD>','<OOV>'], [[0.1]*100,[0.2]*100])"
   ]
  },
  {
   "cell_type": "code",
   "execution_count": 6,
   "metadata": {
    "ExecuteTime": {
     "end_time": "2018-11-11T20:43:27.189931Z",
     "start_time": "2018-11-11T20:43:27.176644Z"
    }
   },
   "outputs": [
    {
     "name": "stdout",
     "output_type": "stream",
     "text": [
      "True\n"
     ]
    }
   ],
   "source": [
    "print('<PAD>' in w2v_model)"
   ]
  },
  {
   "cell_type": "markdown",
   "metadata": {},
   "source": [
    "## Leitura do texto"
   ]
  },
  {
   "cell_type": "code",
   "execution_count": 7,
   "metadata": {
    "ExecuteTime": {
     "end_time": "2018-11-11T20:43:32.737582Z",
     "start_time": "2018-11-11T20:43:32.728194Z"
    }
   },
   "outputs": [],
   "source": [
    "def read_text(filename):\n",
    "    with open(filename, 'r') as f:\n",
    "        return f.readlines()"
   ]
  },
  {
   "cell_type": "code",
   "execution_count": 8,
   "metadata": {
    "ExecuteTime": {
     "end_time": "2018-11-11T20:43:34.328649Z",
     "start_time": "2018-11-11T20:43:34.244288Z"
    },
    "scrolled": true
   },
   "outputs": [
    {
     "name": "stdout",
     "output_type": "stream",
     "text": [
      "Jersei_N atinge_V média_N de_PREP Cr$_CUR 1,4_NUM milhão_N na_PREP+ART venda_N da_PREP+ART Pinhal_NPROP em_PREP São_NPROP Paulo_NPROP ._PU\n",
      "\n",
      "Salto_N sete_ADJ\n",
      "\n",
      "Ainda_ADV em_PREP dezembro_N de_PREP 1990_N ,_PU foi_V editada_PCP a_ART famosa_ADJ 289_N ,_PU que_PRO-KS modificava_V a_ART sistemática_N da_PREP+ART arrecadação_N do_PREP+ART ITR_NPROP e_KC alterava_V suas_PROADJ alíquotas_N ._PU\n",
      "\n"
     ]
    }
   ],
   "source": [
    "train_text = read_text(paths['train'])\n",
    "test_text = read_text(paths['test'])\n",
    "dev_text = read_text(paths['dev'])\n",
    "\n",
    "print(train_text[0])\n",
    "print(test_text[0])\n",
    "print(dev_text[0])"
   ]
  },
  {
   "cell_type": "markdown",
   "metadata": {},
   "source": [
    "### Separação de palavras e tags"
   ]
  },
  {
   "cell_type": "code",
   "execution_count": 9,
   "metadata": {
    "ExecuteTime": {
     "end_time": "2018-11-11T20:43:36.440292Z",
     "start_time": "2018-11-11T20:43:36.427045Z"
    }
   },
   "outputs": [],
   "source": [
    "def split_word_tags(text):\n",
    "    word_lines = []\n",
    "    tag_lines = []\n",
    "    for line in text:\n",
    "        words, tags = zip(*[tagged_word.split('_') for tagged_word in line.split()])\n",
    "        word_lines.append([w.lower() for w in words])\n",
    "        tag_lines.append(list(tags))\n",
    "    return word_lines, tag_lines"
   ]
  },
  {
   "cell_type": "code",
   "execution_count": 10,
   "metadata": {
    "ExecuteTime": {
     "end_time": "2018-11-11T20:44:08.590318Z",
     "start_time": "2018-11-11T20:44:06.440366Z"
    }
   },
   "outputs": [
    {
     "name": "stdout",
     "output_type": "stream",
     "text": [
      "['jersei', 'atinge', 'média', 'de', 'cr$', '1,4', 'milhão', 'na', 'venda', 'da', 'pinhal', 'em', 'são', 'paulo', '.']\n",
      "['N', 'V', 'N', 'PREP', 'CUR', 'NUM', 'N', 'PREP+ART', 'N', 'PREP+ART', 'NPROP', 'PREP', 'NPROP', 'NPROP', 'PU']\n"
     ]
    }
   ],
   "source": [
    "train_words, train_tags = split_word_tags(train_text)\n",
    "print(train_words[0])\n",
    "print(train_tags[0])\n",
    "\n",
    "test_words, test_tags = split_word_tags(test_text)\n",
    "dev_words, dev_tags = split_word_tags(dev_text)\n"
   ]
  },
  {
   "cell_type": "code",
   "execution_count": 11,
   "metadata": {
    "ExecuteTime": {
     "end_time": "2018-11-11T20:45:15.831287Z",
     "start_time": "2018-11-11T20:45:15.398210Z"
    }
   },
   "outputs": [
    {
     "name": "stdout",
     "output_type": "stream",
     "text": [
      "{'<PAD>': 0, 'PREP+ART': 1, 'V': 2, 'ADV': 3, 'PROADJ': 4, 'CUR': 5, 'PREP': 6, 'KC': 7, 'PREP+PRO-KS': 8, 'PROPESS': 9, 'ADJ': 10, 'PREP+PROSUB': 11, 'NPROP': 12, 'PCP': 13, 'PRO-KS': 14, 'PDEN': 15, 'PREP+PROADJ': 16, 'ART': 17, 'PREP+ADV': 18, 'PREP+PROPESS': 19, 'KS': 20, 'NUM': 21, 'ADV-KS': 22, 'PROSUB': 23, 'IN': 24, 'N': 25, 'PU': 26}\n",
      "['<PAD>', 'PREP+ART', 'V', 'ADV', 'PROADJ', 'CUR', 'PREP', 'KC', 'PREP+PRO-KS', 'PROPESS', 'ADJ', 'PREP+PROSUB', 'NPROP', 'PCP', 'PRO-KS', 'PDEN', 'PREP+PROADJ', 'ART', 'PREP+ADV', 'PREP+PROPESS', 'KS', 'NUM', 'ADV-KS', 'PROSUB', 'IN', 'N', 'PU']\n"
     ]
    }
   ],
   "source": [
    "def flat_list(l):\n",
    "    return [item for sublist in l for item in sublist]\n",
    "len(set(flat_list(train_words)))\n",
    "\n",
    "id2tag = ['<PAD>'] + list(set(flat_list(train_tags)).union(set(flat_list(test_tags))).union(set(flat_list(dev_tags))))\n",
    "tag2id = {}\n",
    "for i, tag in enumerate(id2tag):\n",
    "    tag2id[tag] = i\n",
    "print(tag2id)\n",
    "print(id2tag)"
   ]
  },
  {
   "cell_type": "markdown",
   "metadata": {},
   "source": [
    "## Pad the words"
   ]
  },
  {
   "cell_type": "markdown",
   "metadata": {},
   "source": [
    "### Analyse sentence size distribution"
   ]
  },
  {
   "cell_type": "code",
   "execution_count": 12,
   "metadata": {
    "ExecuteTime": {
     "end_time": "2018-11-11T20:45:37.004012Z",
     "start_time": "2018-11-11T20:45:36.897267Z"
    }
   },
   "outputs": [
    {
     "data": {
      "text/plain": [
       "(49932, 2)"
      ]
     },
     "execution_count": 12,
     "metadata": {},
     "output_type": "execute_result"
    }
   ],
   "source": [
    "df_train = pd.DataFrame(columns=['words', 'tags'])\n",
    "df_test = pd.DataFrame(columns=['words', 'tags'])\n",
    "df_dev = pd.DataFrame(columns=['words', 'tags'])\n",
    "\n",
    "df_train['words'] = train_words\n",
    "df_train['tags'] = train_tags\n",
    "\n",
    "df_test['words'] = test_words\n",
    "df_test['tags'] = test_tags\n",
    "\n",
    "df_dev['words'] = dev_words\n",
    "df_dev['tags'] = dev_tags\n",
    "\n",
    "\n",
    "\n",
    "df_sentences = pd.concat([df_train, df_test, df_dev], axis=0)\n",
    "\n",
    "df_sentences.shape"
   ]
  },
  {
   "cell_type": "code",
   "execution_count": 13,
   "metadata": {
    "ExecuteTime": {
     "end_time": "2018-11-11T20:45:39.450723Z",
     "start_time": "2018-11-11T20:45:39.337810Z"
    }
   },
   "outputs": [
    {
     "data": {
      "text/plain": [
       "count    49932.000000\n",
       "mean        18.940779\n",
       "std         12.070051\n",
       "min          1.000000\n",
       "25%         10.000000\n",
       "50%         17.000000\n",
       "75%         25.000000\n",
       "max        248.000000\n",
       "Name: words, dtype: float64"
      ]
     },
     "execution_count": 13,
     "metadata": {},
     "output_type": "execute_result"
    }
   ],
   "source": [
    "df_sentences['words'].map(len).describe()"
   ]
  },
  {
   "cell_type": "code",
   "execution_count": 14,
   "metadata": {
    "ExecuteTime": {
     "end_time": "2018-11-11T20:45:42.241958Z",
     "start_time": "2018-11-11T20:45:42.005442Z"
    }
   },
   "outputs": [
    {
     "data": {
      "application/javascript": [
       "/* Put everything inside the global mpl namespace */\n",
       "window.mpl = {};\n",
       "\n",
       "\n",
       "mpl.get_websocket_type = function() {\n",
       "    if (typeof(WebSocket) !== 'undefined') {\n",
       "        return WebSocket;\n",
       "    } else if (typeof(MozWebSocket) !== 'undefined') {\n",
       "        return MozWebSocket;\n",
       "    } else {\n",
       "        alert('Your browser does not have WebSocket support.' +\n",
       "              'Please try Chrome, Safari or Firefox ≥ 6. ' +\n",
       "              'Firefox 4 and 5 are also supported but you ' +\n",
       "              'have to enable WebSockets in about:config.');\n",
       "    };\n",
       "}\n",
       "\n",
       "mpl.figure = function(figure_id, websocket, ondownload, parent_element) {\n",
       "    this.id = figure_id;\n",
       "\n",
       "    this.ws = websocket;\n",
       "\n",
       "    this.supports_binary = (this.ws.binaryType != undefined);\n",
       "\n",
       "    if (!this.supports_binary) {\n",
       "        var warnings = document.getElementById(\"mpl-warnings\");\n",
       "        if (warnings) {\n",
       "            warnings.style.display = 'block';\n",
       "            warnings.textContent = (\n",
       "                \"This browser does not support binary websocket messages. \" +\n",
       "                    \"Performance may be slow.\");\n",
       "        }\n",
       "    }\n",
       "\n",
       "    this.imageObj = new Image();\n",
       "\n",
       "    this.context = undefined;\n",
       "    this.message = undefined;\n",
       "    this.canvas = undefined;\n",
       "    this.rubberband_canvas = undefined;\n",
       "    this.rubberband_context = undefined;\n",
       "    this.format_dropdown = undefined;\n",
       "\n",
       "    this.image_mode = 'full';\n",
       "\n",
       "    this.root = $('<div/>');\n",
       "    this._root_extra_style(this.root)\n",
       "    this.root.attr('style', 'display: inline-block');\n",
       "\n",
       "    $(parent_element).append(this.root);\n",
       "\n",
       "    this._init_header(this);\n",
       "    this._init_canvas(this);\n",
       "    this._init_toolbar(this);\n",
       "\n",
       "    var fig = this;\n",
       "\n",
       "    this.waiting = false;\n",
       "\n",
       "    this.ws.onopen =  function () {\n",
       "            fig.send_message(\"supports_binary\", {value: fig.supports_binary});\n",
       "            fig.send_message(\"send_image_mode\", {});\n",
       "            if (mpl.ratio != 1) {\n",
       "                fig.send_message(\"set_dpi_ratio\", {'dpi_ratio': mpl.ratio});\n",
       "            }\n",
       "            fig.send_message(\"refresh\", {});\n",
       "        }\n",
       "\n",
       "    this.imageObj.onload = function() {\n",
       "            if (fig.image_mode == 'full') {\n",
       "                // Full images could contain transparency (where diff images\n",
       "                // almost always do), so we need to clear the canvas so that\n",
       "                // there is no ghosting.\n",
       "                fig.context.clearRect(0, 0, fig.canvas.width, fig.canvas.height);\n",
       "            }\n",
       "            fig.context.drawImage(fig.imageObj, 0, 0);\n",
       "        };\n",
       "\n",
       "    this.imageObj.onunload = function() {\n",
       "        fig.ws.close();\n",
       "    }\n",
       "\n",
       "    this.ws.onmessage = this._make_on_message_function(this);\n",
       "\n",
       "    this.ondownload = ondownload;\n",
       "}\n",
       "\n",
       "mpl.figure.prototype._init_header = function() {\n",
       "    var titlebar = $(\n",
       "        '<div class=\"ui-dialog-titlebar ui-widget-header ui-corner-all ' +\n",
       "        'ui-helper-clearfix\"/>');\n",
       "    var titletext = $(\n",
       "        '<div class=\"ui-dialog-title\" style=\"width: 100%; ' +\n",
       "        'text-align: center; padding: 3px;\"/>');\n",
       "    titlebar.append(titletext)\n",
       "    this.root.append(titlebar);\n",
       "    this.header = titletext[0];\n",
       "}\n",
       "\n",
       "\n",
       "\n",
       "mpl.figure.prototype._canvas_extra_style = function(canvas_div) {\n",
       "\n",
       "}\n",
       "\n",
       "\n",
       "mpl.figure.prototype._root_extra_style = function(canvas_div) {\n",
       "\n",
       "}\n",
       "\n",
       "mpl.figure.prototype._init_canvas = function() {\n",
       "    var fig = this;\n",
       "\n",
       "    var canvas_div = $('<div/>');\n",
       "\n",
       "    canvas_div.attr('style', 'position: relative; clear: both; outline: 0');\n",
       "\n",
       "    function canvas_keyboard_event(event) {\n",
       "        return fig.key_event(event, event['data']);\n",
       "    }\n",
       "\n",
       "    canvas_div.keydown('key_press', canvas_keyboard_event);\n",
       "    canvas_div.keyup('key_release', canvas_keyboard_event);\n",
       "    this.canvas_div = canvas_div\n",
       "    this._canvas_extra_style(canvas_div)\n",
       "    this.root.append(canvas_div);\n",
       "\n",
       "    var canvas = $('<canvas/>');\n",
       "    canvas.addClass('mpl-canvas');\n",
       "    canvas.attr('style', \"left: 0; top: 0; z-index: 0; outline: 0\")\n",
       "\n",
       "    this.canvas = canvas[0];\n",
       "    this.context = canvas[0].getContext(\"2d\");\n",
       "\n",
       "    var backingStore = this.context.backingStorePixelRatio ||\n",
       "\tthis.context.webkitBackingStorePixelRatio ||\n",
       "\tthis.context.mozBackingStorePixelRatio ||\n",
       "\tthis.context.msBackingStorePixelRatio ||\n",
       "\tthis.context.oBackingStorePixelRatio ||\n",
       "\tthis.context.backingStorePixelRatio || 1;\n",
       "\n",
       "    mpl.ratio = (window.devicePixelRatio || 1) / backingStore;\n",
       "\n",
       "    var rubberband = $('<canvas/>');\n",
       "    rubberband.attr('style', \"position: absolute; left: 0; top: 0; z-index: 1;\")\n",
       "\n",
       "    var pass_mouse_events = true;\n",
       "\n",
       "    canvas_div.resizable({\n",
       "        start: function(event, ui) {\n",
       "            pass_mouse_events = false;\n",
       "        },\n",
       "        resize: function(event, ui) {\n",
       "            fig.request_resize(ui.size.width, ui.size.height);\n",
       "        },\n",
       "        stop: function(event, ui) {\n",
       "            pass_mouse_events = true;\n",
       "            fig.request_resize(ui.size.width, ui.size.height);\n",
       "        },\n",
       "    });\n",
       "\n",
       "    function mouse_event_fn(event) {\n",
       "        if (pass_mouse_events)\n",
       "            return fig.mouse_event(event, event['data']);\n",
       "    }\n",
       "\n",
       "    rubberband.mousedown('button_press', mouse_event_fn);\n",
       "    rubberband.mouseup('button_release', mouse_event_fn);\n",
       "    // Throttle sequential mouse events to 1 every 20ms.\n",
       "    rubberband.mousemove('motion_notify', mouse_event_fn);\n",
       "\n",
       "    rubberband.mouseenter('figure_enter', mouse_event_fn);\n",
       "    rubberband.mouseleave('figure_leave', mouse_event_fn);\n",
       "\n",
       "    canvas_div.on(\"wheel\", function (event) {\n",
       "        event = event.originalEvent;\n",
       "        event['data'] = 'scroll'\n",
       "        if (event.deltaY < 0) {\n",
       "            event.step = 1;\n",
       "        } else {\n",
       "            event.step = -1;\n",
       "        }\n",
       "        mouse_event_fn(event);\n",
       "    });\n",
       "\n",
       "    canvas_div.append(canvas);\n",
       "    canvas_div.append(rubberband);\n",
       "\n",
       "    this.rubberband = rubberband;\n",
       "    this.rubberband_canvas = rubberband[0];\n",
       "    this.rubberband_context = rubberband[0].getContext(\"2d\");\n",
       "    this.rubberband_context.strokeStyle = \"#000000\";\n",
       "\n",
       "    this._resize_canvas = function(width, height) {\n",
       "        // Keep the size of the canvas, canvas container, and rubber band\n",
       "        // canvas in synch.\n",
       "        canvas_div.css('width', width)\n",
       "        canvas_div.css('height', height)\n",
       "\n",
       "        canvas.attr('width', width * mpl.ratio);\n",
       "        canvas.attr('height', height * mpl.ratio);\n",
       "        canvas.attr('style', 'width: ' + width + 'px; height: ' + height + 'px;');\n",
       "\n",
       "        rubberband.attr('width', width);\n",
       "        rubberband.attr('height', height);\n",
       "    }\n",
       "\n",
       "    // Set the figure to an initial 600x600px, this will subsequently be updated\n",
       "    // upon first draw.\n",
       "    this._resize_canvas(600, 600);\n",
       "\n",
       "    // Disable right mouse context menu.\n",
       "    $(this.rubberband_canvas).bind(\"contextmenu\",function(e){\n",
       "        return false;\n",
       "    });\n",
       "\n",
       "    function set_focus () {\n",
       "        canvas.focus();\n",
       "        canvas_div.focus();\n",
       "    }\n",
       "\n",
       "    window.setTimeout(set_focus, 100);\n",
       "}\n",
       "\n",
       "mpl.figure.prototype._init_toolbar = function() {\n",
       "    var fig = this;\n",
       "\n",
       "    var nav_element = $('<div/>')\n",
       "    nav_element.attr('style', 'width: 100%');\n",
       "    this.root.append(nav_element);\n",
       "\n",
       "    // Define a callback function for later on.\n",
       "    function toolbar_event(event) {\n",
       "        return fig.toolbar_button_onclick(event['data']);\n",
       "    }\n",
       "    function toolbar_mouse_event(event) {\n",
       "        return fig.toolbar_button_onmouseover(event['data']);\n",
       "    }\n",
       "\n",
       "    for(var toolbar_ind in mpl.toolbar_items) {\n",
       "        var name = mpl.toolbar_items[toolbar_ind][0];\n",
       "        var tooltip = mpl.toolbar_items[toolbar_ind][1];\n",
       "        var image = mpl.toolbar_items[toolbar_ind][2];\n",
       "        var method_name = mpl.toolbar_items[toolbar_ind][3];\n",
       "\n",
       "        if (!name) {\n",
       "            // put a spacer in here.\n",
       "            continue;\n",
       "        }\n",
       "        var button = $('<button/>');\n",
       "        button.addClass('ui-button ui-widget ui-state-default ui-corner-all ' +\n",
       "                        'ui-button-icon-only');\n",
       "        button.attr('role', 'button');\n",
       "        button.attr('aria-disabled', 'false');\n",
       "        button.click(method_name, toolbar_event);\n",
       "        button.mouseover(tooltip, toolbar_mouse_event);\n",
       "\n",
       "        var icon_img = $('<span/>');\n",
       "        icon_img.addClass('ui-button-icon-primary ui-icon');\n",
       "        icon_img.addClass(image);\n",
       "        icon_img.addClass('ui-corner-all');\n",
       "\n",
       "        var tooltip_span = $('<span/>');\n",
       "        tooltip_span.addClass('ui-button-text');\n",
       "        tooltip_span.html(tooltip);\n",
       "\n",
       "        button.append(icon_img);\n",
       "        button.append(tooltip_span);\n",
       "\n",
       "        nav_element.append(button);\n",
       "    }\n",
       "\n",
       "    var fmt_picker_span = $('<span/>');\n",
       "\n",
       "    var fmt_picker = $('<select/>');\n",
       "    fmt_picker.addClass('mpl-toolbar-option ui-widget ui-widget-content');\n",
       "    fmt_picker_span.append(fmt_picker);\n",
       "    nav_element.append(fmt_picker_span);\n",
       "    this.format_dropdown = fmt_picker[0];\n",
       "\n",
       "    for (var ind in mpl.extensions) {\n",
       "        var fmt = mpl.extensions[ind];\n",
       "        var option = $(\n",
       "            '<option/>', {selected: fmt === mpl.default_extension}).html(fmt);\n",
       "        fmt_picker.append(option)\n",
       "    }\n",
       "\n",
       "    // Add hover states to the ui-buttons\n",
       "    $( \".ui-button\" ).hover(\n",
       "        function() { $(this).addClass(\"ui-state-hover\");},\n",
       "        function() { $(this).removeClass(\"ui-state-hover\");}\n",
       "    );\n",
       "\n",
       "    var status_bar = $('<span class=\"mpl-message\"/>');\n",
       "    nav_element.append(status_bar);\n",
       "    this.message = status_bar[0];\n",
       "}\n",
       "\n",
       "mpl.figure.prototype.request_resize = function(x_pixels, y_pixels) {\n",
       "    // Request matplotlib to resize the figure. Matplotlib will then trigger a resize in the client,\n",
       "    // which will in turn request a refresh of the image.\n",
       "    this.send_message('resize', {'width': x_pixels, 'height': y_pixels});\n",
       "}\n",
       "\n",
       "mpl.figure.prototype.send_message = function(type, properties) {\n",
       "    properties['type'] = type;\n",
       "    properties['figure_id'] = this.id;\n",
       "    this.ws.send(JSON.stringify(properties));\n",
       "}\n",
       "\n",
       "mpl.figure.prototype.send_draw_message = function() {\n",
       "    if (!this.waiting) {\n",
       "        this.waiting = true;\n",
       "        this.ws.send(JSON.stringify({type: \"draw\", figure_id: this.id}));\n",
       "    }\n",
       "}\n",
       "\n",
       "\n",
       "mpl.figure.prototype.handle_save = function(fig, msg) {\n",
       "    var format_dropdown = fig.format_dropdown;\n",
       "    var format = format_dropdown.options[format_dropdown.selectedIndex].value;\n",
       "    fig.ondownload(fig, format);\n",
       "}\n",
       "\n",
       "\n",
       "mpl.figure.prototype.handle_resize = function(fig, msg) {\n",
       "    var size = msg['size'];\n",
       "    if (size[0] != fig.canvas.width || size[1] != fig.canvas.height) {\n",
       "        fig._resize_canvas(size[0], size[1]);\n",
       "        fig.send_message(\"refresh\", {});\n",
       "    };\n",
       "}\n",
       "\n",
       "mpl.figure.prototype.handle_rubberband = function(fig, msg) {\n",
       "    var x0 = msg['x0'] / mpl.ratio;\n",
       "    var y0 = (fig.canvas.height - msg['y0']) / mpl.ratio;\n",
       "    var x1 = msg['x1'] / mpl.ratio;\n",
       "    var y1 = (fig.canvas.height - msg['y1']) / mpl.ratio;\n",
       "    x0 = Math.floor(x0) + 0.5;\n",
       "    y0 = Math.floor(y0) + 0.5;\n",
       "    x1 = Math.floor(x1) + 0.5;\n",
       "    y1 = Math.floor(y1) + 0.5;\n",
       "    var min_x = Math.min(x0, x1);\n",
       "    var min_y = Math.min(y0, y1);\n",
       "    var width = Math.abs(x1 - x0);\n",
       "    var height = Math.abs(y1 - y0);\n",
       "\n",
       "    fig.rubberband_context.clearRect(\n",
       "        0, 0, fig.canvas.width, fig.canvas.height);\n",
       "\n",
       "    fig.rubberband_context.strokeRect(min_x, min_y, width, height);\n",
       "}\n",
       "\n",
       "mpl.figure.prototype.handle_figure_label = function(fig, msg) {\n",
       "    // Updates the figure title.\n",
       "    fig.header.textContent = msg['label'];\n",
       "}\n",
       "\n",
       "mpl.figure.prototype.handle_cursor = function(fig, msg) {\n",
       "    var cursor = msg['cursor'];\n",
       "    switch(cursor)\n",
       "    {\n",
       "    case 0:\n",
       "        cursor = 'pointer';\n",
       "        break;\n",
       "    case 1:\n",
       "        cursor = 'default';\n",
       "        break;\n",
       "    case 2:\n",
       "        cursor = 'crosshair';\n",
       "        break;\n",
       "    case 3:\n",
       "        cursor = 'move';\n",
       "        break;\n",
       "    }\n",
       "    fig.rubberband_canvas.style.cursor = cursor;\n",
       "}\n",
       "\n",
       "mpl.figure.prototype.handle_message = function(fig, msg) {\n",
       "    fig.message.textContent = msg['message'];\n",
       "}\n",
       "\n",
       "mpl.figure.prototype.handle_draw = function(fig, msg) {\n",
       "    // Request the server to send over a new figure.\n",
       "    fig.send_draw_message();\n",
       "}\n",
       "\n",
       "mpl.figure.prototype.handle_image_mode = function(fig, msg) {\n",
       "    fig.image_mode = msg['mode'];\n",
       "}\n",
       "\n",
       "mpl.figure.prototype.updated_canvas_event = function() {\n",
       "    // Called whenever the canvas gets updated.\n",
       "    this.send_message(\"ack\", {});\n",
       "}\n",
       "\n",
       "// A function to construct a web socket function for onmessage handling.\n",
       "// Called in the figure constructor.\n",
       "mpl.figure.prototype._make_on_message_function = function(fig) {\n",
       "    return function socket_on_message(evt) {\n",
       "        if (evt.data instanceof Blob) {\n",
       "            /* FIXME: We get \"Resource interpreted as Image but\n",
       "             * transferred with MIME type text/plain:\" errors on\n",
       "             * Chrome.  But how to set the MIME type?  It doesn't seem\n",
       "             * to be part of the websocket stream */\n",
       "            evt.data.type = \"image/png\";\n",
       "\n",
       "            /* Free the memory for the previous frames */\n",
       "            if (fig.imageObj.src) {\n",
       "                (window.URL || window.webkitURL).revokeObjectURL(\n",
       "                    fig.imageObj.src);\n",
       "            }\n",
       "\n",
       "            fig.imageObj.src = (window.URL || window.webkitURL).createObjectURL(\n",
       "                evt.data);\n",
       "            fig.updated_canvas_event();\n",
       "            fig.waiting = false;\n",
       "            return;\n",
       "        }\n",
       "        else if (typeof evt.data === 'string' && evt.data.slice(0, 21) == \"data:image/png;base64\") {\n",
       "            fig.imageObj.src = evt.data;\n",
       "            fig.updated_canvas_event();\n",
       "            fig.waiting = false;\n",
       "            return;\n",
       "        }\n",
       "\n",
       "        var msg = JSON.parse(evt.data);\n",
       "        var msg_type = msg['type'];\n",
       "\n",
       "        // Call the  \"handle_{type}\" callback, which takes\n",
       "        // the figure and JSON message as its only arguments.\n",
       "        try {\n",
       "            var callback = fig[\"handle_\" + msg_type];\n",
       "        } catch (e) {\n",
       "            console.log(\"No handler for the '\" + msg_type + \"' message type: \", msg);\n",
       "            return;\n",
       "        }\n",
       "\n",
       "        if (callback) {\n",
       "            try {\n",
       "                // console.log(\"Handling '\" + msg_type + \"' message: \", msg);\n",
       "                callback(fig, msg);\n",
       "            } catch (e) {\n",
       "                console.log(\"Exception inside the 'handler_\" + msg_type + \"' callback:\", e, e.stack, msg);\n",
       "            }\n",
       "        }\n",
       "    };\n",
       "}\n",
       "\n",
       "// from http://stackoverflow.com/questions/1114465/getting-mouse-location-in-canvas\n",
       "mpl.findpos = function(e) {\n",
       "    //this section is from http://www.quirksmode.org/js/events_properties.html\n",
       "    var targ;\n",
       "    if (!e)\n",
       "        e = window.event;\n",
       "    if (e.target)\n",
       "        targ = e.target;\n",
       "    else if (e.srcElement)\n",
       "        targ = e.srcElement;\n",
       "    if (targ.nodeType == 3) // defeat Safari bug\n",
       "        targ = targ.parentNode;\n",
       "\n",
       "    // jQuery normalizes the pageX and pageY\n",
       "    // pageX,Y are the mouse positions relative to the document\n",
       "    // offset() returns the position of the element relative to the document\n",
       "    var x = e.pageX - $(targ).offset().left;\n",
       "    var y = e.pageY - $(targ).offset().top;\n",
       "\n",
       "    return {\"x\": x, \"y\": y};\n",
       "};\n",
       "\n",
       "/*\n",
       " * return a copy of an object with only non-object keys\n",
       " * we need this to avoid circular references\n",
       " * http://stackoverflow.com/a/24161582/3208463\n",
       " */\n",
       "function simpleKeys (original) {\n",
       "  return Object.keys(original).reduce(function (obj, key) {\n",
       "    if (typeof original[key] !== 'object')\n",
       "        obj[key] = original[key]\n",
       "    return obj;\n",
       "  }, {});\n",
       "}\n",
       "\n",
       "mpl.figure.prototype.mouse_event = function(event, name) {\n",
       "    var canvas_pos = mpl.findpos(event)\n",
       "\n",
       "    if (name === 'button_press')\n",
       "    {\n",
       "        this.canvas.focus();\n",
       "        this.canvas_div.focus();\n",
       "    }\n",
       "\n",
       "    var x = canvas_pos.x * mpl.ratio;\n",
       "    var y = canvas_pos.y * mpl.ratio;\n",
       "\n",
       "    this.send_message(name, {x: x, y: y, button: event.button,\n",
       "                             step: event.step,\n",
       "                             guiEvent: simpleKeys(event)});\n",
       "\n",
       "    /* This prevents the web browser from automatically changing to\n",
       "     * the text insertion cursor when the button is pressed.  We want\n",
       "     * to control all of the cursor setting manually through the\n",
       "     * 'cursor' event from matplotlib */\n",
       "    event.preventDefault();\n",
       "    return false;\n",
       "}\n",
       "\n",
       "mpl.figure.prototype._key_event_extra = function(event, name) {\n",
       "    // Handle any extra behaviour associated with a key event\n",
       "}\n",
       "\n",
       "mpl.figure.prototype.key_event = function(event, name) {\n",
       "\n",
       "    // Prevent repeat events\n",
       "    if (name == 'key_press')\n",
       "    {\n",
       "        if (event.which === this._key)\n",
       "            return;\n",
       "        else\n",
       "            this._key = event.which;\n",
       "    }\n",
       "    if (name == 'key_release')\n",
       "        this._key = null;\n",
       "\n",
       "    var value = '';\n",
       "    if (event.ctrlKey && event.which != 17)\n",
       "        value += \"ctrl+\";\n",
       "    if (event.altKey && event.which != 18)\n",
       "        value += \"alt+\";\n",
       "    if (event.shiftKey && event.which != 16)\n",
       "        value += \"shift+\";\n",
       "\n",
       "    value += 'k';\n",
       "    value += event.which.toString();\n",
       "\n",
       "    this._key_event_extra(event, name);\n",
       "\n",
       "    this.send_message(name, {key: value,\n",
       "                             guiEvent: simpleKeys(event)});\n",
       "    return false;\n",
       "}\n",
       "\n",
       "mpl.figure.prototype.toolbar_button_onclick = function(name) {\n",
       "    if (name == 'download') {\n",
       "        this.handle_save(this, null);\n",
       "    } else {\n",
       "        this.send_message(\"toolbar_button\", {name: name});\n",
       "    }\n",
       "};\n",
       "\n",
       "mpl.figure.prototype.toolbar_button_onmouseover = function(tooltip) {\n",
       "    this.message.textContent = tooltip;\n",
       "};\n",
       "mpl.toolbar_items = [[\"Home\", \"Reset original view\", \"fa fa-home icon-home\", \"home\"], [\"Back\", \"Back to  previous view\", \"fa fa-arrow-left icon-arrow-left\", \"back\"], [\"Forward\", \"Forward to next view\", \"fa fa-arrow-right icon-arrow-right\", \"forward\"], [\"\", \"\", \"\", \"\"], [\"Pan\", \"Pan axes with left mouse, zoom with right\", \"fa fa-arrows icon-move\", \"pan\"], [\"Zoom\", \"Zoom to rectangle\", \"fa fa-square-o icon-check-empty\", \"zoom\"], [\"\", \"\", \"\", \"\"], [\"Download\", \"Download plot\", \"fa fa-floppy-o icon-save\", \"download\"]];\n",
       "\n",
       "mpl.extensions = [\"eps\", \"jpeg\", \"pdf\", \"png\", \"ps\", \"raw\", \"svg\", \"tif\"];\n",
       "\n",
       "mpl.default_extension = \"png\";var comm_websocket_adapter = function(comm) {\n",
       "    // Create a \"websocket\"-like object which calls the given IPython comm\n",
       "    // object with the appropriate methods. Currently this is a non binary\n",
       "    // socket, so there is still some room for performance tuning.\n",
       "    var ws = {};\n",
       "\n",
       "    ws.close = function() {\n",
       "        comm.close()\n",
       "    };\n",
       "    ws.send = function(m) {\n",
       "        //console.log('sending', m);\n",
       "        comm.send(m);\n",
       "    };\n",
       "    // Register the callback with on_msg.\n",
       "    comm.on_msg(function(msg) {\n",
       "        //console.log('receiving', msg['content']['data'], msg);\n",
       "        // Pass the mpl event to the overriden (by mpl) onmessage function.\n",
       "        ws.onmessage(msg['content']['data'])\n",
       "    });\n",
       "    return ws;\n",
       "}\n",
       "\n",
       "mpl.mpl_figure_comm = function(comm, msg) {\n",
       "    // This is the function which gets called when the mpl process\n",
       "    // starts-up an IPython Comm through the \"matplotlib\" channel.\n",
       "\n",
       "    var id = msg.content.data.id;\n",
       "    // Get hold of the div created by the display call when the Comm\n",
       "    // socket was opened in Python.\n",
       "    var element = $(\"#\" + id);\n",
       "    var ws_proxy = comm_websocket_adapter(comm)\n",
       "\n",
       "    function ondownload(figure, format) {\n",
       "        window.open(figure.imageObj.src);\n",
       "    }\n",
       "\n",
       "    var fig = new mpl.figure(id, ws_proxy,\n",
       "                           ondownload,\n",
       "                           element.get(0));\n",
       "\n",
       "    // Call onopen now - mpl needs it, as it is assuming we've passed it a real\n",
       "    // web socket which is closed, not our websocket->open comm proxy.\n",
       "    ws_proxy.onopen();\n",
       "\n",
       "    fig.parent_element = element.get(0);\n",
       "    fig.cell_info = mpl.find_output_cell(\"<div id='\" + id + \"'></div>\");\n",
       "    if (!fig.cell_info) {\n",
       "        console.error(\"Failed to find cell for figure\", id, fig);\n",
       "        return;\n",
       "    }\n",
       "\n",
       "    var output_index = fig.cell_info[2]\n",
       "    var cell = fig.cell_info[0];\n",
       "\n",
       "};\n",
       "\n",
       "mpl.figure.prototype.handle_close = function(fig, msg) {\n",
       "    var width = fig.canvas.width/mpl.ratio\n",
       "    fig.root.unbind('remove')\n",
       "\n",
       "    // Update the output cell to use the data from the current canvas.\n",
       "    fig.push_to_output();\n",
       "    var dataURL = fig.canvas.toDataURL();\n",
       "    // Re-enable the keyboard manager in IPython - without this line, in FF,\n",
       "    // the notebook keyboard shortcuts fail.\n",
       "    IPython.keyboard_manager.enable()\n",
       "    $(fig.parent_element).html('<img src=\"' + dataURL + '\" width=\"' + width + '\">');\n",
       "    fig.close_ws(fig, msg);\n",
       "}\n",
       "\n",
       "mpl.figure.prototype.close_ws = function(fig, msg){\n",
       "    fig.send_message('closing', msg);\n",
       "    // fig.ws.close()\n",
       "}\n",
       "\n",
       "mpl.figure.prototype.push_to_output = function(remove_interactive) {\n",
       "    // Turn the data on the canvas into data in the output cell.\n",
       "    var width = this.canvas.width/mpl.ratio\n",
       "    var dataURL = this.canvas.toDataURL();\n",
       "    this.cell_info[1]['text/html'] = '<img src=\"' + dataURL + '\" width=\"' + width + '\">';\n",
       "}\n",
       "\n",
       "mpl.figure.prototype.updated_canvas_event = function() {\n",
       "    // Tell IPython that the notebook contents must change.\n",
       "    IPython.notebook.set_dirty(true);\n",
       "    this.send_message(\"ack\", {});\n",
       "    var fig = this;\n",
       "    // Wait a second, then push the new image to the DOM so\n",
       "    // that it is saved nicely (might be nice to debounce this).\n",
       "    setTimeout(function () { fig.push_to_output() }, 1000);\n",
       "}\n",
       "\n",
       "mpl.figure.prototype._init_toolbar = function() {\n",
       "    var fig = this;\n",
       "\n",
       "    var nav_element = $('<div/>')\n",
       "    nav_element.attr('style', 'width: 100%');\n",
       "    this.root.append(nav_element);\n",
       "\n",
       "    // Define a callback function for later on.\n",
       "    function toolbar_event(event) {\n",
       "        return fig.toolbar_button_onclick(event['data']);\n",
       "    }\n",
       "    function toolbar_mouse_event(event) {\n",
       "        return fig.toolbar_button_onmouseover(event['data']);\n",
       "    }\n",
       "\n",
       "    for(var toolbar_ind in mpl.toolbar_items){\n",
       "        var name = mpl.toolbar_items[toolbar_ind][0];\n",
       "        var tooltip = mpl.toolbar_items[toolbar_ind][1];\n",
       "        var image = mpl.toolbar_items[toolbar_ind][2];\n",
       "        var method_name = mpl.toolbar_items[toolbar_ind][3];\n",
       "\n",
       "        if (!name) { continue; };\n",
       "\n",
       "        var button = $('<button class=\"btn btn-default\" href=\"#\" title=\"' + name + '\"><i class=\"fa ' + image + ' fa-lg\"></i></button>');\n",
       "        button.click(method_name, toolbar_event);\n",
       "        button.mouseover(tooltip, toolbar_mouse_event);\n",
       "        nav_element.append(button);\n",
       "    }\n",
       "\n",
       "    // Add the status bar.\n",
       "    var status_bar = $('<span class=\"mpl-message\" style=\"text-align:right; float: right;\"/>');\n",
       "    nav_element.append(status_bar);\n",
       "    this.message = status_bar[0];\n",
       "\n",
       "    // Add the close button to the window.\n",
       "    var buttongrp = $('<div class=\"btn-group inline pull-right\"></div>');\n",
       "    var button = $('<button class=\"btn btn-mini btn-primary\" href=\"#\" title=\"Stop Interaction\"><i class=\"fa fa-power-off icon-remove icon-large\"></i></button>');\n",
       "    button.click(function (evt) { fig.handle_close(fig, {}); } );\n",
       "    button.mouseover('Stop Interaction', toolbar_mouse_event);\n",
       "    buttongrp.append(button);\n",
       "    var titlebar = this.root.find($('.ui-dialog-titlebar'));\n",
       "    titlebar.prepend(buttongrp);\n",
       "}\n",
       "\n",
       "mpl.figure.prototype._root_extra_style = function(el){\n",
       "    var fig = this\n",
       "    el.on(\"remove\", function(){\n",
       "\tfig.close_ws(fig, {});\n",
       "    });\n",
       "}\n",
       "\n",
       "mpl.figure.prototype._canvas_extra_style = function(el){\n",
       "    // this is important to make the div 'focusable\n",
       "    el.attr('tabindex', 0)\n",
       "    // reach out to IPython and tell the keyboard manager to turn it's self\n",
       "    // off when our div gets focus\n",
       "\n",
       "    // location in version 3\n",
       "    if (IPython.notebook.keyboard_manager) {\n",
       "        IPython.notebook.keyboard_manager.register_events(el);\n",
       "    }\n",
       "    else {\n",
       "        // location in version 2\n",
       "        IPython.keyboard_manager.register_events(el);\n",
       "    }\n",
       "\n",
       "}\n",
       "\n",
       "mpl.figure.prototype._key_event_extra = function(event, name) {\n",
       "    var manager = IPython.notebook.keyboard_manager;\n",
       "    if (!manager)\n",
       "        manager = IPython.keyboard_manager;\n",
       "\n",
       "    // Check for shift+enter\n",
       "    if (event.shiftKey && event.which == 13) {\n",
       "        this.canvas_div.blur();\n",
       "        event.shiftKey = false;\n",
       "        // Send a \"J\" for go to next cell\n",
       "        event.which = 74;\n",
       "        event.keyCode = 74;\n",
       "        manager.command_mode();\n",
       "        manager.handle_keydown(event);\n",
       "    }\n",
       "}\n",
       "\n",
       "mpl.figure.prototype.handle_save = function(fig, msg) {\n",
       "    fig.ondownload(fig, null);\n",
       "}\n",
       "\n",
       "\n",
       "mpl.find_output_cell = function(html_output) {\n",
       "    // Return the cell and output element which can be found *uniquely* in the notebook.\n",
       "    // Note - this is a bit hacky, but it is done because the \"notebook_saving.Notebook\"\n",
       "    // IPython event is triggered only after the cells have been serialised, which for\n",
       "    // our purposes (turning an active figure into a static one), is too late.\n",
       "    var cells = IPython.notebook.get_cells();\n",
       "    var ncells = cells.length;\n",
       "    for (var i=0; i<ncells; i++) {\n",
       "        var cell = cells[i];\n",
       "        if (cell.cell_type === 'code'){\n",
       "            for (var j=0; j<cell.output_area.outputs.length; j++) {\n",
       "                var data = cell.output_area.outputs[j];\n",
       "                if (data.data) {\n",
       "                    // IPython >= 3 moved mimebundle to data attribute of output\n",
       "                    data = data.data;\n",
       "                }\n",
       "                if (data['text/html'] == html_output) {\n",
       "                    return [cell, data, j];\n",
       "                }\n",
       "            }\n",
       "        }\n",
       "    }\n",
       "}\n",
       "\n",
       "// Register the function which deals with the matplotlib target/channel.\n",
       "// The kernel may be null if the page has been refreshed.\n",
       "if (IPython.notebook.kernel != null) {\n",
       "    IPython.notebook.kernel.comm_manager.register_target('matplotlib', mpl.mpl_figure_comm);\n",
       "}\n"
      ],
      "text/plain": [
       "<IPython.core.display.Javascript object>"
      ]
     },
     "metadata": {},
     "output_type": "display_data"
    },
    {
     "data": {
      "text/html": [
       "<img src=\"data:image/png;base64,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\" width=\"640\">"
      ],
      "text/plain": [
       "<IPython.core.display.HTML object>"
      ]
     },
     "metadata": {},
     "output_type": "display_data"
    }
   ],
   "source": [
    "df_sentences['words'].map(len).hist()\n",
    "plt.show()"
   ]
  },
  {
   "cell_type": "code",
   "execution_count": 15,
   "metadata": {
    "ExecuteTime": {
     "end_time": "2018-11-11T20:45:47.025275Z",
     "start_time": "2018-11-11T20:45:46.923548Z"
    }
   },
   "outputs": [
    {
     "data": {
      "text/plain": [
       "25"
      ]
     },
     "execution_count": 15,
     "metadata": {},
     "output_type": "execute_result"
    }
   ],
   "source": [
    "MAX_SENTENCE_LENGTH = int(df_sentences['words'].map(len).describe()['75%'])\n",
    "MAX_SENTENCE_LENGTH"
   ]
  },
  {
   "cell_type": "code",
   "execution_count": 16,
   "metadata": {
    "ExecuteTime": {
     "end_time": "2018-11-11T20:45:48.569695Z",
     "start_time": "2018-11-11T20:45:48.557855Z"
    }
   },
   "outputs": [],
   "source": [
    "def fill_sentence(sentence):\n",
    "    tokens_to_fill = int(MAX_SENTENCE_LENGTH - len(sentence))\n",
    "    \n",
    "#     sentence.append('<END>')\n",
    "    sentence.extend(['<PAD>']*tokens_to_fill)\n",
    "    \n",
    "    return sentence[:MAX_SENTENCE_LENGTH]"
   ]
  },
  {
   "cell_type": "code",
   "execution_count": 17,
   "metadata": {
    "ExecuteTime": {
     "end_time": "2018-11-11T20:45:52.030989Z",
     "start_time": "2018-11-11T20:45:51.527260Z"
    }
   },
   "outputs": [],
   "source": [
    "df_train[\"words\"] = df_train[\"words\"].map(fill_sentence)\n",
    "df_train[\"tags\"] = df_train[\"tags\"].map(fill_sentence)\n",
    "\n",
    "df_test[\"words\"] = df_test[\"words\"].map(fill_sentence)\n",
    "df_test[\"tags\"] = df_test[\"tags\"].map(fill_sentence)\n",
    "\n",
    "df_dev[\"words\"] = df_dev[\"words\"].map(fill_sentence)\n",
    "df_dev[\"tags\"] = df_dev[\"tags\"].map(fill_sentence)"
   ]
  },
  {
   "cell_type": "code",
   "execution_count": 18,
   "metadata": {
    "ExecuteTime": {
     "end_time": "2018-11-11T20:45:54.417492Z",
     "start_time": "2018-11-11T20:45:54.385848Z"
    }
   },
   "outputs": [
    {
     "data": {
      "text/html": [
       "<div>\n",
       "<style scoped>\n",
       "    .dataframe tbody tr th:only-of-type {\n",
       "        vertical-align: middle;\n",
       "    }\n",
       "\n",
       "    .dataframe tbody tr th {\n",
       "        vertical-align: top;\n",
       "    }\n",
       "\n",
       "    .dataframe thead th {\n",
       "        text-align: right;\n",
       "    }\n",
       "</style>\n",
       "<table border=\"1\" class=\"dataframe\">\n",
       "  <thead>\n",
       "    <tr style=\"text-align: right;\">\n",
       "      <th></th>\n",
       "      <th>words</th>\n",
       "      <th>tags</th>\n",
       "    </tr>\n",
       "  </thead>\n",
       "  <tbody>\n",
       "    <tr>\n",
       "      <th>0</th>\n",
       "      <td>[salto, sete, &lt;PAD&gt;, &lt;PAD&gt;, &lt;PAD&gt;, &lt;PAD&gt;, &lt;PAD...</td>\n",
       "      <td>[N, ADJ, &lt;PAD&gt;, &lt;PAD&gt;, &lt;PAD&gt;, &lt;PAD&gt;, &lt;PAD&gt;, &lt;P...</td>\n",
       "    </tr>\n",
       "    <tr>\n",
       "      <th>1</th>\n",
       "      <td>[o, grande, assunto, da, semana, em, nova, yor...</td>\n",
       "      <td>[ART, ADJ, N, PREP+ART, N, PREP, NPROP, NPROP,...</td>\n",
       "    </tr>\n",
       "    <tr>\n",
       "      <th>2</th>\n",
       "      <td>[número, duplo, especial, ,, é, inteirinho, de...</td>\n",
       "      <td>[N, ADJ, ADJ, PU, V, ADJ, PCP, PREP, N, PREP, ...</td>\n",
       "    </tr>\n",
       "    <tr>\n",
       "      <th>3</th>\n",
       "      <td>[a, endiabrada, editora, tina, brown, ex, da, ...</td>\n",
       "      <td>[ART, PCP, N, NPROP, NPROP, N, PREP+ART, PU, N...</td>\n",
       "    </tr>\n",
       "    <tr>\n",
       "      <th>4</th>\n",
       "      <td>[além, das, fotos, de, richard, avedon, ., &lt;PA...</td>\n",
       "      <td>[PREP, PREP+ART, N, PREP, NPROP, NPROP, PU, &lt;P...</td>\n",
       "    </tr>\n",
       "  </tbody>\n",
       "</table>\n",
       "</div>"
      ],
      "text/plain": [
       "                                               words  \\\n",
       "0  [salto, sete, <PAD>, <PAD>, <PAD>, <PAD>, <PAD...   \n",
       "1  [o, grande, assunto, da, semana, em, nova, yor...   \n",
       "2  [número, duplo, especial, ,, é, inteirinho, de...   \n",
       "3  [a, endiabrada, editora, tina, brown, ex, da, ...   \n",
       "4  [além, das, fotos, de, richard, avedon, ., <PA...   \n",
       "\n",
       "                                                tags  \n",
       "0  [N, ADJ, <PAD>, <PAD>, <PAD>, <PAD>, <PAD>, <P...  \n",
       "1  [ART, ADJ, N, PREP+ART, N, PREP, NPROP, NPROP,...  \n",
       "2  [N, ADJ, ADJ, PU, V, ADJ, PCP, PREP, N, PREP, ...  \n",
       "3  [ART, PCP, N, NPROP, NPROP, N, PREP+ART, PU, N...  \n",
       "4  [PREP, PREP+ART, N, PREP, NPROP, NPROP, PU, <P...  "
      ]
     },
     "execution_count": 18,
     "metadata": {},
     "output_type": "execute_result"
    }
   ],
   "source": [
    "df_test.head()"
   ]
  },
  {
   "cell_type": "code",
   "execution_count": 19,
   "metadata": {
    "ExecuteTime": {
     "end_time": "2018-11-11T20:45:56.159230Z",
     "start_time": "2018-11-11T20:45:56.134694Z"
    }
   },
   "outputs": [
    {
     "data": {
      "text/plain": [
       "count    1997.0\n",
       "mean       25.0\n",
       "std         0.0\n",
       "min        25.0\n",
       "25%        25.0\n",
       "50%        25.0\n",
       "75%        25.0\n",
       "max        25.0\n",
       "Name: words, dtype: float64"
      ]
     },
     "execution_count": 19,
     "metadata": {},
     "output_type": "execute_result"
    }
   ],
   "source": [
    "df_dev['words'].map(len).describe()"
   ]
  },
  {
   "cell_type": "code",
   "execution_count": 20,
   "metadata": {
    "ExecuteTime": {
     "end_time": "2018-11-11T20:53:37.763507Z",
     "start_time": "2018-11-11T20:53:37.744391Z"
    }
   },
   "outputs": [
    {
     "name": "stdout",
     "output_type": "stream",
     "text": [
      "929608\n",
      "25\n",
      "37948\n",
      "37948\n"
     ]
    }
   ],
   "source": [
    "print(len(w2v_model.vocab))\n",
    "print(MAX_SENTENCE_LENGTH)\n",
    "print(len(df_train))\n",
    "w2v_model.vocab['<OOV>'].index\n",
    "print(len(df_train['words']))"
   ]
  },
  {
   "cell_type": "code",
   "execution_count": 21,
   "metadata": {
    "ExecuteTime": {
     "end_time": "2018-11-11T21:02:45.533196Z",
     "start_time": "2018-11-11T21:02:45.511168Z"
    }
   },
   "outputs": [
    {
     "name": "stdout",
     "output_type": "stream",
     "text": [
      "Result embedding shape: (929608, 100)\n"
     ]
    }
   ],
   "source": [
    "pretrained_weights = w2v_model.vectors\n",
    "vocab_size, emdedding_size = pretrained_weights.shape\n",
    "print('Result embedding shape:', pretrained_weights.shape)\n",
    "\n",
    "def word2idx(word):\n",
    "    return w2v_model.vocab[word].index\n",
    "def idx2word(idx):\n",
    "    return w2v_model.index2word[idx]\n",
    "\n",
    "\n",
    "def prepare_words(sentences):\n",
    "    sentences_x = np.zeros([len(sentences), MAX_SENTENCE_LENGTH], dtype=np.int32)\n",
    "\n",
    "    oov_index = word2idx('<OOV>')\n",
    "    for i, sentence in enumerate(sentences):\n",
    "        for t, word in enumerate(sentence):\n",
    "            try:\n",
    "                sentences_x[i, t] = word2idx(word)\n",
    "            except KeyError:\n",
    "                sentences_x[i, t] = oov_index\n",
    "    return sentences_x\n",
    "\n",
    "def prepare_tags(tag_sentences, tag2index):\n",
    "    tags_y = np.zeros([len(tag_sentences), MAX_SENTENCE_LENGTH], dtype=np.int32)\n",
    "    for i, sentence in enumerate(tag_sentences):\n",
    "        for t, tag in enumerate(sentence):\n",
    "            tags_y[i, t] = tag2index[tag]\n",
    "    return tags_y\n"
   ]
  },
  {
   "cell_type": "code",
   "execution_count": 22,
   "metadata": {
    "ExecuteTime": {
     "end_time": "2018-11-11T21:23:53.335029Z",
     "start_time": "2018-11-11T21:23:50.242324Z"
    }
   },
   "outputs": [
    {
     "name": "stdout",
     "output_type": "stream",
     "text": [
      "\n",
      "Preparing the train data for LSTM...\n",
      "train_x shape: (37948, 25)\n",
      "\n",
      "Preparing the test data for LSTM...\n",
      "test_x shape: (9987, 25)\n",
      "\n",
      "Preparing the validation data for LSTM...\n",
      "dev_x shape: (1997, 25)\n",
      "\n",
      "Preparing the train tags for LSTM...\n",
      "train_y shape: (37948, 25)\n",
      "\n",
      "Preparing the test data for LSTM...\n",
      "test_y shape: (9987, 25)\n",
      "\n",
      "Preparing the validation data for LSTM...\n",
      "dev_y shape: (1997, 25)\n",
      "\n",
      "[181752   4740    563      2  26881 929607   1945     19    969      9\n",
      "  18911     10     43    176      3 929606 929606 929606 929606 929606\n",
      " 929606 929606 929606 929606 929606]\n",
      "[  4223    640 929606 929606 929606 929606 929606 929606 929606 929606\n",
      " 929606 929606 929606 929606 929606 929606 929606 929606 929606 929606\n",
      " 929606 929606 929606 929606 929606]\n",
      "[    62     10    304      2 929607      1     28  12671      4   3625\n",
      " 929607      1      7 135781      4   8892      9   7603      8  92478\n",
      "      6  65251    109  27690      3]\n",
      "[25  2 25  6  5 21 25  1 25  1 12  6 12 12 26  0  0  0  0  0  0  0  0  0\n",
      "  0]\n",
      "[25 10  0  0  0  0  0  0  0  0  0  0  0  0  0  0  0  0  0  0  0  0  0  0\n",
      "  0]\n",
      "[ 3  6 25  6 25 26  2 13 17 10 25 26 14  2 17 25  1 25  1 12  7  2  4 25\n",
      " 26]\n",
      "(9987, 25, 27)\n"
     ]
    }
   ],
   "source": [
    "print('\\nPreparing the train data for LSTM...')\n",
    "train_sentences_X = prepare_words(df_train['words'])\n",
    "print('train_x shape:', train_sentences_X.shape)\n",
    "\n",
    "print('\\nPreparing the test data for LSTM...')\n",
    "test_sentences_X = prepare_words(df_test['words'])\n",
    "print('test_x shape:', test_sentences_X.shape)\n",
    "\n",
    "print('\\nPreparing the validation data for LSTM...')\n",
    "dev_sentences_X = prepare_words(df_dev['words'])\n",
    "print('dev_x shape:', dev_sentences_X.shape)\n",
    "\n",
    "\n",
    "print('\\nPreparing the train tags for LSTM...')\n",
    "train_tags_y = prepare_tags(df_train['tags'], tag2id)\n",
    "print('train_y shape:', train_tags_y.shape)\n",
    "\n",
    "print('\\nPreparing the test data for LSTM...')\n",
    "test_tags_y = prepare_tags(df_test['tags'], tag2id)\n",
    "print('test_y shape:', test_tags_y.shape)\n",
    "\n",
    "print('\\nPreparing the validation data for LSTM...')\n",
    "dev_tags_y = prepare_tags(df_dev['tags'], tag2id)\n",
    "print('dev_y shape:', dev_tags_y.shape)\n",
    "\n",
    "print()\n",
    "\n",
    "print(train_sentences_X[0])\n",
    "print(test_sentences_X[0])\n",
    "print(dev_sentences_X[0])\n",
    "print(train_tags_y[0])\n",
    "print(test_tags_y[0])\n",
    "print(dev_tags_y[0])\n",
    "\n",
    "cat_train_tags_y = keras.utils.to_categorical(train_tags_y, num_classes=len(id2tag), dtype='int32')\n",
    "cat_test_tags_y = keras.utils.to_categorical(test_tags_y, num_classes=len(id2tag), dtype='int32')\n",
    "cat_dev_tags_y = keras.utils.to_categorical(dev_tags_y, num_classes=len(id2tag), dtype='int32')\n",
    "\n",
    "# print(cat_train_tags_y[0])\n",
    "print(cat_test_tags_y.shape)"
   ]
  },
  {
   "cell_type": "markdown",
   "metadata": {},
   "source": [
    "## Arquitetura do modelo"
   ]
  },
  {
   "cell_type": "code",
   "execution_count": 42,
   "metadata": {
    "ExecuteTime": {
     "end_time": "2018-11-11T21:04:22.126197Z",
     "start_time": "2018-11-11T21:04:22.114902Z"
    }
   },
   "outputs": [
    {
     "data": {
      "text/plain": [
       "<keras.engine.sequential.Sequential at 0x7f72819db5f8>"
      ]
     },
     "execution_count": 42,
     "metadata": {},
     "output_type": "execute_result"
    }
   ],
   "source": [
    "model = keras.models.Sequential()\n",
    "model"
   ]
  },
  {
   "cell_type": "markdown",
   "metadata": {},
   "source": [
    "### Adiciona camada de embedding"
   ]
  },
  {
   "cell_type": "code",
   "execution_count": 45,
   "metadata": {
    "ExecuteTime": {
     "end_time": "2018-11-11T21:04:45.235323Z",
     "start_time": "2018-11-11T21:04:45.230212Z"
    }
   },
   "outputs": [],
   "source": [
    "# model.add(keras.layers.InputLayer(input_shape=(max_sentence_length, )))"
   ]
  },
  {
   "cell_type": "code",
   "execution_count": 43,
   "metadata": {
    "ExecuteTime": {
     "end_time": "2018-11-11T21:04:48.658551Z",
     "start_time": "2018-11-11T21:04:46.418260Z"
    },
    "scrolled": false
   },
   "outputs": [],
   "source": [
    "model.add(\n",
    "    keras.layers.Embedding(\n",
    "        input_dim=len(w2v_model.vocab),\n",
    "        output_dim=emdedding_size,\n",
    "        input_length=MAX_SENTENCE_LENGTH,\n",
    "        weights=[pretrained_weights]\n",
    "    )\n",
    ")"
   ]
  },
  {
   "cell_type": "code",
   "execution_count": 44,
   "metadata": {
    "ExecuteTime": {
     "end_time": "2018-11-11T21:05:21.933656Z",
     "start_time": "2018-11-11T21:05:20.803240Z"
    }
   },
   "outputs": [
    {
     "name": "stdout",
     "output_type": "stream",
     "text": [
      "_________________________________________________________________\n",
      "Layer (type)                 Output Shape              Param #   \n",
      "=================================================================\n",
      "embedding_1 (Embedding)      (None, 25, 100)           92960800  \n",
      "_________________________________________________________________\n",
      "bidirectional_1 (Bidirection (None, 25, 512)           731136    \n",
      "_________________________________________________________________\n",
      "time_distributed_1 (TimeDist (None, 25, 27)            13851     \n",
      "_________________________________________________________________\n",
      "activation_1 (Activation)    (None, 25, 27)            0         \n",
      "=================================================================\n",
      "Total params: 93,705,787\n",
      "Trainable params: 93,705,787\n",
      "Non-trainable params: 0\n",
      "_________________________________________________________________\n"
     ]
    }
   ],
   "source": [
    "model.add(keras.layers.Bidirectional(keras.layers.LSTM(256,dropout=0.2, return_sequences=True)))\n",
    "model.add(keras.layers.TimeDistributed(keras.layers.Dense(len(tag2id))))\n",
    "model.add(keras.layers.Activation('softmax'))\n",
    " \n",
    "model.compile(loss='categorical_crossentropy',\n",
    "              optimizer=keras.optimizers.Adam(0.001),\n",
    "              metrics=['accuracy'])\n",
    " \n",
    "model.summary()\n"
   ]
  },
  {
   "cell_type": "code",
   "execution_count": 59,
   "metadata": {
    "ExecuteTime": {
     "end_time": "2018-11-11T22:26:35.678825Z",
     "start_time": "2018-11-11T22:26:28.149846Z"
    }
   },
   "outputs": [
    {
     "name": "stdout",
     "output_type": "stream",
     "text": [
      "Train on 37948 samples, validate on 1997 samples\n",
      "Epoch 1/40\n",
      "  128/37948 [..............................] - ETA: 18:10 - loss: 0.2386 - acc: 0.9384"
     ]
    },
    {
     "ename": "KeyboardInterrupt",
     "evalue": "",
     "output_type": "error",
     "traceback": [
      "\u001b[0;31m---------------------------------------------------------------------------\u001b[0m",
      "\u001b[0;31mKeyboardInterrupt\u001b[0m                         Traceback (most recent call last)",
      "\u001b[0;32m<ipython-input-59-2753c94bdff3>\u001b[0m in \u001b[0;36m<module>\u001b[0;34m\u001b[0m\n\u001b[1;32m      2\u001b[0m model.fit(train_sentences_X, cat_train_tags_y, batch_size=128, epochs=40,\n\u001b[1;32m      3\u001b[0m           \u001b[0mvalidation_data\u001b[0m\u001b[0;34m=\u001b[0m\u001b[0;34m(\u001b[0m\u001b[0mdev_sentences_X\u001b[0m\u001b[0;34m,\u001b[0m\u001b[0mcat_dev_tags_y\u001b[0m\u001b[0;34m)\u001b[0m\u001b[0;34m,\u001b[0m\u001b[0;34m\u001b[0m\u001b[0m\n\u001b[0;32m----> 4\u001b[0;31m           callbacks=[csv_logger])\n\u001b[0m",
      "\u001b[0;32m~/.local/lib/python3.6/site-packages/keras/engine/training.py\u001b[0m in \u001b[0;36mfit\u001b[0;34m(self, x, y, batch_size, epochs, verbose, callbacks, validation_split, validation_data, shuffle, class_weight, sample_weight, initial_epoch, steps_per_epoch, validation_steps, **kwargs)\u001b[0m\n\u001b[1;32m   1037\u001b[0m                                         \u001b[0minitial_epoch\u001b[0m\u001b[0;34m=\u001b[0m\u001b[0minitial_epoch\u001b[0m\u001b[0;34m,\u001b[0m\u001b[0;34m\u001b[0m\u001b[0m\n\u001b[1;32m   1038\u001b[0m                                         \u001b[0msteps_per_epoch\u001b[0m\u001b[0;34m=\u001b[0m\u001b[0msteps_per_epoch\u001b[0m\u001b[0;34m,\u001b[0m\u001b[0;34m\u001b[0m\u001b[0m\n\u001b[0;32m-> 1039\u001b[0;31m                                         validation_steps=validation_steps)\n\u001b[0m\u001b[1;32m   1040\u001b[0m \u001b[0;34m\u001b[0m\u001b[0m\n\u001b[1;32m   1041\u001b[0m     def evaluate(self, x=None, y=None,\n",
      "\u001b[0;32m~/.local/lib/python3.6/site-packages/keras/engine/training_arrays.py\u001b[0m in \u001b[0;36mfit_loop\u001b[0;34m(model, f, ins, out_labels, batch_size, epochs, verbose, callbacks, val_f, val_ins, shuffle, callback_metrics, initial_epoch, steps_per_epoch, validation_steps)\u001b[0m\n\u001b[1;32m    197\u001b[0m                     \u001b[0mins_batch\u001b[0m\u001b[0;34m[\u001b[0m\u001b[0mi\u001b[0m\u001b[0;34m]\u001b[0m \u001b[0;34m=\u001b[0m \u001b[0mins_batch\u001b[0m\u001b[0;34m[\u001b[0m\u001b[0mi\u001b[0m\u001b[0;34m]\u001b[0m\u001b[0;34m.\u001b[0m\u001b[0mtoarray\u001b[0m\u001b[0;34m(\u001b[0m\u001b[0;34m)\u001b[0m\u001b[0;34m\u001b[0m\u001b[0m\n\u001b[1;32m    198\u001b[0m \u001b[0;34m\u001b[0m\u001b[0m\n\u001b[0;32m--> 199\u001b[0;31m                 \u001b[0mouts\u001b[0m \u001b[0;34m=\u001b[0m \u001b[0mf\u001b[0m\u001b[0;34m(\u001b[0m\u001b[0mins_batch\u001b[0m\u001b[0;34m)\u001b[0m\u001b[0;34m\u001b[0m\u001b[0m\n\u001b[0m\u001b[1;32m    200\u001b[0m                 \u001b[0mouts\u001b[0m \u001b[0;34m=\u001b[0m \u001b[0mto_list\u001b[0m\u001b[0;34m(\u001b[0m\u001b[0mouts\u001b[0m\u001b[0;34m)\u001b[0m\u001b[0;34m\u001b[0m\u001b[0m\n\u001b[1;32m    201\u001b[0m                 \u001b[0;32mfor\u001b[0m \u001b[0ml\u001b[0m\u001b[0;34m,\u001b[0m \u001b[0mo\u001b[0m \u001b[0;32min\u001b[0m \u001b[0mzip\u001b[0m\u001b[0;34m(\u001b[0m\u001b[0mout_labels\u001b[0m\u001b[0;34m,\u001b[0m \u001b[0mouts\u001b[0m\u001b[0;34m)\u001b[0m\u001b[0;34m:\u001b[0m\u001b[0;34m\u001b[0m\u001b[0m\n",
      "\u001b[0;32m~/.local/lib/python3.6/site-packages/keras/backend/tensorflow_backend.py\u001b[0m in \u001b[0;36m__call__\u001b[0;34m(self, inputs)\u001b[0m\n\u001b[1;32m   2713\u001b[0m                 \u001b[0;32mreturn\u001b[0m \u001b[0mself\u001b[0m\u001b[0;34m.\u001b[0m\u001b[0m_legacy_call\u001b[0m\u001b[0;34m(\u001b[0m\u001b[0minputs\u001b[0m\u001b[0;34m)\u001b[0m\u001b[0;34m\u001b[0m\u001b[0m\n\u001b[1;32m   2714\u001b[0m \u001b[0;34m\u001b[0m\u001b[0m\n\u001b[0;32m-> 2715\u001b[0;31m             \u001b[0;32mreturn\u001b[0m \u001b[0mself\u001b[0m\u001b[0;34m.\u001b[0m\u001b[0m_call\u001b[0m\u001b[0;34m(\u001b[0m\u001b[0minputs\u001b[0m\u001b[0;34m)\u001b[0m\u001b[0;34m\u001b[0m\u001b[0m\n\u001b[0m\u001b[1;32m   2716\u001b[0m         \u001b[0;32melse\u001b[0m\u001b[0;34m:\u001b[0m\u001b[0;34m\u001b[0m\u001b[0m\n\u001b[1;32m   2717\u001b[0m             \u001b[0;32mif\u001b[0m \u001b[0mpy_any\u001b[0m\u001b[0;34m(\u001b[0m\u001b[0mis_tensor\u001b[0m\u001b[0;34m(\u001b[0m\u001b[0mx\u001b[0m\u001b[0;34m)\u001b[0m \u001b[0;32mfor\u001b[0m \u001b[0mx\u001b[0m \u001b[0;32min\u001b[0m \u001b[0minputs\u001b[0m\u001b[0;34m)\u001b[0m\u001b[0;34m:\u001b[0m\u001b[0;34m\u001b[0m\u001b[0m\n",
      "\u001b[0;32m~/.local/lib/python3.6/site-packages/keras/backend/tensorflow_backend.py\u001b[0m in \u001b[0;36m_call\u001b[0;34m(self, inputs)\u001b[0m\n\u001b[1;32m   2673\u001b[0m             \u001b[0mfetched\u001b[0m \u001b[0;34m=\u001b[0m \u001b[0mself\u001b[0m\u001b[0;34m.\u001b[0m\u001b[0m_callable_fn\u001b[0m\u001b[0;34m(\u001b[0m\u001b[0;34m*\u001b[0m\u001b[0marray_vals\u001b[0m\u001b[0;34m,\u001b[0m \u001b[0mrun_metadata\u001b[0m\u001b[0;34m=\u001b[0m\u001b[0mself\u001b[0m\u001b[0;34m.\u001b[0m\u001b[0mrun_metadata\u001b[0m\u001b[0;34m)\u001b[0m\u001b[0;34m\u001b[0m\u001b[0m\n\u001b[1;32m   2674\u001b[0m         \u001b[0;32melse\u001b[0m\u001b[0;34m:\u001b[0m\u001b[0;34m\u001b[0m\u001b[0m\n\u001b[0;32m-> 2675\u001b[0;31m             \u001b[0mfetched\u001b[0m \u001b[0;34m=\u001b[0m \u001b[0mself\u001b[0m\u001b[0;34m.\u001b[0m\u001b[0m_callable_fn\u001b[0m\u001b[0;34m(\u001b[0m\u001b[0;34m*\u001b[0m\u001b[0marray_vals\u001b[0m\u001b[0;34m)\u001b[0m\u001b[0;34m\u001b[0m\u001b[0m\n\u001b[0m\u001b[1;32m   2676\u001b[0m         \u001b[0;32mreturn\u001b[0m \u001b[0mfetched\u001b[0m\u001b[0;34m[\u001b[0m\u001b[0;34m:\u001b[0m\u001b[0mlen\u001b[0m\u001b[0;34m(\u001b[0m\u001b[0mself\u001b[0m\u001b[0;34m.\u001b[0m\u001b[0moutputs\u001b[0m\u001b[0;34m)\u001b[0m\u001b[0;34m]\u001b[0m\u001b[0;34m\u001b[0m\u001b[0m\n\u001b[1;32m   2677\u001b[0m \u001b[0;34m\u001b[0m\u001b[0m\n",
      "\u001b[0;32m~/.local/lib/python3.6/site-packages/tensorflow/python/client/session.py\u001b[0m in \u001b[0;36m__call__\u001b[0;34m(self, *args, **kwargs)\u001b[0m\n\u001b[1;32m   1397\u001b[0m           ret = tf_session.TF_SessionRunCallable(\n\u001b[1;32m   1398\u001b[0m               \u001b[0mself\u001b[0m\u001b[0;34m.\u001b[0m\u001b[0m_session\u001b[0m\u001b[0;34m.\u001b[0m\u001b[0m_session\u001b[0m\u001b[0;34m,\u001b[0m \u001b[0mself\u001b[0m\u001b[0;34m.\u001b[0m\u001b[0m_handle\u001b[0m\u001b[0;34m,\u001b[0m \u001b[0margs\u001b[0m\u001b[0;34m,\u001b[0m \u001b[0mstatus\u001b[0m\u001b[0;34m,\u001b[0m\u001b[0;34m\u001b[0m\u001b[0m\n\u001b[0;32m-> 1399\u001b[0;31m               run_metadata_ptr)\n\u001b[0m\u001b[1;32m   1400\u001b[0m         \u001b[0;32mif\u001b[0m \u001b[0mrun_metadata\u001b[0m\u001b[0;34m:\u001b[0m\u001b[0;34m\u001b[0m\u001b[0m\n\u001b[1;32m   1401\u001b[0m           \u001b[0mproto_data\u001b[0m \u001b[0;34m=\u001b[0m \u001b[0mtf_session\u001b[0m\u001b[0;34m.\u001b[0m\u001b[0mTF_GetBuffer\u001b[0m\u001b[0;34m(\u001b[0m\u001b[0mrun_metadata_ptr\u001b[0m\u001b[0;34m)\u001b[0m\u001b[0;34m\u001b[0m\u001b[0m\n",
      "\u001b[0;31mKeyboardInterrupt\u001b[0m: "
     ]
    }
   ],
   "source": [
    "csv_logger = keras.callbacks.CSVLogger('training.log')\n",
    "model.fit(train_sentences_X, cat_train_tags_y, batch_size=128, epochs=40,\n",
    "          validation_data=(dev_sentences_X,cat_dev_tags_y),\n",
    "          callbacks=[csv_logger])"
   ]
  },
  {
   "cell_type": "code",
   "execution_count": null,
   "metadata": {},
   "outputs": [],
   "source": [
    "scores = model.evaluate(test_sentences_X, cat_test_tags_y)\n",
    "print(f\"{model.metrics_names[1]}: {scores[1] * 100}\")   # acc: 99.09751977804825"
   ]
  },
  {
   "cell_type": "markdown",
   "metadata": {},
   "source": [
    "## Save model"
   ]
  },
  {
   "cell_type": "markdown",
   "metadata": {},
   "source": [
    "### serialize model to JSON"
   ]
  },
  {
   "cell_type": "code",
   "execution_count": 58,
   "metadata": {
    "ExecuteTime": {
     "end_time": "2018-11-11T22:23:34.238805Z",
     "start_time": "2018-11-11T22:23:34.229789Z"
    }
   },
   "outputs": [],
   "source": [
    "model_json = model.to_json()\n",
    "with open(\"model.json\", \"w\") as json_file:\n",
    "    json_file.write(model_json)"
   ]
  },
  {
   "cell_type": "markdown",
   "metadata": {},
   "source": [
    "### serialize weights to HDF5"
   ]
  },
  {
   "cell_type": "code",
   "execution_count": null,
   "metadata": {},
   "outputs": [],
   "source": [
    "model.save_weights(\"model.h5\")\n",
    "print(\"Saved model to disk\")"
   ]
  },
  {
   "cell_type": "markdown",
   "metadata": {},
   "source": [
    "## Load model"
   ]
  },
  {
   "cell_type": "markdown",
   "metadata": {},
   "source": [
    "### load json and create model"
   ]
  },
  {
   "cell_type": "code",
   "execution_count": 23,
   "metadata": {},
   "outputs": [],
   "source": [
    "json_file = open(paths['model'], 'r')\n",
    "loaded_model_json = json_file.read()\n",
    "json_file.close()\n",
    "loaded_model = model_from_json(loaded_model_json)"
   ]
  },
  {
   "cell_type": "markdown",
   "metadata": {},
   "source": [
    "### load weights into new model"
   ]
  },
  {
   "cell_type": "code",
   "execution_count": 24,
   "metadata": {},
   "outputs": [
    {
     "name": "stdout",
     "output_type": "stream",
     "text": [
      "Loaded model from disk\n"
     ]
    }
   ],
   "source": [
    "loaded_model.load_weights(paths['model_weights'])\n",
    "print(\"Loaded model from disk\")"
   ]
  },
  {
   "cell_type": "markdown",
   "metadata": {},
   "source": [
    "### evaluate loaded model on test data"
   ]
  },
  {
   "cell_type": "code",
   "execution_count": 27,
   "metadata": {},
   "outputs": [],
   "source": [
    "loaded_model.compile(loss='categorical_crossentropy',\n",
    "              optimizer=keras.optimizers.Adam(0.001),\n",
    "              metrics=['accuracy'])"
   ]
  },
  {
   "cell_type": "code",
   "execution_count": null,
   "metadata": {},
   "outputs": [],
   "source": [
    "score = loaded_model.evaluate(train_sentences_X, cat_train_tags_y, verbose=0)\n",
    "print(\"%s: %.2f%%\" % (loaded_model.metrics_names[1], score[1]*100))"
   ]
  }
 ],
 "metadata": {
  "kernelspec": {
   "display_name": "Python 3",
   "language": "python",
   "name": "python3"
  },
  "language_info": {
   "codemirror_mode": {
    "name": "ipython",
    "version": 3
   },
   "file_extension": ".py",
   "mimetype": "text/x-python",
   "name": "python",
   "nbconvert_exporter": "python",
   "pygments_lexer": "ipython3",
   "version": "3.6.4"
  }
 },
 "nbformat": 4,
 "nbformat_minor": 2
}
