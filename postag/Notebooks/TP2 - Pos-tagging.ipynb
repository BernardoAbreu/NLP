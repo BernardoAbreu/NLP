{
 "cells": [
  {
   "cell_type": "markdown",
   "metadata": {},
   "source": [
    "# Trabalho Prático 2\n",
    "## Processamento de Linguagem Natural - 2018/2\n",
    "\n",
    "### Bernardo de Almeida Abreu - 2018718155"
   ]
  },
  {
   "cell_type": "markdown",
   "metadata": {},
   "source": [
    "## Introdução\n",
    "\n",
    "A tarefa de realizar um *Part-of-speech tagging* (POS tagging) é uma tarefa clássica da área de processamento de linguagem natural. Ela consiste em assinalar uma classe gramatical para cada token de um texto [1]. Alguns exemplos de classes gramaticais que podem ser atribuídas aos tokens de um texto são \"substantivo\", \"adjetivo\" e \"pontuação\". Muitas vezes uma mesma palavra assume papéis e significados diferentes dependendo do contexto em que se encontra, de modo que essa tarefa não é trivial.\n",
    "\n",
    "As melhores soluções para esse problema se baseiam em técnicas de aprendizado de máquina supervisionado e, por esse motivo, é necessário que exista uma base de dados anotada na língua correta."
   ]
  },
  {
   "cell_type": "markdown",
   "metadata": {},
   "source": [
    "## Implementação\n",
    "\n",
    "O objetivo desse trabalho é implementar a tarefa de POS-tagging para uma base de dados em português. O corpus utilizado foir o  Mac-Morpho, produzido pelo grupo NILC em da ICMC USP [3]. Essa tarefa foi implementada utilizando uma rede neural para classificar os tokens do texto da base de dados em diferentes classes."
   ]
  },
  {
   "cell_type": "code",
   "execution_count": 113,
   "metadata": {
    "ExecuteTime": {
     "end_time": "2018-11-25T06:10:56.543453Z",
     "start_time": "2018-11-25T06:10:56.508270Z"
    }
   },
   "outputs": [],
   "source": [
    "%matplotlib inline\n",
    "                                                                                                                                                                                                                                                                                                                                                                                                                                                                                                                                                                                                                                                                                                                                                                    \n",
    "import numpy as np\n",
    "import pandas as pd\n",
    "import gensim\n",
    "import keras\n",
    "import matplotlib\n",
    "import matplotlib.pyplot as plt\n",
    "import tensorflow as tf\n",
    "import pickle\n",
    "from sklearn.metrics import classification_report"
   ]
  },
  {
   "cell_type": "code",
   "execution_count": 123,
   "metadata": {
    "ExecuteTime": {
     "end_time": "2018-11-25T06:15:16.508720Z",
     "start_time": "2018-11-25T06:15:16.496248Z"
    }
   },
   "outputs": [],
   "source": [
    "paths = {\n",
    "    'train': '../macmorpho-v3/macmorpho-train.txt',\n",
    "    'test': '../macmorpho-v3/macmorpho-test.txt',\n",
    "    'dev': '../macmorpho-v3/macmorpho-dev.txt',\n",
    "    'word2vec': '../data/skip_s100.txt',\n",
    "    'word2vecpickle': '../src/word2vec_model_skipgram_100.p',\n",
    "}\n",
    "matplotlib.style.use('seaborn')"
   ]
  },
  {
   "cell_type": "markdown",
   "metadata": {},
   "source": [
    "### Leitura do texto\n",
    "O corpus utilzado possui três textos anotados. Cada um deles possui o seu próprio propósito - treino, teste e validação."
   ]
  },
  {
   "cell_type": "code",
   "execution_count": 3,
   "metadata": {
    "ExecuteTime": {
     "end_time": "2018-11-25T05:05:25.561616Z",
     "start_time": "2018-11-25T05:05:25.527544Z"
    }
   },
   "outputs": [],
   "source": [
    "def read_text(filename):\n",
    "    with open(filename, 'r') as f:\n",
    "        return f.readlines()"
   ]
  },
  {
   "cell_type": "code",
   "execution_count": 4,
   "metadata": {
    "ExecuteTime": {
     "end_time": "2018-11-25T05:05:25.767184Z",
     "start_time": "2018-11-25T05:05:25.578377Z"
    },
    "scrolled": true
   },
   "outputs": [
    {
     "name": "stdout",
     "output_type": "stream",
     "text": [
      "Jersei_N atinge_V média_N de_PREP Cr$_CUR 1,4_NUM milhão_N na_PREP+ART venda_N da_PREP+ART Pinhal_NPROP em_PREP São_NPROP Paulo_NPROP ._PU\n",
      "\n",
      "Salto_N sete_ADJ\n",
      "\n",
      "Ainda_ADV em_PREP dezembro_N de_PREP 1990_N ,_PU foi_V editada_PCP a_ART famosa_ADJ 289_N ,_PU que_PRO-KS modificava_V a_ART sistemática_N da_PREP+ART arrecadação_N do_PREP+ART ITR_NPROP e_KC alterava_V suas_PROADJ alíquotas_N ._PU\n",
      "\n"
     ]
    }
   ],
   "source": [
    "train_text = read_text(paths['train'])\n",
    "test_text = read_text(paths['test'])\n",
    "dev_text = read_text(paths['dev'])\n",
    "\n",
    "print(train_text[0])\n",
    "print(test_text[0])\n",
    "print(dev_text[0])"
   ]
  },
  {
   "cell_type": "markdown",
   "metadata": {},
   "source": [
    "### Separação de palavras e tags\n",
    "Cada token nos arquivos possui uma *tag* relacionada ao mesmo. Para que se possa fazer o treinamento do modelo de POS-tagging é necessário separar cada token de sua respectiva *tag*."
   ]
  },
  {
   "cell_type": "code",
   "execution_count": 5,
   "metadata": {
    "ExecuteTime": {
     "end_time": "2018-11-25T05:05:25.804177Z",
     "start_time": "2018-11-25T05:05:25.793005Z"
    }
   },
   "outputs": [],
   "source": [
    "def split_word_tags(text):\n",
    "    word_lines = []\n",
    "    tag_lines = []\n",
    "    for line in text:\n",
    "        words, tags = zip(*[tagged_word.split('_') for tagged_word in line.split()])\n",
    "        word_lines.append([w.lower() for w in words])\n",
    "        tag_lines.append(list(tags))\n",
    "    return word_lines, tag_lines\n",
    "\n",
    "def flat_list(l):\n",
    "    return [item for sublist in l for item in sublist]"
   ]
  },
  {
   "cell_type": "code",
   "execution_count": 6,
   "metadata": {
    "ExecuteTime": {
     "end_time": "2018-11-25T05:05:28.035450Z",
     "start_time": "2018-11-25T05:05:25.814485Z"
    }
   },
   "outputs": [
    {
     "name": "stdout",
     "output_type": "stream",
     "text": [
      "['jersei', 'atinge', 'média', 'de', 'cr$', '1,4', 'milhão', 'na', 'venda', 'da', 'pinhal', 'em', 'são', 'paulo', '.']\n",
      "['N', 'V', 'N', 'PREP', 'CUR', 'NUM', 'N', 'PREP+ART', 'N', 'PREP+ART', 'NPROP', 'PREP', 'NPROP', 'NPROP', 'PU']\n"
     ]
    }
   ],
   "source": [
    "train_words, train_tags = split_word_tags(train_text)\n",
    "print(train_words[0])\n",
    "print(train_tags[0])\n",
    "\n",
    "test_words, test_tags = split_word_tags(test_text)\n",
    "dev_words, dev_tags = split_word_tags(dev_text)"
   ]
  },
  {
   "cell_type": "code",
   "execution_count": 7,
   "metadata": {
    "ExecuteTime": {
     "end_time": "2018-11-25T05:05:28.319462Z",
     "start_time": "2018-11-25T05:05:28.038548Z"
    }
   },
   "outputs": [
    {
     "name": "stdout",
     "output_type": "stream",
     "text": [
      "['<PAD>', 'ADJ', 'ADV', 'ADV-KS', 'ART', 'CUR', 'IN', 'KC', 'KS', 'N', 'NPROP', 'NUM', 'PCP', 'PDEN', 'PREP', 'PREP+ADV', 'PREP+ART', 'PREP+PRO-KS', 'PREP+PROADJ', 'PREP+PROPESS', 'PREP+PROSUB', 'PRO-KS', 'PROADJ', 'PROPESS', 'PROSUB', 'PU', 'V']\n",
      "27\n"
     ]
    }
   ],
   "source": [
    "id2tag = ['<PAD>'] + sorted(list(set(flat_list(train_tags)).union(set(flat_list(test_tags))).union(set(flat_list(dev_tags)))))\n",
    "tag2id = {}\n",
    "for i, tag in enumerate(id2tag):\n",
    "    tag2id[tag] = i\n",
    "\n",
    "print(id2tag)\n",
    "print(len(id2tag))"
   ]
  },
  {
   "cell_type": "code",
   "execution_count": 8,
   "metadata": {
    "ExecuteTime": {
     "end_time": "2018-11-25T05:05:28.481478Z",
     "start_time": "2018-11-25T05:05:28.322617Z"
    }
   },
   "outputs": [],
   "source": [
    "df_train = pd.DataFrame(columns=['words', 'tags'])\n",
    "df_test = pd.DataFrame(columns=['words', 'tags'])\n",
    "df_dev = pd.DataFrame(columns=['words', 'tags'])\n",
    "\n",
    "df_train['words'] = train_words\n",
    "df_train['tags'] = train_tags\n",
    "\n",
    "df_test['words'] = test_words\n",
    "df_test['tags'] = test_tags\n",
    "\n",
    "df_dev['words'] = dev_words\n",
    "df_dev['tags'] = dev_tags\n",
    "\n",
    "df_sentences = pd.concat([df_train, df_test, df_dev], axis=0)"
   ]
  },
  {
   "cell_type": "markdown",
   "metadata": {},
   "source": [
    "### Padding das sentenças\n",
    "A entrada da rede neural deve ser de um tamanho fixo. Para que as diferentes sentenças presentes no corpus, que podem possuir tamanhos distintos entre si, possam ser fornecidas como entrada para a rede, é necessário padronizar o tamanho das mesmas. Essa padronização é feita através de dois passos, remover as palavras extras da sentenças que ultrapassam o tamanho definido, e adicionar um token de *padding* às sentenças que possuem um comprimento menor do que o tamanho determinado, que é então repetido até que a sentença atinja o tamanho correto.\n",
    "\n",
    "Esse tamanho foi determinado de acordo com a distribuição dos tamanhos das sentenças ao longo do corpus. Para obter um compromisso entre sentenças com muito *padding* e sentenças que devem ter palavras removidas, o tamanho foi definido como aquele que evita eliminar palavras de 75% de todas as sentenças do corpus, incluindo as bases de treino, validação e teste."
   ]
  },
  {
   "cell_type": "code",
   "execution_count": 9,
   "metadata": {
    "ExecuteTime": {
     "end_time": "2018-11-25T05:05:28.585458Z",
     "start_time": "2018-11-25T05:05:28.484656Z"
    }
   },
   "outputs": [
    {
     "data": {
      "text/plain": [
       "count    49932.000000\n",
       "mean        18.940779\n",
       "std         12.070051\n",
       "min          1.000000\n",
       "25%         10.000000\n",
       "50%         17.000000\n",
       "75%         25.000000\n",
       "max        248.000000\n",
       "Name: words, dtype: float64"
      ]
     },
     "execution_count": 9,
     "metadata": {},
     "output_type": "execute_result"
    }
   ],
   "source": [
    "df_sentences['words'].map(len).describe()"
   ]
  },
  {
   "cell_type": "code",
   "execution_count": 124,
   "metadata": {
    "ExecuteTime": {
     "end_time": "2018-11-25T06:15:23.716838Z",
     "start_time": "2018-11-25T06:15:23.156769Z"
    }
   },
   "outputs": [
    {
     "data": {
      "image/png": "[encoded data removed]",
      "text/plain": [
       "<Figure size 576x396 with 1 Axes>"
      ]
     },
     "metadata": {},
     "output_type": "display_data"
    }
   ],
   "source": [
    "df_sentences['words'].map(len).hist()\n",
    "plt.show()"
   ]
  },
  {
   "cell_type": "code",
   "execution_count": 11,
   "metadata": {
    "ExecuteTime": {
     "end_time": "2018-11-25T05:05:29.631544Z",
     "start_time": "2018-11-25T05:05:29.519491Z"
    }
   },
   "outputs": [
    {
     "data": {
      "text/plain": [
       "25"
      ]
     },
     "execution_count": 11,
     "metadata": {},
     "output_type": "execute_result"
    }
   ],
   "source": [
    "MAX_SENTENCE_LENGTH = int(df_sentences['words'].map(len).describe()['75%'])\n",
    "MAX_SENTENCE_LENGTH"
   ]
  },
  {
   "cell_type": "code",
   "execution_count": 12,
   "metadata": {
    "ExecuteTime": {
     "end_time": "2018-11-25T05:05:29.651563Z",
     "start_time": "2018-11-25T05:05:29.637319Z"
    }
   },
   "outputs": [],
   "source": [
    "def fill_sentence(sentence):\n",
    "    tokens_to_fill = int(MAX_SENTENCE_LENGTH - len(sentence))\n",
    "    sentence.extend(['<PAD>']*tokens_to_fill)\n",
    "    \n",
    "    return sentence[:MAX_SENTENCE_LENGTH]"
   ]
  },
  {
   "cell_type": "code",
   "execution_count": 13,
   "metadata": {
    "ExecuteTime": {
     "end_time": "2018-11-25T05:05:30.600800Z",
     "start_time": "2018-11-25T05:05:29.654835Z"
    }
   },
   "outputs": [],
   "source": [
    "df_train[\"words\"] = df_train[\"words\"].map(fill_sentence)\n",
    "df_train[\"tags\"] = df_train[\"tags\"].map(fill_sentence)\n",
    "\n",
    "df_test[\"words\"] = df_test[\"words\"].map(fill_sentence)\n",
    "df_test[\"tags\"] = df_test[\"tags\"].map(fill_sentence)\n",
    "\n",
    "df_dev[\"words\"] = df_dev[\"words\"].map(fill_sentence)\n",
    "df_dev[\"tags\"] = df_dev[\"tags\"].map(fill_sentence)"
   ]
  },
  {
   "cell_type": "code",
   "execution_count": 14,
   "metadata": {
    "ExecuteTime": {
     "end_time": "2018-11-25T05:05:30.710488Z",
     "start_time": "2018-11-25T05:05:30.604930Z"
    }
   },
   "outputs": [
    {
     "data": {
      "text/html": [
       "<div>\n",
       "<style scoped>\n",
       "    .dataframe tbody tr th:only-of-type {\n",
       "        vertical-align: middle;\n",
       "    }\n",
       "\n",
       "    .dataframe tbody tr th {\n",
       "        vertical-align: top;\n",
       "    }\n",
       "\n",
       "    .dataframe thead th {\n",
       "        text-align: right;\n",
       "    }\n",
       "</style>\n",
       "<table border=\"1\" class=\"dataframe\">\n",
       "  <thead>\n",
       "    <tr style=\"text-align: right;\">\n",
       "      <th></th>\n",
       "      <th>words</th>\n",
       "      <th>tags</th>\n",
       "    </tr>\n",
       "  </thead>\n",
       "  <tbody>\n",
       "    <tr>\n",
       "      <th>0</th>\n",
       "      <td>[salto, sete, &lt;PAD&gt;, &lt;PAD&gt;, &lt;PAD&gt;, &lt;PAD&gt;, &lt;PAD...</td>\n",
       "      <td>[N, ADJ, &lt;PAD&gt;, &lt;PAD&gt;, &lt;PAD&gt;, &lt;PAD&gt;, &lt;PAD&gt;, &lt;P...</td>\n",
       "    </tr>\n",
       "    <tr>\n",
       "      <th>1</th>\n",
       "      <td>[o, grande, assunto, da, semana, em, nova, yor...</td>\n",
       "      <td>[ART, ADJ, N, PREP+ART, N, PREP, NPROP, NPROP,...</td>\n",
       "    </tr>\n",
       "    <tr>\n",
       "      <th>2</th>\n",
       "      <td>[número, duplo, especial, ,, é, inteirinho, de...</td>\n",
       "      <td>[N, ADJ, ADJ, PU, V, ADJ, PCP, PREP, N, PREP, ...</td>\n",
       "    </tr>\n",
       "    <tr>\n",
       "      <th>3</th>\n",
       "      <td>[a, endiabrada, editora, tina, brown, ex, da, ...</td>\n",
       "      <td>[ART, PCP, N, NPROP, NPROP, N, PREP+ART, PU, N...</td>\n",
       "    </tr>\n",
       "    <tr>\n",
       "      <th>4</th>\n",
       "      <td>[além, das, fotos, de, richard, avedon, ., &lt;PA...</td>\n",
       "      <td>[PREP, PREP+ART, N, PREP, NPROP, NPROP, PU, &lt;P...</td>\n",
       "    </tr>\n",
       "  </tbody>\n",
       "</table>\n",
       "</div>"
      ],
      "text/plain": [
       "                                               words  \\\n",
       "0  [salto, sete, <PAD>, <PAD>, <PAD>, <PAD>, <PAD...   \n",
       "1  [o, grande, assunto, da, semana, em, nova, yor...   \n",
       "2  [número, duplo, especial, ,, é, inteirinho, de...   \n",
       "3  [a, endiabrada, editora, tina, brown, ex, da, ...   \n",
       "4  [além, das, fotos, de, richard, avedon, ., <PA...   \n",
       "\n",
       "                                                tags  \n",
       "0  [N, ADJ, <PAD>, <PAD>, <PAD>, <PAD>, <PAD>, <P...  \n",
       "1  [ART, ADJ, N, PREP+ART, N, PREP, NPROP, NPROP,...  \n",
       "2  [N, ADJ, ADJ, PU, V, ADJ, PCP, PREP, N, PREP, ...  \n",
       "3  [ART, PCP, N, NPROP, NPROP, N, PREP+ART, PU, N...  \n",
       "4  [PREP, PREP+ART, N, PREP, NPROP, NPROP, PU, <P...  "
      ]
     },
     "execution_count": 14,
     "metadata": {},
     "output_type": "execute_result"
    }
   ],
   "source": [
    "df_test.head()"
   ]
  },
  {
   "cell_type": "code",
   "execution_count": 15,
   "metadata": {
    "ExecuteTime": {
     "end_time": "2018-11-25T05:05:30.768044Z",
     "start_time": "2018-11-25T05:05:30.717967Z"
    }
   },
   "outputs": [
    {
     "data": {
      "text/plain": [
       "count    1997.0\n",
       "mean       25.0\n",
       "std         0.0\n",
       "min        25.0\n",
       "25%        25.0\n",
       "50%        25.0\n",
       "75%        25.0\n",
       "max        25.0\n",
       "Name: words, dtype: float64"
      ]
     },
     "execution_count": 15,
     "metadata": {},
     "output_type": "execute_result"
    }
   ],
   "source": [
    "df_dev['words'].map(len).describe()"
   ]
  },
  {
   "cell_type": "markdown",
   "metadata": {},
   "source": [
    "### Embedding - Word2Vec\n",
    "A representação das palavras na rede neural foi feita através do modelo word2vec. Para isso, foi escolhido um embedding já treinado em português, produzido pelo grupo NILC em da ICMC USP [4] O embedding escolhido foi treinado através do skip-gram e possui vetores de tamanho 100 para cada palavra.\n",
    "\n",
    "Dois novos tokens precisaram ser adicionados ao embedding. O token `<PAD>` é o token utilizado para realizar o *padding* nas sentenças, enquanto o token `<OOV>` é utilizado para substituir nas sentenças as palavras que não puderam ser encontradas no embedding."
   ]
  },
  {
   "cell_type": "code",
   "execution_count": 23,
   "metadata": {
    "ExecuteTime": {
     "end_time": "2018-11-25T05:26:02.392616Z",
     "start_time": "2018-11-25T05:26:02.388260Z"
    }
   },
   "outputs": [],
   "source": [
    "use_pickle=True"
   ]
  },
  {
   "cell_type": "code",
   "execution_count": 20,
   "metadata": {
    "ExecuteTime": {
     "end_time": "2018-11-25T05:23:27.875832Z",
     "start_time": "2018-11-25T05:14:57.927863Z"
    }
   },
   "outputs": [],
   "source": [
    "if use_pickle:\n",
    "    w2v_model = pickle.load(open(paths['word2vecpickle'], 'rb'))\n",
    "else:\n",
    "    w2v_model = gensim.models.KeyedVectors.load_word2vec_format(paths['word2vec'])\n",
    "    embed_size = w2v_model.vectors.shape[1]\n",
    "    # Adiciona vetores extras\n",
    "    w2v_model.add(['<PAD>', '<OOV>'], [[0.1] * embed_size, [0.2] * embed_size])\n",
    "    pickle.dump(w2v_model, open(paths['word2vecpickle'], 'wb'))"
   ]
  },
  {
   "cell_type": "code",
   "execution_count": 21,
   "metadata": {
    "ExecuteTime": {
     "end_time": "2018-11-25T05:25:38.380310Z",
     "start_time": "2018-11-25T05:25:35.036518Z"
    },
    "scrolled": true
   },
   "outputs": [
    {
     "name": "stderr",
     "output_type": "stream",
     "text": [
      "/home/bernardoabreu/.local/lib/python3.6/site-packages/gensim/matutils.py:737: FutureWarning: Conversion of the second argument of issubdtype from `int` to `np.signedinteger` is deprecated. In future, it will be treated as `np.int64 == np.dtype(int).type`.\n",
      "  if np.issubdtype(vec.dtype, np.int):\n"
     ]
    },
    {
     "data": {
      "text/plain": [
       "[('hemopa', 0.8358801603317261),\n",
       " ('hemonúcleo', 0.8148629665374756),\n",
       " ('hemoal', 0.7524208426475525),\n",
       " ('hemorio', 0.7506005167961121),\n",
       " ('procon', 0.7349455952644348),\n",
       " ('centrinho', 0.7315340638160706),\n",
       " ('hemoam', 0.7078859806060791),\n",
       " ('incor', 0.7009122371673584),\n",
       " ('detran', 0.7000018358230591),\n",
       " ('poupatempo', 0.6961973905563354)]"
      ]
     },
     "execution_count": 21,
     "metadata": {},
     "output_type": "execute_result"
    }
   ],
   "source": [
    "w2v_model.similar_by_vector('hemocentro')"
   ]
  },
  {
   "cell_type": "markdown",
   "metadata": {},
   "source": [
    "### Preparação da base de dados\n",
    "Para que as sentenças possam ser utilizadas na rede neural, os seus tokens precisam ser convertidos em números. O índice de cada token no embedding word2vec é utilizado para substituir os tokens de entrada. As *tags*, ou classes, usadas na saída usam um índice que estabelece 0 como o índice da classe `<PAD>`, e distribui os índices começando do 1 para as `tags` restantes de forma que as mesmas fiquem ordenadas.\n",
    "\n",
    "Após transformar as classes em índices, é necessário realizar uma codificação one-hot-enconding, para que elas possam ser utilizadas na saída da rede."
   ]
  },
  {
   "cell_type": "code",
   "execution_count": 22,
   "metadata": {
    "ExecuteTime": {
     "end_time": "2018-11-25T05:25:53.458672Z",
     "start_time": "2018-11-25T05:25:53.433561Z"
    }
   },
   "outputs": [
    {
     "name": "stdout",
     "output_type": "stream",
     "text": [
      "Result embedding shape: (929608, 100)\n"
     ]
    }
   ],
   "source": [
    "pretrained_weights = w2v_model.vectors\n",
    "vocab_size, emdedding_size = pretrained_weights.shape\n",
    "print('Result embedding shape:', pretrained_weights.shape)\n",
    "\n",
    "def word2idx(word):\n",
    "    return w2v_model.vocab[word].index\n",
    "def idx2word(idx):\n",
    "    return w2v_model.index2word[idx]\n",
    "\n",
    "\n",
    "def prepare_words(sentences):\n",
    "    sentences_x = np.zeros([len(sentences), MAX_SENTENCE_LENGTH], dtype=np.int32)\n",
    "\n",
    "    oov_index = word2idx('<OOV>')\n",
    "    for i, sentence in enumerate(sentences):\n",
    "        for t, word in enumerate(sentence):\n",
    "            try:\n",
    "                sentences_x[i, t] = word2idx(word)\n",
    "            except KeyError:\n",
    "                sentences_x[i, t] = oov_index\n",
    "    return sentences_x\n",
    "\n",
    "def prepare_tags(tag_sentences, tag2index):\n",
    "    tags_y = np.zeros([len(tag_sentences), MAX_SENTENCE_LENGTH], dtype=np.int32)\n",
    "    for i, sentence in enumerate(tag_sentences):\n",
    "        for t, tag in enumerate(sentence):\n",
    "            tags_y[i, t] = tag2index[tag]\n",
    "    return tags_y\n"
   ]
  },
  {
   "cell_type": "code",
   "execution_count": 24,
   "metadata": {
    "ExecuteTime": {
     "end_time": "2018-11-25T05:26:17.323729Z",
     "start_time": "2018-11-25T05:26:13.361112Z"
    }
   },
   "outputs": [
    {
     "name": "stdout",
     "output_type": "stream",
     "text": [
      "\n",
      "Preparing the train data for LSTM...\n",
      "train_x shape: (37948, 25)\n",
      "\n",
      "Preparing the test data for LSTM...\n",
      "test_x shape: (9987, 25)\n",
      "\n",
      "Preparing the validation data for LSTM...\n",
      "dev_x shape: (1997, 25)\n",
      "\n",
      "Preparing the train tags for LSTM...\n",
      "train_y shape: (37948, 25)\n",
      "\n",
      "Preparing the test data for LSTM...\n",
      "test_y shape: (9987, 25)\n",
      "\n",
      "Preparing the validation data for LSTM...\n",
      "dev_y shape: (1997, 25)\n"
     ]
    }
   ],
   "source": [
    "print('\\nPreparing the train data for LSTM...')\n",
    "train_sentences_X = prepare_words(df_train['words'])\n",
    "print('train_x shape:', train_sentences_X.shape)\n",
    "\n",
    "print('\\nPreparing the test data for LSTM...')\n",
    "test_sentences_X = prepare_words(df_test['words'])\n",
    "print('test_x shape:', test_sentences_X.shape)\n",
    "\n",
    "print('\\nPreparing the validation data for LSTM...')\n",
    "dev_sentences_X = prepare_words(df_dev['words'])\n",
    "print('dev_x shape:', dev_sentences_X.shape)\n",
    "\n",
    "\n",
    "print('\\nPreparing the train tags for LSTM...')\n",
    "train_tags_y = prepare_tags(df_train['tags'], tag2id)\n",
    "print('train_y shape:', train_tags_y.shape)\n",
    "\n",
    "print('\\nPreparing the test data for LSTM...')\n",
    "test_tags_y = prepare_tags(df_test['tags'], tag2id)\n",
    "print('test_y shape:', test_tags_y.shape)\n",
    "\n",
    "print('\\nPreparing the validation data for LSTM...')\n",
    "dev_tags_y = prepare_tags(df_dev['tags'], tag2id)\n",
    "print('dev_y shape:', dev_tags_y.shape)\n",
    "\n",
    "cat_train_tags_y = keras.utils.to_categorical(train_tags_y, num_classes=len(id2tag), dtype='int32')\n",
    "cat_test_tags_y = keras.utils.to_categorical(test_tags_y, num_classes=len(id2tag), dtype='int32')\n",
    "cat_dev_tags_y = keras.utils.to_categorical(dev_tags_y, num_classes=len(id2tag), dtype='int32')"
   ]
  },
  {
   "cell_type": "markdown",
   "metadata": {},
   "source": [
    "### Arquitetura do modelo\n",
    "Redes LSTM bidirecionais são redes LSTM que fazem uma passada em cada direção da sequência de entrada, antes de passar para a próxima camada [5]. Isso permite que a rede leve em consideração tanto o contexto dos tokens que vem antes do token que se quer classificar, quanto o contexto dos tokens que aparecem depois. Esse tipo de rede funciona bem para tarefas de POS tagging com poucas sentenas de treinamento.\n",
    "\n",
    "A arquitetura definida para esse projeto foi uma camada de embedding que utiliza word2vec, seguido de uma camada LSTM bidirecional e uma camada densa.\n",
    "\n",
    "As tags de `<PAD>` não são relevantes para o aprendizado das outras tags, além disso, são fáceis de se acertar. Assim, foi criada uma métrica que ignora a acurácia da tag `<PAD>` durante o treinamento."
   ]
  },
  {
   "cell_type": "code",
   "execution_count": 25,
   "metadata": {
    "ExecuteTime": {
     "end_time": "2018-11-25T05:26:24.159728Z",
     "start_time": "2018-11-25T05:26:24.136561Z"
    }
   },
   "outputs": [],
   "source": [
    "def ignore_class_accuracy(to_ignore=0):\n",
    "    def ignore_accuracy(y_true, y_pred):\n",
    "        y_true_class = keras.backend.argmax(y_true, axis=-1)\n",
    "        y_pred_class = keras.backend.argmax(y_pred, axis=-1)\n",
    "        ignore_mask = keras.backend.cast(\n",
    "            keras.backend.not_equal(y_pred_class, to_ignore), 'int32')\n",
    "        matches = keras.backend.cast(\n",
    "            keras.backend.equal(y_true_class, y_pred_class), 'int32') * \\\n",
    "            ignore_mask\n",
    "        accuracy = keras.backend.sum(matches) / \\\n",
    "            keras.backend.maximum(keras.backend.sum(ignore_mask), 1)\n",
    "        return accuracy\n",
    "    return ignore_accuracy"
   ]
  },
  {
   "cell_type": "markdown",
   "metadata": {},
   "source": [
    "#### Criação da arquitetura"
   ]
  },
  {
   "cell_type": "code",
   "execution_count": 26,
   "metadata": {
    "ExecuteTime": {
     "end_time": "2018-11-25T05:26:26.288959Z",
     "start_time": "2018-11-25T05:26:26.284417Z"
    }
   },
   "outputs": [],
   "source": [
    "# model = keras.models.Sequential()\n",
    "# model"
   ]
  },
  {
   "cell_type": "code",
   "execution_count": 27,
   "metadata": {
    "ExecuteTime": {
     "end_time": "2018-11-25T05:26:27.547213Z",
     "start_time": "2018-11-25T05:26:27.534275Z"
    },
    "scrolled": false
   },
   "outputs": [],
   "source": [
    "# model.add(\n",
    "#     keras.layers.Embedding(\n",
    "#         input_dim=len(w2v_model.vocab),\n",
    "#         output_dim=emdedding_size,\n",
    "#         input_length=MAX_SENTENCE_LENGTH,\n",
    "#         weights=[pretrained_weights]\n",
    "#     )\n",
    "# )"
   ]
  },
  {
   "cell_type": "code",
   "execution_count": 28,
   "metadata": {
    "ExecuteTime": {
     "end_time": "2018-11-25T05:26:28.621208Z",
     "start_time": "2018-11-25T05:26:28.610745Z"
    }
   },
   "outputs": [],
   "source": [
    "# model.add(\n",
    "#     keras.layers.Bidirectional(\n",
    "#         keras.layers.LSTM(lstm_size, return_sequences=True)\n",
    "#     )\n",
    "# )\n",
    "\n",
    "# model.add(\n",
    "#     keras.layers.TimeDistributed(\n",
    "#         keras.layers.Dense(output_len)\n",
    "#     )\n",
    "# )\n",
    "\n",
    "# model.add(keras.layers.Activation('softmax'))"
   ]
  },
  {
   "cell_type": "code",
   "execution_count": 29,
   "metadata": {
    "ExecuteTime": {
     "end_time": "2018-11-25T05:26:29.741722Z",
     "start_time": "2018-11-25T05:26:29.729015Z"
    }
   },
   "outputs": [],
   "source": [
    "# model.compile(loss='categorical_crossentropy',\n",
    "#               optimizer=\"adam\",\n",
    "#               metrics=['accuracy', ignore_class_accuracy(tag2id['<PAD>'])])\n",
    "\n",
    "# model.summary()"
   ]
  },
  {
   "cell_type": "code",
   "execution_count": 30,
   "metadata": {
    "ExecuteTime": {
     "end_time": "2018-11-25T05:26:30.930614Z",
     "start_time": "2018-11-25T05:26:30.925689Z"
    }
   },
   "outputs": [],
   "source": [
    "# csv_logger = keras.callbacks.CSVLogger('training.log')\n",
    "# early_stop = keras.callbacks.EarlyStopping(monitor='val_loss',\n",
    "#                                            min_delta=0.001,\n",
    "#                                            patience=4,\n",
    "#                                            verbose=1,\n",
    "#                                            mode='min')\n",
    "# model.fit(train_sentences_X, cat_train_tags_y,\n",
    "#           batch_size=64, epochs=5,\n",
    "#           validation_data=(dev_sentences_X, cat_dev_tags_y),\n",
    "#           callbacks=[csv_logger, early_stop])"
   ]
  },
  {
   "cell_type": "code",
   "execution_count": 31,
   "metadata": {
    "ExecuteTime": {
     "end_time": "2018-11-25T05:26:32.057601Z",
     "start_time": "2018-11-25T05:26:32.045403Z"
    }
   },
   "outputs": [],
   "source": [
    "# scores = model.evaluate(test_X, test_Y)\n",
    "# for metric, score in zip(model.metrics_names, scores):\n",
    "#     print(f\"Test model {metric}: {score*100}\")\n",
    "\n",
    "# scores = model.evaluate(train_X, train_Y)\n",
    "# for metric, score in zip(model.metrics_names, scores):\n",
    "#     print(f\"Train model {metric}: {score*100}\")\n",
    "\n",
    "# scores = model.evaluate(dev_X, dev_Y)\n",
    "# for metric, score in zip(model.metrics_names, scores):\n",
    "#     print(f\"Dev model {metric}: {score*100}\")"
   ]
  },
  {
   "cell_type": "markdown",
   "metadata": {},
   "source": [
    "## Resultados"
   ]
  },
  {
   "cell_type": "markdown",
   "metadata": {},
   "source": [
    "A base de treino utilizada para esse trabalho possui 37948 sentenças anotadas, enquanto a base de teste possui 9987 sentenças e a de validação possui 1997 sentenças. Ao longo de todas essas sentenças, os tokens são classificados em 26 classes, excluindo a classe `<PAD>`. O modelo treinado foi capaz de atingir uma alta acurácia para as bases de treino, teste e validação desconsiderando a classe `<PAD>`. Esses valores foram, respecticamente, 98.81%, 94.84% e 95.86%."
   ]
  },
  {
   "cell_type": "code",
   "execution_count": 86,
   "metadata": {
    "ExecuteTime": {
     "end_time": "2018-11-25T05:54:17.205694Z",
     "start_time": "2018-11-25T05:54:17.161508Z"
    }
   },
   "outputs": [
    {
     "data": {
      "text/html": [
       "<div>\n",
       "<style scoped>\n",
       "    .dataframe tbody tr th:only-of-type {\n",
       "        vertical-align: middle;\n",
       "    }\n",
       "\n",
       "    .dataframe tbody tr th {\n",
       "        vertical-align: top;\n",
       "    }\n",
       "\n",
       "    .dataframe thead th {\n",
       "        text-align: right;\n",
       "    }\n",
       "</style>\n",
       "<table border=\"1\" class=\"dataframe\">\n",
       "  <thead>\n",
       "    <tr style=\"text-align: right;\">\n",
       "      <th></th>\n",
       "      <th>data</th>\n",
       "      <th>loss</th>\n",
       "      <th>acc</th>\n",
       "      <th>ignore_accuracy</th>\n",
       "    </tr>\n",
       "  </thead>\n",
       "  <tbody>\n",
       "    <tr>\n",
       "      <th>0</th>\n",
       "      <td>train</td>\n",
       "      <td>0.026227</td>\n",
       "      <td>0.992354</td>\n",
       "      <td>0.988176</td>\n",
       "    </tr>\n",
       "    <tr>\n",
       "      <th>1</th>\n",
       "      <td>test</td>\n",
       "      <td>0.107023</td>\n",
       "      <td>0.969604</td>\n",
       "      <td>0.948420</td>\n",
       "    </tr>\n",
       "    <tr>\n",
       "      <th>2</th>\n",
       "      <td>dev</td>\n",
       "      <td>0.096359</td>\n",
       "      <td>0.972599</td>\n",
       "      <td>0.958644</td>\n",
       "    </tr>\n",
       "  </tbody>\n",
       "</table>\n",
       "</div>"
      ],
      "text/plain": [
       "    data      loss       acc  ignore_accuracy\n",
       "0  train  0.026227  0.992354         0.988176\n",
       "1   test  0.107023  0.969604         0.948420\n",
       "2    dev  0.096359  0.972599         0.958644"
      ]
     },
     "execution_count": 86,
     "metadata": {},
     "output_type": "execute_result"
    }
   ],
   "source": [
    "scores = pd.read_csv('../src/scores.txt')\n",
    "scores"
   ]
  },
  {
   "cell_type": "markdown",
   "metadata": {},
   "source": [
    "### Acurácia ao longo das épocas\n",
    "A acurácia do modelo ao longo do treino pode ser observada abaixo para a base de treino e validação, respectivamente *ignore_accuracy* e *val_ignore_accuracy*. É possível observar que um valor alto de acurácia já é atingido logo na primeira época, e a partir desse momento, o valor da acurácia converge rapidamente, melhorando pouco nas épocas seguintes.\n",
    "\n",
    "A partir da segunda época, a acurácia do treino continua crescendo, enquanto a da validação permanece próxima a um mesmo valor. Além disso, é possível observar que o valor da ácuracia da valição diminui da penúltima para a última época. Esses fatores são evidências de que o modelo estava começando a sofrer um *overfitting*, decorando os dados de entrada e deixando de ser capaz de generalizar a predição das classes para novos dados."
   ]
  },
  {
   "cell_type": "code",
   "execution_count": 88,
   "metadata": {
    "ExecuteTime": {
     "end_time": "2018-11-25T05:56:37.768467Z",
     "start_time": "2018-11-25T05:56:37.711045Z"
    }
   },
   "outputs": [
    {
     "data": {
      "text/html": [
       "<div>\n",
       "<style scoped>\n",
       "    .dataframe tbody tr th:only-of-type {\n",
       "        vertical-align: middle;\n",
       "    }\n",
       "\n",
       "    .dataframe tbody tr th {\n",
       "        vertical-align: top;\n",
       "    }\n",
       "\n",
       "    .dataframe thead th {\n",
       "        text-align: right;\n",
       "    }\n",
       "</style>\n",
       "<table border=\"1\" class=\"dataframe\">\n",
       "  <thead>\n",
       "    <tr style=\"text-align: right;\">\n",
       "      <th></th>\n",
       "      <th>epoch</th>\n",
       "      <th>acc</th>\n",
       "      <th>ignore_accuracy</th>\n",
       "      <th>loss</th>\n",
       "      <th>val_acc</th>\n",
       "      <th>val_ignore_accuracy</th>\n",
       "      <th>val_loss</th>\n",
       "    </tr>\n",
       "  </thead>\n",
       "  <tbody>\n",
       "    <tr>\n",
       "      <th>0</th>\n",
       "      <td>0</td>\n",
       "      <td>0.896182</td>\n",
       "      <td>0.850603</td>\n",
       "      <td>0.378582</td>\n",
       "      <td>0.962904</td>\n",
       "      <td>0.944006</td>\n",
       "      <td>0.120464</td>\n",
       "    </tr>\n",
       "    <tr>\n",
       "      <th>1</th>\n",
       "      <td>1</td>\n",
       "      <td>0.971175</td>\n",
       "      <td>0.956933</td>\n",
       "      <td>0.094942</td>\n",
       "      <td>0.970596</td>\n",
       "      <td>0.955420</td>\n",
       "      <td>0.096202</td>\n",
       "    </tr>\n",
       "    <tr>\n",
       "      <th>2</th>\n",
       "      <td>2</td>\n",
       "      <td>0.979749</td>\n",
       "      <td>0.969647</td>\n",
       "      <td>0.066521</td>\n",
       "      <td>0.972459</td>\n",
       "      <td>0.958235</td>\n",
       "      <td>0.090152</td>\n",
       "    </tr>\n",
       "    <tr>\n",
       "      <th>3</th>\n",
       "      <td>3</td>\n",
       "      <td>0.984800</td>\n",
       "      <td>0.977221</td>\n",
       "      <td>0.049544</td>\n",
       "      <td>0.972679</td>\n",
       "      <td>0.958697</td>\n",
       "      <td>0.092234</td>\n",
       "    </tr>\n",
       "    <tr>\n",
       "      <th>4</th>\n",
       "      <td>4</td>\n",
       "      <td>0.988853</td>\n",
       "      <td>0.983294</td>\n",
       "      <td>0.036744</td>\n",
       "      <td>0.972599</td>\n",
       "      <td>0.958588</td>\n",
       "      <td>0.096359</td>\n",
       "    </tr>\n",
       "  </tbody>\n",
       "</table>\n",
       "</div>"
      ],
      "text/plain": [
       "   epoch       acc  ignore_accuracy      loss   val_acc  val_ignore_accuracy  \\\n",
       "0      0  0.896182         0.850603  0.378582  0.962904             0.944006   \n",
       "1      1  0.971175         0.956933  0.094942  0.970596             0.955420   \n",
       "2      2  0.979749         0.969647  0.066521  0.972459             0.958235   \n",
       "3      3  0.984800         0.977221  0.049544  0.972679             0.958697   \n",
       "4      4  0.988853         0.983294  0.036744  0.972599             0.958588   \n",
       "\n",
       "   val_loss  \n",
       "0  0.120464  \n",
       "1  0.096202  \n",
       "2  0.090152  \n",
       "3  0.092234  \n",
       "4  0.096359  "
      ]
     },
     "execution_count": 88,
     "metadata": {},
     "output_type": "execute_result"
    }
   ],
   "source": [
    "training_log = pd.read_csv('../src/training.log')\n",
    "training_log"
   ]
  },
  {
   "cell_type": "code",
   "execution_count": 210,
   "metadata": {
    "ExecuteTime": {
     "end_time": "2018-11-25T06:51:54.699964Z",
     "start_time": "2018-11-25T06:51:53.927098Z"
    }
   },
   "outputs": [
    {
     "data": {
      "text/plain": [
       "<matplotlib.axes._subplots.AxesSubplot at 0x7f3dc462af98>"
      ]
     },
     "execution_count": 210,
     "metadata": {},
     "output_type": "execute_result"
    },
    {
     "data": {
      "image/png": "[encoded data removed]",
      "text/plain": [
       "<Figure size 720x576 with 1 Axes>"
      ]
     },
     "metadata": {},
     "output_type": "display_data"
    }
   ],
   "source": [
    "training_log['ignore_accuracy'].plot(legend=True, title='Accuracy x Epochs', xticks=range(training_log.shape[0]),\n",
    "                                     fontsize=16,xlim=(0,training_log.shape[0]-1))\n",
    "training_log['val_ignore_accuracy'].plot(figsize=(10,8), legend=True)"
   ]
  },
  {
   "cell_type": "code",
   "execution_count": 207,
   "metadata": {
    "ExecuteTime": {
     "end_time": "2018-11-25T06:46:53.710926Z",
     "start_time": "2018-11-25T06:46:52.542523Z"
    }
   },
   "outputs": [],
   "source": [
    "test_pred = np.loadtxt('../src/test_predict.txt', dtype=int)"
   ]
  },
  {
   "cell_type": "code",
   "execution_count": 96,
   "metadata": {
    "ExecuteTime": {
     "end_time": "2018-11-25T05:58:10.274766Z",
     "start_time": "2018-11-25T05:58:09.510726Z"
    }
   },
   "outputs": [
    {
     "name": "stdout",
     "output_type": "stream",
     "text": [
      "              precision    recall  f1-score   support\n",
      "\n",
      "       <PAD>       1.00      1.00      1.00     95830\n",
      "         ADJ       0.89      0.92      0.90      6891\n",
      "         ADV       0.89      0.90      0.90      4812\n",
      "      ADV-KS       0.57      0.88      0.69       121\n",
      "         ART       0.99      0.98      0.98     11447\n",
      "         CUR       1.00      1.00      1.00       263\n",
      "          IN       0.63      0.52      0.57       118\n",
      "          KC       0.98      0.97      0.97      3756\n",
      "          KS       0.87      0.86      0.87      2333\n",
      "           N       0.95      0.94      0.95     31999\n",
      "       NPROP       0.87      0.89      0.88     13377\n",
      "         NUM       0.94      0.93      0.93      2298\n",
      "         PCP       0.91      0.95      0.93      2991\n",
      "        PDEN       0.84      0.91      0.88       857\n",
      "        PREP       0.97      0.96      0.97     14531\n",
      "    PREP+ADV       0.86      0.93      0.89        27\n",
      "    PREP+ART       0.98      0.97      0.97      8788\n",
      " PREP+PRO-KS       0.80      0.93      0.86        40\n",
      " PREP+PROADJ       0.99      0.99      0.99       286\n",
      "PREP+PROPESS       0.96      0.99      0.98       106\n",
      " PREP+PROSUB       0.81      0.88      0.85       128\n",
      "      PRO-KS       0.92      0.87      0.89      1956\n",
      "      PROADJ       0.94      0.96      0.95      2911\n",
      "     PROPESS       0.96      0.97      0.97      2546\n",
      "      PROSUB       0.84      0.88      0.86      1360\n",
      "          PU       0.99      0.99      0.99     22017\n",
      "           V       0.99      0.99      0.99     17886\n",
      "\n",
      "   micro avg       0.97      0.97      0.97    249675\n",
      "   macro avg       0.90      0.92      0.91    249675\n",
      "weighted avg       0.97      0.97      0.97    249675\n",
      "\n"
     ]
    }
   ],
   "source": [
    "print(classification_report(test_pred.flatten(), test_tags_y.flatten(), target_names=id2tag))"
   ]
  },
  {
   "cell_type": "code",
   "execution_count": 176,
   "metadata": {
    "ExecuteTime": {
     "end_time": "2018-11-25T06:36:31.842575Z",
     "start_time": "2018-11-25T06:36:31.829470Z"
    }
   },
   "outputs": [],
   "source": [
    "def classification_report_df(report):\n",
    "    report_data = []\n",
    "    lines = report.split('\\n')\n",
    "    for line in lines[3:-4]:\n",
    "        row = {}\n",
    "        row_data = line.split()\n",
    "        if not row_data:\n",
    "            break\n",
    "        row['class'] = row_data[0]\n",
    "        row['precision'] = float(row_data[1])\n",
    "        row['recall'] = float(row_data[2])\n",
    "        row['f1_score'] = float(row_data[3])\n",
    "        row['support'] = float(row_data[4])\n",
    "        report_data.append(row)\n",
    "    return pd.DataFrame.from_dict(report_data)"
   ]
  },
  {
   "cell_type": "code",
   "execution_count": 177,
   "metadata": {
    "ExecuteTime": {
     "end_time": "2018-11-25T06:36:34.673742Z",
     "start_time": "2018-11-25T06:36:33.837821Z"
    }
   },
   "outputs": [],
   "source": [
    "df_result_test = classification_report_df(classification_report(test_pred.flatten(), test_tags_y.flatten(), target_names=id2tag))"
   ]
  },
  {
   "cell_type": "code",
   "execution_count": 172,
   "metadata": {
    "ExecuteTime": {
     "end_time": "2018-11-25T06:35:27.009173Z",
     "start_time": "2018-11-25T06:35:26.936833Z"
    }
   },
   "outputs": [
    {
     "data": {
      "text/html": [
       "<div>\n",
       "<style scoped>\n",
       "    .dataframe tbody tr th:only-of-type {\n",
       "        vertical-align: middle;\n",
       "    }\n",
       "\n",
       "    .dataframe tbody tr th {\n",
       "        vertical-align: top;\n",
       "    }\n",
       "\n",
       "    .dataframe thead th {\n",
       "        text-align: right;\n",
       "    }\n",
       "</style>\n",
       "<table border=\"1\" class=\"dataframe\">\n",
       "  <thead>\n",
       "    <tr style=\"text-align: right;\">\n",
       "      <th></th>\n",
       "      <th>class</th>\n",
       "      <th>f1_score</th>\n",
       "      <th>precision</th>\n",
       "      <th>recall</th>\n",
       "      <th>support</th>\n",
       "    </tr>\n",
       "  </thead>\n",
       "  <tbody>\n",
       "    <tr>\n",
       "      <th>1</th>\n",
       "      <td>ADJ</td>\n",
       "      <td>0.90</td>\n",
       "      <td>0.89</td>\n",
       "      <td>0.92</td>\n",
       "      <td>6891.0</td>\n",
       "    </tr>\n",
       "    <tr>\n",
       "      <th>2</th>\n",
       "      <td>ADV</td>\n",
       "      <td>0.90</td>\n",
       "      <td>0.89</td>\n",
       "      <td>0.90</td>\n",
       "      <td>4812.0</td>\n",
       "    </tr>\n",
       "    <tr>\n",
       "      <th>3</th>\n",
       "      <td>ADV-KS</td>\n",
       "      <td>0.69</td>\n",
       "      <td>0.57</td>\n",
       "      <td>0.88</td>\n",
       "      <td>121.0</td>\n",
       "    </tr>\n",
       "    <tr>\n",
       "      <th>4</th>\n",
       "      <td>ART</td>\n",
       "      <td>0.98</td>\n",
       "      <td>0.99</td>\n",
       "      <td>0.98</td>\n",
       "      <td>11447.0</td>\n",
       "    </tr>\n",
       "    <tr>\n",
       "      <th>5</th>\n",
       "      <td>CUR</td>\n",
       "      <td>1.00</td>\n",
       "      <td>1.00</td>\n",
       "      <td>1.00</td>\n",
       "      <td>263.0</td>\n",
       "    </tr>\n",
       "    <tr>\n",
       "      <th>6</th>\n",
       "      <td>IN</td>\n",
       "      <td>0.57</td>\n",
       "      <td>0.63</td>\n",
       "      <td>0.52</td>\n",
       "      <td>118.0</td>\n",
       "    </tr>\n",
       "    <tr>\n",
       "      <th>7</th>\n",
       "      <td>KC</td>\n",
       "      <td>0.97</td>\n",
       "      <td>0.98</td>\n",
       "      <td>0.97</td>\n",
       "      <td>3756.0</td>\n",
       "    </tr>\n",
       "    <tr>\n",
       "      <th>8</th>\n",
       "      <td>KS</td>\n",
       "      <td>0.87</td>\n",
       "      <td>0.87</td>\n",
       "      <td>0.86</td>\n",
       "      <td>2333.0</td>\n",
       "    </tr>\n",
       "    <tr>\n",
       "      <th>9</th>\n",
       "      <td>N</td>\n",
       "      <td>0.95</td>\n",
       "      <td>0.95</td>\n",
       "      <td>0.94</td>\n",
       "      <td>31999.0</td>\n",
       "    </tr>\n",
       "    <tr>\n",
       "      <th>10</th>\n",
       "      <td>NPROP</td>\n",
       "      <td>0.88</td>\n",
       "      <td>0.87</td>\n",
       "      <td>0.89</td>\n",
       "      <td>13377.0</td>\n",
       "    </tr>\n",
       "    <tr>\n",
       "      <th>11</th>\n",
       "      <td>NUM</td>\n",
       "      <td>0.93</td>\n",
       "      <td>0.94</td>\n",
       "      <td>0.93</td>\n",
       "      <td>2298.0</td>\n",
       "    </tr>\n",
       "    <tr>\n",
       "      <th>12</th>\n",
       "      <td>PCP</td>\n",
       "      <td>0.93</td>\n",
       "      <td>0.91</td>\n",
       "      <td>0.95</td>\n",
       "      <td>2991.0</td>\n",
       "    </tr>\n",
       "    <tr>\n",
       "      <th>13</th>\n",
       "      <td>PDEN</td>\n",
       "      <td>0.88</td>\n",
       "      <td>0.84</td>\n",
       "      <td>0.91</td>\n",
       "      <td>857.0</td>\n",
       "    </tr>\n",
       "    <tr>\n",
       "      <th>14</th>\n",
       "      <td>PREP</td>\n",
       "      <td>0.97</td>\n",
       "      <td>0.97</td>\n",
       "      <td>0.96</td>\n",
       "      <td>14531.0</td>\n",
       "    </tr>\n",
       "    <tr>\n",
       "      <th>15</th>\n",
       "      <td>PREP+ADV</td>\n",
       "      <td>0.89</td>\n",
       "      <td>0.86</td>\n",
       "      <td>0.93</td>\n",
       "      <td>27.0</td>\n",
       "    </tr>\n",
       "    <tr>\n",
       "      <th>16</th>\n",
       "      <td>PREP+ART</td>\n",
       "      <td>0.97</td>\n",
       "      <td>0.98</td>\n",
       "      <td>0.97</td>\n",
       "      <td>8788.0</td>\n",
       "    </tr>\n",
       "    <tr>\n",
       "      <th>17</th>\n",
       "      <td>PREP+PRO-KS</td>\n",
       "      <td>0.86</td>\n",
       "      <td>0.80</td>\n",
       "      <td>0.93</td>\n",
       "      <td>40.0</td>\n",
       "    </tr>\n",
       "    <tr>\n",
       "      <th>18</th>\n",
       "      <td>PREP+PROADJ</td>\n",
       "      <td>0.99</td>\n",
       "      <td>0.99</td>\n",
       "      <td>0.99</td>\n",
       "      <td>286.0</td>\n",
       "    </tr>\n",
       "    <tr>\n",
       "      <th>19</th>\n",
       "      <td>PREP+PROPESS</td>\n",
       "      <td>0.98</td>\n",
       "      <td>0.96</td>\n",
       "      <td>0.99</td>\n",
       "      <td>106.0</td>\n",
       "    </tr>\n",
       "    <tr>\n",
       "      <th>20</th>\n",
       "      <td>PREP+PROSUB</td>\n",
       "      <td>0.85</td>\n",
       "      <td>0.81</td>\n",
       "      <td>0.88</td>\n",
       "      <td>128.0</td>\n",
       "    </tr>\n",
       "    <tr>\n",
       "      <th>21</th>\n",
       "      <td>PRO-KS</td>\n",
       "      <td>0.89</td>\n",
       "      <td>0.92</td>\n",
       "      <td>0.87</td>\n",
       "      <td>1956.0</td>\n",
       "    </tr>\n",
       "    <tr>\n",
       "      <th>22</th>\n",
       "      <td>PROADJ</td>\n",
       "      <td>0.95</td>\n",
       "      <td>0.94</td>\n",
       "      <td>0.96</td>\n",
       "      <td>2911.0</td>\n",
       "    </tr>\n",
       "    <tr>\n",
       "      <th>23</th>\n",
       "      <td>PROPESS</td>\n",
       "      <td>0.97</td>\n",
       "      <td>0.96</td>\n",
       "      <td>0.97</td>\n",
       "      <td>2546.0</td>\n",
       "    </tr>\n",
       "    <tr>\n",
       "      <th>24</th>\n",
       "      <td>PROSUB</td>\n",
       "      <td>0.86</td>\n",
       "      <td>0.84</td>\n",
       "      <td>0.88</td>\n",
       "      <td>1360.0</td>\n",
       "    </tr>\n",
       "    <tr>\n",
       "      <th>25</th>\n",
       "      <td>PU</td>\n",
       "      <td>0.99</td>\n",
       "      <td>0.99</td>\n",
       "      <td>0.99</td>\n",
       "      <td>22017.0</td>\n",
       "    </tr>\n",
       "    <tr>\n",
       "      <th>26</th>\n",
       "      <td>V</td>\n",
       "      <td>0.99</td>\n",
       "      <td>0.99</td>\n",
       "      <td>0.99</td>\n",
       "      <td>17886.0</td>\n",
       "    </tr>\n",
       "  </tbody>\n",
       "</table>\n",
       "</div>"
      ],
      "text/plain": [
       "           class  f1_score  precision  recall  support\n",
       "1            ADJ      0.90       0.89    0.92   6891.0\n",
       "2            ADV      0.90       0.89    0.90   4812.0\n",
       "3         ADV-KS      0.69       0.57    0.88    121.0\n",
       "4            ART      0.98       0.99    0.98  11447.0\n",
       "5            CUR      1.00       1.00    1.00    263.0\n",
       "6             IN      0.57       0.63    0.52    118.0\n",
       "7             KC      0.97       0.98    0.97   3756.0\n",
       "8             KS      0.87       0.87    0.86   2333.0\n",
       "9              N      0.95       0.95    0.94  31999.0\n",
       "10         NPROP      0.88       0.87    0.89  13377.0\n",
       "11           NUM      0.93       0.94    0.93   2298.0\n",
       "12           PCP      0.93       0.91    0.95   2991.0\n",
       "13          PDEN      0.88       0.84    0.91    857.0\n",
       "14          PREP      0.97       0.97    0.96  14531.0\n",
       "15      PREP+ADV      0.89       0.86    0.93     27.0\n",
       "16      PREP+ART      0.97       0.98    0.97   8788.0\n",
       "17   PREP+PRO-KS      0.86       0.80    0.93     40.0\n",
       "18   PREP+PROADJ      0.99       0.99    0.99    286.0\n",
       "19  PREP+PROPESS      0.98       0.96    0.99    106.0\n",
       "20   PREP+PROSUB      0.85       0.81    0.88    128.0\n",
       "21        PRO-KS      0.89       0.92    0.87   1956.0\n",
       "22        PROADJ      0.95       0.94    0.96   2911.0\n",
       "23       PROPESS      0.97       0.96    0.97   2546.0\n",
       "24        PROSUB      0.86       0.84    0.88   1360.0\n",
       "25            PU      0.99       0.99    0.99  22017.0\n",
       "26             V      0.99       0.99    0.99  17886.0"
      ]
     },
     "execution_count": 172,
     "metadata": {},
     "output_type": "execute_result"
    }
   ],
   "source": [
    "df_result_test"
   ]
  },
  {
   "cell_type": "code",
   "execution_count": 178,
   "metadata": {
    "ExecuteTime": {
     "end_time": "2018-11-25T06:37:21.778987Z",
     "start_time": "2018-11-25T06:37:20.969793Z"
    }
   },
   "outputs": [
    {
     "data": {
      "text/plain": [
       "<matplotlib.axes._subplots.AxesSubplot at 0x7f3dc244a8d0>"
      ]
     },
     "execution_count": 178,
     "metadata": {},
     "output_type": "execute_result"
    },
    {
     "data": {
      "image/png": "[encoded data removed]",
      "text/plain": [
       "<Figure size 720x576 with 1 Axes>"
      ]
     },
     "metadata": {},
     "output_type": "display_data"
    }
   ],
   "source": [
    "df_result_test.boxplot(column=['f1_score', 'precision', 'recall'], figsize=(10,8), fontsize=16)"
   ]
  },
  {
   "cell_type": "code",
   "execution_count": 179,
   "metadata": {
    "ExecuteTime": {
     "end_time": "2018-11-25T06:37:26.853492Z",
     "start_time": "2018-11-25T06:37:26.791804Z"
    }
   },
   "outputs": [
    {
     "data": {
      "text/html": [
       "<div>\n",
       "<style scoped>\n",
       "    .dataframe tbody tr th:only-of-type {\n",
       "        vertical-align: middle;\n",
       "    }\n",
       "\n",
       "    .dataframe tbody tr th {\n",
       "        vertical-align: top;\n",
       "    }\n",
       "\n",
       "    .dataframe thead th {\n",
       "        text-align: right;\n",
       "    }\n",
       "</style>\n",
       "<table border=\"1\" class=\"dataframe\">\n",
       "  <thead>\n",
       "    <tr style=\"text-align: right;\">\n",
       "      <th></th>\n",
       "      <th>f1_score</th>\n",
       "      <th>precision</th>\n",
       "      <th>recall</th>\n",
       "      <th>support</th>\n",
       "    </tr>\n",
       "  </thead>\n",
       "  <tbody>\n",
       "    <tr>\n",
       "      <th>count</th>\n",
       "      <td>26.000000</td>\n",
       "      <td>26.000000</td>\n",
       "      <td>26.000000</td>\n",
       "      <td>26.000000</td>\n",
       "    </tr>\n",
       "    <tr>\n",
       "      <th>mean</th>\n",
       "      <td>0.908077</td>\n",
       "      <td>0.897692</td>\n",
       "      <td>0.921538</td>\n",
       "      <td>5917.115385</td>\n",
       "    </tr>\n",
       "    <tr>\n",
       "      <th>std</th>\n",
       "      <td>0.096417</td>\n",
       "      <td>0.106595</td>\n",
       "      <td>0.092550</td>\n",
       "      <td>8105.863430</td>\n",
       "    </tr>\n",
       "    <tr>\n",
       "      <th>min</th>\n",
       "      <td>0.570000</td>\n",
       "      <td>0.570000</td>\n",
       "      <td>0.520000</td>\n",
       "      <td>27.000000</td>\n",
       "    </tr>\n",
       "    <tr>\n",
       "      <th>25%</th>\n",
       "      <td>0.880000</td>\n",
       "      <td>0.862500</td>\n",
       "      <td>0.892500</td>\n",
       "      <td>268.750000</td>\n",
       "    </tr>\n",
       "    <tr>\n",
       "      <th>50%</th>\n",
       "      <td>0.930000</td>\n",
       "      <td>0.930000</td>\n",
       "      <td>0.935000</td>\n",
       "      <td>2439.500000</td>\n",
       "    </tr>\n",
       "    <tr>\n",
       "      <th>75%</th>\n",
       "      <td>0.970000</td>\n",
       "      <td>0.977500</td>\n",
       "      <td>0.970000</td>\n",
       "      <td>8313.750000</td>\n",
       "    </tr>\n",
       "    <tr>\n",
       "      <th>max</th>\n",
       "      <td>1.000000</td>\n",
       "      <td>1.000000</td>\n",
       "      <td>1.000000</td>\n",
       "      <td>31999.000000</td>\n",
       "    </tr>\n",
       "  </tbody>\n",
       "</table>\n",
       "</div>"
      ],
      "text/plain": [
       "        f1_score  precision     recall       support\n",
       "count  26.000000  26.000000  26.000000     26.000000\n",
       "mean    0.908077   0.897692   0.921538   5917.115385\n",
       "std     0.096417   0.106595   0.092550   8105.863430\n",
       "min     0.570000   0.570000   0.520000     27.000000\n",
       "25%     0.880000   0.862500   0.892500    268.750000\n",
       "50%     0.930000   0.930000   0.935000   2439.500000\n",
       "75%     0.970000   0.977500   0.970000   8313.750000\n",
       "max     1.000000   1.000000   1.000000  31999.000000"
      ]
     },
     "execution_count": 179,
     "metadata": {},
     "output_type": "execute_result"
    }
   ],
   "source": [
    "df_result_test.describe()"
   ]
  },
  {
   "cell_type": "code",
   "execution_count": 202,
   "metadata": {
    "ExecuteTime": {
     "end_time": "2018-11-25T06:43:36.331225Z",
     "start_time": "2018-11-25T06:43:34.829020Z"
    },
    "scrolled": false
   },
   "outputs": [
    {
     "data": {
      "text/plain": [
       "Text(0.5, 1.0, 'Precision x tag')"
      ]
     },
     "execution_count": 202,
     "metadata": {},
     "output_type": "execute_result"
    },
    {
     "data": {
      "image/png": "[encoded data removed]",
      "text/plain": [
       "<Figure size 1008x864 with 1 Axes>"
      ]
     },
     "metadata": {},
     "output_type": "display_data"
    }
   ],
   "source": [
    "ax = df_result_test.plot.bar(y=['precision'], figsize=(14,12), fontsize=18, use_index=False, ylim=(0,1), rot=70)\n",
    "ax.set_xticklabels(df_result_test['class'])\n",
    "ax.set_title('Precision x tag', size=18)"
   ]
  },
  {
   "cell_type": "code",
   "execution_count": 203,
   "metadata": {
    "ExecuteTime": {
     "end_time": "2018-11-25T06:44:10.568519Z",
     "start_time": "2018-11-25T06:44:09.025463Z"
    }
   },
   "outputs": [
    {
     "data": {
      "text/plain": [
       "Text(0.5, 1.0, 'Recall x tag')"
      ]
     },
     "execution_count": 203,
     "metadata": {},
     "output_type": "execute_result"
    },
    {
     "data": {
      "image/png": "[encoded data removed]",
      "text/plain": [
       "<Figure size 1008x864 with 1 Axes>"
      ]
     },
     "metadata": {},
     "output_type": "display_data"
    }
   ],
   "source": [
    "ax = df_result_test.plot.bar(y=['recall'], figsize=(14,12), fontsize=18, use_index=False, ylim=(0,1), rot=70)\n",
    "ax.set_xticklabels(df_result_test['class'])\n",
    "ax.set_title('Recall x tag', size=18)"
   ]
  },
  {
   "cell_type": "code",
   "execution_count": 204,
   "metadata": {
    "ExecuteTime": {
     "end_time": "2018-11-25T06:44:38.531813Z",
     "start_time": "2018-11-25T06:44:37.142729Z"
    }
   },
   "outputs": [
    {
     "data": {
      "text/plain": [
       "Text(0.5, 1.0, 'f1_score x tag')"
      ]
     },
     "execution_count": 204,
     "metadata": {},
     "output_type": "execute_result"
    },
    {
     "data": {
      "image/png": "[encoded data removed]",
      "text/plain": [
       "<Figure size 1008x864 with 1 Axes>"
      ]
     },
     "metadata": {},
     "output_type": "display_data"
    }
   ],
   "source": [
    "ax = df_result_test.plot.bar(y=['f1_score'], figsize=(14,12), fontsize=18, use_index=False, ylim=(0,1), rot=70)\n",
    "ax.set_xticklabels(df_result_test['class'])\n",
    "ax.set_title('f1_score x tag', size=18)"
   ]
  },
  {
   "cell_type": "markdown",
   "metadata": {},
   "source": [
    "## Referências\n",
    "\n",
    "1. https://arxiv.org/pdf/1508.01991.pdf\n",
    "2. http://www.aclweb.org/anthology/Y/Y09/Y09-1013.pdf\n",
    "3. http://nilc.icmc.usp.br/macmorpho/\n",
    "4. http://nilc.icmc.usp.br/embeddings\n",
    "5. http://www.aclweb.org/anthology/P16-2067\n",
    "6. https://nlpforhackers.io/lstm-pos-tagger-keras/"
   ]
  }
 ],
 "metadata": {
  "kernelspec": {
   "display_name": "Python 3",
   "language": "python",
   "name": "python3"
  },
  "language_info": {
   "codemirror_mode": {
    "name": "ipython",
    "version": 3
   },
   "file_extension": ".py",
   "mimetype": "text/x-python",
   "name": "python",
   "nbconvert_exporter": "python",
   "pygments_lexer": "ipython3",
   "version": "3.6.7"
  }
 },
 "nbformat": 4,
 "nbformat_minor": 2
}
