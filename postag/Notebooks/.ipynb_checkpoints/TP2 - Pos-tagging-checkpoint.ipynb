{
 "cells": [
  {
   "cell_type": "markdown",
   "metadata": {},
   "source": [
    "# Trabalho Prático 2\n",
    "## Processamento de Linguagem Natural - 2018/2\n",
    "\n",
    "### Bernardo de Almeida Abreu - 2018718155"
   ]
  },
  {
   "cell_type": "code",
   "execution_count": 1,
   "metadata": {
    "ExecuteTime": {
     "end_time": "2018-11-11T19:22:47.973108Z",
     "start_time": "2018-11-11T19:22:30.216548Z"
    }
   },
   "outputs": [
    {
     "name": "stderr",
     "output_type": "stream",
     "text": [
      "Using TensorFlow backend.\n"
     ]
    }
   ],
   "source": [
    "%matplotlib notebook\n",
    "\n",
    "import numpy as np\n",
    "import pandas as pd\n",
    "import re\n",
    "import gensim\n",
    "import nltk\n",
    "import keras\n",
    "import matplotlib.pyplot as plt\n"
   ]
  },
  {
   "cell_type": "code",
   "execution_count": 2,
   "metadata": {
    "ExecuteTime": {
     "end_time": "2018-11-11T19:22:48.033768Z",
     "start_time": "2018-11-11T19:22:47.978383Z"
    }
   },
   "outputs": [],
   "source": [
    "paths = {\n",
    "    'train': '../macmorpho-v3/macmorpho-train.txt',\n",
    "    'test': '../macmorpho-v3/macmorpho-test.txt',\n",
    "    'dev': '../macmorpho-v3/macmorpho-dev.txt',\n",
    "    'word2vec': '../data/skip_s100.txt'\n",
    "}"
   ]
  },
  {
   "cell_type": "markdown",
   "metadata": {},
   "source": [
    "## Embedding - Word2Vec"
   ]
  },
  {
   "cell_type": "code",
   "execution_count": 3,
   "metadata": {
    "ExecuteTime": {
     "end_time": "2018-11-11T19:28:26.588282Z",
     "start_time": "2018-11-11T19:22:48.037785Z"
    }
   },
   "outputs": [],
   "source": [
    "w2v_model = gensim.models.KeyedVectors.load_word2vec_format(paths['word2vec'])"
   ]
  },
  {
   "cell_type": "code",
   "execution_count": 36,
   "metadata": {
    "ExecuteTime": {
     "end_time": "2018-11-11T19:32:07.774962Z",
     "start_time": "2018-11-11T19:32:07.734084Z"
    },
    "scrolled": true
   },
   "outputs": [
    {
     "ename": "IndexError",
     "evalue": "index 929606 is out of bounds for axis 0 with size 929606",
     "output_type": "error",
     "traceback": [
      "\u001b[0;31m---------------------------------------------------------------------------\u001b[0m",
      "\u001b[0;31mIndexError\u001b[0m                                Traceback (most recent call last)",
      "\u001b[0;32m<ipython-input-36-0026f08e629d>\u001b[0m in \u001b[0;36m<module>\u001b[0;34m\u001b[0m\n\u001b[0;32m----> 1\u001b[0;31m \u001b[0mw2v_model\u001b[0m\u001b[0;34m.\u001b[0m\u001b[0msimilar_by_vector\u001b[0m\u001b[0;34m(\u001b[0m\u001b[0;34m'<PAD>'\u001b[0m\u001b[0;34m)\u001b[0m\u001b[0;34m\u001b[0m\u001b[0m\n\u001b[0m",
      "\u001b[0;32m~/.local/lib/python3.6/site-packages/gensim/models/keyedvectors.py\u001b[0m in \u001b[0;36msimilar_by_vector\u001b[0;34m(self, vector, topn, restrict_vocab)\u001b[0m\n\u001b[1;32m    594\u001b[0m \u001b[0;34m\u001b[0m\u001b[0m\n\u001b[1;32m    595\u001b[0m         \"\"\"\n\u001b[0;32m--> 596\u001b[0;31m         \u001b[0;32mreturn\u001b[0m \u001b[0mself\u001b[0m\u001b[0;34m.\u001b[0m\u001b[0mmost_similar\u001b[0m\u001b[0;34m(\u001b[0m\u001b[0mpositive\u001b[0m\u001b[0;34m=\u001b[0m\u001b[0;34m[\u001b[0m\u001b[0mvector\u001b[0m\u001b[0;34m]\u001b[0m\u001b[0;34m,\u001b[0m \u001b[0mtopn\u001b[0m\u001b[0;34m=\u001b[0m\u001b[0mtopn\u001b[0m\u001b[0;34m,\u001b[0m \u001b[0mrestrict_vocab\u001b[0m\u001b[0;34m=\u001b[0m\u001b[0mrestrict_vocab\u001b[0m\u001b[0;34m)\u001b[0m\u001b[0;34m\u001b[0m\u001b[0m\n\u001b[0m\u001b[1;32m    597\u001b[0m \u001b[0;34m\u001b[0m\u001b[0m\n\u001b[1;32m    598\u001b[0m     \u001b[0;32mdef\u001b[0m \u001b[0msimilarity_matrix\u001b[0m\u001b[0;34m(\u001b[0m\u001b[0mself\u001b[0m\u001b[0;34m,\u001b[0m \u001b[0mdictionary\u001b[0m\u001b[0;34m,\u001b[0m \u001b[0mtfidf\u001b[0m\u001b[0;34m=\u001b[0m\u001b[0;32mNone\u001b[0m\u001b[0;34m,\u001b[0m \u001b[0mthreshold\u001b[0m\u001b[0;34m=\u001b[0m\u001b[0;36m0.0\u001b[0m\u001b[0;34m,\u001b[0m \u001b[0mexponent\u001b[0m\u001b[0;34m=\u001b[0m\u001b[0;36m2.0\u001b[0m\u001b[0;34m,\u001b[0m \u001b[0mnonzero_limit\u001b[0m\u001b[0;34m=\u001b[0m\u001b[0;36m100\u001b[0m\u001b[0;34m,\u001b[0m \u001b[0mdtype\u001b[0m\u001b[0;34m=\u001b[0m\u001b[0mREAL\u001b[0m\u001b[0;34m)\u001b[0m\u001b[0;34m:\u001b[0m\u001b[0;34m\u001b[0m\u001b[0m\n",
      "\u001b[0;32m~/.local/lib/python3.6/site-packages/gensim/models/keyedvectors.py\u001b[0m in \u001b[0;36mmost_similar\u001b[0;34m(self, positive, negative, topn, restrict_vocab, indexer)\u001b[0m\n\u001b[1;32m    529\u001b[0m                 \u001b[0mmean\u001b[0m\u001b[0;34m.\u001b[0m\u001b[0mappend\u001b[0m\u001b[0;34m(\u001b[0m\u001b[0mweight\u001b[0m \u001b[0;34m*\u001b[0m \u001b[0mword\u001b[0m\u001b[0;34m)\u001b[0m\u001b[0;34m\u001b[0m\u001b[0m\n\u001b[1;32m    530\u001b[0m             \u001b[0;32melse\u001b[0m\u001b[0;34m:\u001b[0m\u001b[0;34m\u001b[0m\u001b[0m\n\u001b[0;32m--> 531\u001b[0;31m                 \u001b[0mmean\u001b[0m\u001b[0;34m.\u001b[0m\u001b[0mappend\u001b[0m\u001b[0;34m(\u001b[0m\u001b[0mweight\u001b[0m \u001b[0;34m*\u001b[0m \u001b[0mself\u001b[0m\u001b[0;34m.\u001b[0m\u001b[0mword_vec\u001b[0m\u001b[0;34m(\u001b[0m\u001b[0mword\u001b[0m\u001b[0;34m,\u001b[0m \u001b[0muse_norm\u001b[0m\u001b[0;34m=\u001b[0m\u001b[0;32mTrue\u001b[0m\u001b[0;34m)\u001b[0m\u001b[0;34m)\u001b[0m\u001b[0;34m\u001b[0m\u001b[0m\n\u001b[0m\u001b[1;32m    532\u001b[0m                 \u001b[0;32mif\u001b[0m \u001b[0mword\u001b[0m \u001b[0;32min\u001b[0m \u001b[0mself\u001b[0m\u001b[0;34m.\u001b[0m\u001b[0mvocab\u001b[0m\u001b[0;34m:\u001b[0m\u001b[0;34m\u001b[0m\u001b[0m\n\u001b[1;32m    533\u001b[0m                     \u001b[0mall_words\u001b[0m\u001b[0;34m.\u001b[0m\u001b[0madd\u001b[0m\u001b[0;34m(\u001b[0m\u001b[0mself\u001b[0m\u001b[0;34m.\u001b[0m\u001b[0mvocab\u001b[0m\u001b[0;34m[\u001b[0m\u001b[0mword\u001b[0m\u001b[0;34m]\u001b[0m\u001b[0;34m.\u001b[0m\u001b[0mindex\u001b[0m\u001b[0;34m)\u001b[0m\u001b[0;34m\u001b[0m\u001b[0m\n",
      "\u001b[0;32m~/.local/lib/python3.6/site-packages/gensim/models/keyedvectors.py\u001b[0m in \u001b[0;36mword_vec\u001b[0;34m(self, word, use_norm)\u001b[0m\n\u001b[1;32m    443\u001b[0m         \u001b[0;32mif\u001b[0m \u001b[0mword\u001b[0m \u001b[0;32min\u001b[0m \u001b[0mself\u001b[0m\u001b[0;34m.\u001b[0m\u001b[0mvocab\u001b[0m\u001b[0;34m:\u001b[0m\u001b[0;34m\u001b[0m\u001b[0m\n\u001b[1;32m    444\u001b[0m             \u001b[0;32mif\u001b[0m \u001b[0muse_norm\u001b[0m\u001b[0;34m:\u001b[0m\u001b[0;34m\u001b[0m\u001b[0m\n\u001b[0;32m--> 445\u001b[0;31m                 \u001b[0mresult\u001b[0m \u001b[0;34m=\u001b[0m \u001b[0mself\u001b[0m\u001b[0;34m.\u001b[0m\u001b[0mvectors_norm\u001b[0m\u001b[0;34m[\u001b[0m\u001b[0mself\u001b[0m\u001b[0;34m.\u001b[0m\u001b[0mvocab\u001b[0m\u001b[0;34m[\u001b[0m\u001b[0mword\u001b[0m\u001b[0;34m]\u001b[0m\u001b[0;34m.\u001b[0m\u001b[0mindex\u001b[0m\u001b[0;34m]\u001b[0m\u001b[0;34m\u001b[0m\u001b[0m\n\u001b[0m\u001b[1;32m    446\u001b[0m             \u001b[0;32melse\u001b[0m\u001b[0;34m:\u001b[0m\u001b[0;34m\u001b[0m\u001b[0m\n\u001b[1;32m    447\u001b[0m                 \u001b[0mresult\u001b[0m \u001b[0;34m=\u001b[0m \u001b[0mself\u001b[0m\u001b[0;34m.\u001b[0m\u001b[0mvectors\u001b[0m\u001b[0;34m[\u001b[0m\u001b[0mself\u001b[0m\u001b[0;34m.\u001b[0m\u001b[0mvocab\u001b[0m\u001b[0;34m[\u001b[0m\u001b[0mword\u001b[0m\u001b[0;34m]\u001b[0m\u001b[0;34m.\u001b[0m\u001b[0mindex\u001b[0m\u001b[0;34m]\u001b[0m\u001b[0;34m\u001b[0m\u001b[0m\n",
      "\u001b[0;31mIndexError\u001b[0m: index 929606 is out of bounds for axis 0 with size 929606"
     ]
    }
   ],
   "source": [
    "w2v_model.similar_by_vector('hemocentro')"
   ]
  },
  {
   "cell_type": "markdown",
   "metadata": {},
   "source": [
    "### Adiciona vetores extras"
   ]
  },
  {
   "cell_type": "code",
   "execution_count": 35,
   "metadata": {
    "ExecuteTime": {
     "end_time": "2018-11-11T19:32:04.987484Z",
     "start_time": "2018-11-11T19:32:04.503957Z"
    }
   },
   "outputs": [],
   "source": [
    "w2v_model.add(['<PAD>','<OOV>'], [[0.1]*100,[0.2]*100])"
   ]
  },
  {
   "cell_type": "code",
   "execution_count": 37,
   "metadata": {
    "ExecuteTime": {
     "end_time": "2018-11-11T19:32:45.895085Z",
     "start_time": "2018-11-11T19:32:45.882023Z"
    }
   },
   "outputs": [
    {
     "name": "stdout",
     "output_type": "stream",
     "text": [
      "True\n"
     ]
    }
   ],
   "source": [
    "print('<PAD>' in w2v_model)"
   ]
  },
  {
   "cell_type": "markdown",
   "metadata": {},
   "source": [
    "## Leitura do texto"
   ]
  },
  {
   "cell_type": "code",
   "execution_count": 6,
   "metadata": {
    "ExecuteTime": {
     "end_time": "2018-11-11T19:28:30.622246Z",
     "start_time": "2018-11-11T19:28:30.599642Z"
    }
   },
   "outputs": [],
   "source": [
    "def read_text(filename):\n",
    "    with open(filename, 'r') as f:\n",
    "        return f.readlines()"
   ]
  },
  {
   "cell_type": "code",
   "execution_count": 66,
   "metadata": {
    "ExecuteTime": {
     "end_time": "2018-11-11T20:02:18.725962Z",
     "start_time": "2018-11-11T20:02:18.626177Z"
    },
    "scrolled": true
   },
   "outputs": [
    {
     "name": "stdout",
     "output_type": "stream",
     "text": [
      "Jersei_N atinge_V média_N de_PREP Cr$_CUR 1,4_NUM milhão_N na_PREP+ART venda_N da_PREP+ART Pinhal_NPROP em_PREP São_NPROP Paulo_NPROP ._PU\n",
      "\n",
      "Salto_N sete_ADJ\n",
      "\n",
      "Ainda_ADV em_PREP dezembro_N de_PREP 1990_N ,_PU foi_V editada_PCP a_ART famosa_ADJ 289_N ,_PU que_PRO-KS modificava_V a_ART sistemática_N da_PREP+ART arrecadação_N do_PREP+ART ITR_NPROP e_KC alterava_V suas_PROADJ alíquotas_N ._PU\n",
      "\n"
     ]
    }
   ],
   "source": [
    "train_text = read_text(paths['train'])\n",
    "test_text = read_text(paths['test'])\n",
    "dev_text = read_text(paths['dev'])\n",
    "\n",
    "print(train_text[0])\n",
    "print(test_text[0])\n",
    "print(dev_text[0])"
   ]
  },
  {
   "cell_type": "markdown",
   "metadata": {},
   "source": [
    "### Separação de palavras e tags"
   ]
  },
  {
   "cell_type": "code",
   "execution_count": 65,
   "metadata": {
    "ExecuteTime": {
     "end_time": "2018-11-11T20:02:14.529643Z",
     "start_time": "2018-11-11T20:02:14.516849Z"
    }
   },
   "outputs": [],
   "source": [
    "def split_word_tags(text):\n",
    "    word_lines = []\n",
    "    tag_lines = []\n",
    "    for line in text:\n",
    "        words, tags = zip(*[tagged_word.split('_') for tagged_word in line.split()])\n",
    "        word_lines.append([w.lower() if w.lower() in w2v_model.vocab else '<OOV>' for w in words])\n",
    "        tag_lines.append(list(tags))\n",
    "    return word_lines, tag_lines"
   ]
  },
  {
   "cell_type": "code",
   "execution_count": 67,
   "metadata": {
    "ExecuteTime": {
     "end_time": "2018-11-11T20:02:24.627246Z",
     "start_time": "2018-11-11T20:02:22.006649Z"
    }
   },
   "outputs": [
    {
     "name": "stdout",
     "output_type": "stream",
     "text": [
      "['jersei', 'atinge', 'média', 'de', 'cr$', '<OOV>', 'milhão', 'na', 'venda', 'da', 'pinhal', 'em', 'são', 'paulo', '.']\n",
      "['N', 'V', 'N', 'PREP', 'CUR', 'NUM', 'N', 'PREP+ART', 'N', 'PREP+ART', 'NPROP', 'PREP', 'NPROP', 'NPROP', 'PU']\n"
     ]
    }
   ],
   "source": [
    "train_words, train_tags = split_word_tags(train_text)\n",
    "print(train_words[0])\n",
    "print(train_tags[0])\n",
    "\n",
    "test_words, test_tags = split_word_tags(test_text)\n",
    "dev_words, dev_tags = split_word_tags(dev_text)\n"
   ]
  },
  {
   "cell_type": "code",
   "execution_count": 68,
   "metadata": {
    "ExecuteTime": {
     "end_time": "2018-11-11T20:02:27.537779Z",
     "start_time": "2018-11-11T20:02:27.064163Z"
    }
   },
   "outputs": [
    {
     "name": "stdout",
     "output_type": "stream",
     "text": [
      "{'PU': 0, '<PAD>': 1, 'PDEN': 2, 'KS': 3, 'ADJ': 4, 'ADV': 5, 'NUM': 6, 'PREP+PROPESS': 7, 'KC': 8, 'PREP+PRO-KS': 9, 'PREP+PROSUB': 10, 'ADV-KS': 11, 'IN': 12, 'CUR': 13, 'PCP': 14, 'PREP+PROADJ': 15, 'PROPESS': 16, 'V': 17, 'N': 18, 'PRO-KS': 19, 'PREP+ART': 20, 'ART': 21, 'PREP+ADV': 22, 'PROSUB': 23, 'NPROP': 24, 'PREP': 25, 'PROADJ': 26}\n",
      "['PU', 'PDEN', 'KS', 'ADJ', 'ADV', 'NUM', 'PREP+PROPESS', 'KC', 'PREP+PRO-KS', 'PREP+PROSUB', 'ADV-KS', 'IN', 'CUR', 'PCP', 'PREP+PROADJ', 'PROPESS', 'V', 'N', 'PRO-KS', 'PREP+ART', 'ART', 'PREP+ADV', 'PROSUB', 'NPROP', 'PREP', 'PROADJ']\n"
     ]
    }
   ],
   "source": [
    "def flat_list(l):\n",
    "    return [item for sublist in l for item in sublist]\n",
    "len(set(flat_list(train_words)))\n",
    "\n",
    "id2tag = list(set(flat_list(train_tags)).union(set(flat_list(test_tags))).union(set(flat_list(dev_tags))))\n",
    "tag2id = {}\n",
    "for i, tag in enumerate(all_tags):\n",
    "    tag2id[tag] = i\n",
    "print(tag2id)\n",
    "print(id2tag)"
   ]
  },
  {
   "cell_type": "markdown",
   "metadata": {},
   "source": [
    "## Pad the words"
   ]
  },
  {
   "cell_type": "markdown",
   "metadata": {},
   "source": [
    "### Analyse sentence size distribution"
   ]
  },
  {
   "cell_type": "code",
   "execution_count": 11,
   "metadata": {
    "ExecuteTime": {
     "end_time": "2018-11-11T19:28:33.959888Z",
     "start_time": "2018-11-11T19:28:33.792240Z"
    }
   },
   "outputs": [
    {
     "data": {
      "text/plain": [
       "(49932, 2)"
      ]
     },
     "execution_count": 11,
     "metadata": {},
     "output_type": "execute_result"
    }
   ],
   "source": [
    "df_train = pd.DataFrame(columns=['words', 'tags'])\n",
    "df_test = pd.DataFrame(columns=['words', 'tags'])\n",
    "df_dev = pd.DataFrame(columns=['words', 'tags'])\n",
    "\n",
    "df_train['words'] = train_words\n",
    "df_train['tags'] = train_tags\n",
    "\n",
    "df_test['words'] = test_words\n",
    "df_test['tags'] = test_tags\n",
    "\n",
    "df_dev['words'] = dev_words\n",
    "df_dev['tags'] = dev_tags\n",
    "\n",
    "\n",
    "\n",
    "df_sentences = pd.concat([df_train, df_test, df_dev], axis=0)\n",
    "\n",
    "df_sentences.shape"
   ]
  },
  {
   "cell_type": "code",
   "execution_count": 12,
   "metadata": {
    "ExecuteTime": {
     "end_time": "2018-11-11T19:28:34.070251Z",
     "start_time": "2018-11-11T19:28:33.972110Z"
    }
   },
   "outputs": [
    {
     "data": {
      "text/plain": [
       "count    49932.000000\n",
       "mean        18.940779\n",
       "std         12.070051\n",
       "min          1.000000\n",
       "25%         10.000000\n",
       "50%         17.000000\n",
       "75%         25.000000\n",
       "max        248.000000\n",
       "Name: words, dtype: float64"
      ]
     },
     "execution_count": 12,
     "metadata": {},
     "output_type": "execute_result"
    }
   ],
   "source": [
    "df_sentences['words'].map(len).describe()"
   ]
  },
  {
   "cell_type": "code",
   "execution_count": 38,
   "metadata": {
    "ExecuteTime": {
     "end_time": "2018-11-11T19:33:01.007395Z",
     "start_time": "2018-11-11T19:33:00.781941Z"
    }
   },
   "outputs": [
    {
     "data": {
      "application/javascript": [
       "/* Put everything inside the global mpl namespace */\n",
       "window.mpl = {};\n",
       "\n",
       "\n",
       "mpl.get_websocket_type = function() {\n",
       "    if (typeof(WebSocket) !== 'undefined') {\n",
       "        return WebSocket;\n",
       "    } else if (typeof(MozWebSocket) !== 'undefined') {\n",
       "        return MozWebSocket;\n",
       "    } else {\n",
       "        alert('Your browser does not have WebSocket support.' +\n",
       "              'Please try Chrome, Safari or Firefox ≥ 6. ' +\n",
       "              'Firefox 4 and 5 are also supported but you ' +\n",
       "              'have to enable WebSockets in about:config.');\n",
       "    };\n",
       "}\n",
       "\n",
       "mpl.figure = function(figure_id, websocket, ondownload, parent_element) {\n",
       "    this.id = figure_id;\n",
       "\n",
       "    this.ws = websocket;\n",
       "\n",
       "    this.supports_binary = (this.ws.binaryType != undefined);\n",
       "\n",
       "    if (!this.supports_binary) {\n",
       "        var warnings = document.getElementById(\"mpl-warnings\");\n",
       "        if (warnings) {\n",
       "            warnings.style.display = 'block';\n",
       "            warnings.textContent = (\n",
       "                \"This browser does not support binary websocket messages. \" +\n",
       "                    \"Performance may be slow.\");\n",
       "        }\n",
       "    }\n",
       "\n",
       "    this.imageObj = new Image();\n",
       "\n",
       "    this.context = undefined;\n",
       "    this.message = undefined;\n",
       "    this.canvas = undefined;\n",
       "    this.rubberband_canvas = undefined;\n",
       "    this.rubberband_context = undefined;\n",
       "    this.format_dropdown = undefined;\n",
       "\n",
       "    this.image_mode = 'full';\n",
       "\n",
       "    this.root = $('<div/>');\n",
       "    this._root_extra_style(this.root)\n",
       "    this.root.attr('style', 'display: inline-block');\n",
       "\n",
       "    $(parent_element).append(this.root);\n",
       "\n",
       "    this._init_header(this);\n",
       "    this._init_canvas(this);\n",
       "    this._init_toolbar(this);\n",
       "\n",
       "    var fig = this;\n",
       "\n",
       "    this.waiting = false;\n",
       "\n",
       "    this.ws.onopen =  function () {\n",
       "            fig.send_message(\"supports_binary\", {value: fig.supports_binary});\n",
       "            fig.send_message(\"send_image_mode\", {});\n",
       "            if (mpl.ratio != 1) {\n",
       "                fig.send_message(\"set_dpi_ratio\", {'dpi_ratio': mpl.ratio});\n",
       "            }\n",
       "            fig.send_message(\"refresh\", {});\n",
       "        }\n",
       "\n",
       "    this.imageObj.onload = function() {\n",
       "            if (fig.image_mode == 'full') {\n",
       "                // Full images could contain transparency (where diff images\n",
       "                // almost always do), so we need to clear the canvas so that\n",
       "                // there is no ghosting.\n",
       "                fig.context.clearRect(0, 0, fig.canvas.width, fig.canvas.height);\n",
       "            }\n",
       "            fig.context.drawImage(fig.imageObj, 0, 0);\n",
       "        };\n",
       "\n",
       "    this.imageObj.onunload = function() {\n",
       "        fig.ws.close();\n",
       "    }\n",
       "\n",
       "    this.ws.onmessage = this._make_on_message_function(this);\n",
       "\n",
       "    this.ondownload = ondownload;\n",
       "}\n",
       "\n",
       "mpl.figure.prototype._init_header = function() {\n",
       "    var titlebar = $(\n",
       "        '<div class=\"ui-dialog-titlebar ui-widget-header ui-corner-all ' +\n",
       "        'ui-helper-clearfix\"/>');\n",
       "    var titletext = $(\n",
       "        '<div class=\"ui-dialog-title\" style=\"width: 100%; ' +\n",
       "        'text-align: center; padding: 3px;\"/>');\n",
       "    titlebar.append(titletext)\n",
       "    this.root.append(titlebar);\n",
       "    this.header = titletext[0];\n",
       "}\n",
       "\n",
       "\n",
       "\n",
       "mpl.figure.prototype._canvas_extra_style = function(canvas_div) {\n",
       "\n",
       "}\n",
       "\n",
       "\n",
       "mpl.figure.prototype._root_extra_style = function(canvas_div) {\n",
       "\n",
       "}\n",
       "\n",
       "mpl.figure.prototype._init_canvas = function() {\n",
       "    var fig = this;\n",
       "\n",
       "    var canvas_div = $('<div/>');\n",
       "\n",
       "    canvas_div.attr('style', 'position: relative; clear: both; outline: 0');\n",
       "\n",
       "    function canvas_keyboard_event(event) {\n",
       "        return fig.key_event(event, event['data']);\n",
       "    }\n",
       "\n",
       "    canvas_div.keydown('key_press', canvas_keyboard_event);\n",
       "    canvas_div.keyup('key_release', canvas_keyboard_event);\n",
       "    this.canvas_div = canvas_div\n",
       "    this._canvas_extra_style(canvas_div)\n",
       "    this.root.append(canvas_div);\n",
       "\n",
       "    var canvas = $('<canvas/>');\n",
       "    canvas.addClass('mpl-canvas');\n",
       "    canvas.attr('style', \"left: 0; top: 0; z-index: 0; outline: 0\")\n",
       "\n",
       "    this.canvas = canvas[0];\n",
       "    this.context = canvas[0].getContext(\"2d\");\n",
       "\n",
       "    var backingStore = this.context.backingStorePixelRatio ||\n",
       "\tthis.context.webkitBackingStorePixelRatio ||\n",
       "\tthis.context.mozBackingStorePixelRatio ||\n",
       "\tthis.context.msBackingStorePixelRatio ||\n",
       "\tthis.context.oBackingStorePixelRatio ||\n",
       "\tthis.context.backingStorePixelRatio || 1;\n",
       "\n",
       "    mpl.ratio = (window.devicePixelRatio || 1) / backingStore;\n",
       "\n",
       "    var rubberband = $('<canvas/>');\n",
       "    rubberband.attr('style', \"position: absolute; left: 0; top: 0; z-index: 1;\")\n",
       "\n",
       "    var pass_mouse_events = true;\n",
       "\n",
       "    canvas_div.resizable({\n",
       "        start: function(event, ui) {\n",
       "            pass_mouse_events = false;\n",
       "        },\n",
       "        resize: function(event, ui) {\n",
       "            fig.request_resize(ui.size.width, ui.size.height);\n",
       "        },\n",
       "        stop: function(event, ui) {\n",
       "            pass_mouse_events = true;\n",
       "            fig.request_resize(ui.size.width, ui.size.height);\n",
       "        },\n",
       "    });\n",
       "\n",
       "    function mouse_event_fn(event) {\n",
       "        if (pass_mouse_events)\n",
       "            return fig.mouse_event(event, event['data']);\n",
       "    }\n",
       "\n",
       "    rubberband.mousedown('button_press', mouse_event_fn);\n",
       "    rubberband.mouseup('button_release', mouse_event_fn);\n",
       "    // Throttle sequential mouse events to 1 every 20ms.\n",
       "    rubberband.mousemove('motion_notify', mouse_event_fn);\n",
       "\n",
       "    rubberband.mouseenter('figure_enter', mouse_event_fn);\n",
       "    rubberband.mouseleave('figure_leave', mouse_event_fn);\n",
       "\n",
       "    canvas_div.on(\"wheel\", function (event) {\n",
       "        event = event.originalEvent;\n",
       "        event['data'] = 'scroll'\n",
       "        if (event.deltaY < 0) {\n",
       "            event.step = 1;\n",
       "        } else {\n",
       "            event.step = -1;\n",
       "        }\n",
       "        mouse_event_fn(event);\n",
       "    });\n",
       "\n",
       "    canvas_div.append(canvas);\n",
       "    canvas_div.append(rubberband);\n",
       "\n",
       "    this.rubberband = rubberband;\n",
       "    this.rubberband_canvas = rubberband[0];\n",
       "    this.rubberband_context = rubberband[0].getContext(\"2d\");\n",
       "    this.rubberband_context.strokeStyle = \"#000000\";\n",
       "\n",
       "    this._resize_canvas = function(width, height) {\n",
       "        // Keep the size of the canvas, canvas container, and rubber band\n",
       "        // canvas in synch.\n",
       "        canvas_div.css('width', width)\n",
       "        canvas_div.css('height', height)\n",
       "\n",
       "        canvas.attr('width', width * mpl.ratio);\n",
       "        canvas.attr('height', height * mpl.ratio);\n",
       "        canvas.attr('style', 'width: ' + width + 'px; height: ' + height + 'px;');\n",
       "\n",
       "        rubberband.attr('width', width);\n",
       "        rubberband.attr('height', height);\n",
       "    }\n",
       "\n",
       "    // Set the figure to an initial 600x600px, this will subsequently be updated\n",
       "    // upon first draw.\n",
       "    this._resize_canvas(600, 600);\n",
       "\n",
       "    // Disable right mouse context menu.\n",
       "    $(this.rubberband_canvas).bind(\"contextmenu\",function(e){\n",
       "        return false;\n",
       "    });\n",
       "\n",
       "    function set_focus () {\n",
       "        canvas.focus();\n",
       "        canvas_div.focus();\n",
       "    }\n",
       "\n",
       "    window.setTimeout(set_focus, 100);\n",
       "}\n",
       "\n",
       "mpl.figure.prototype._init_toolbar = function() {\n",
       "    var fig = this;\n",
       "\n",
       "    var nav_element = $('<div/>')\n",
       "    nav_element.attr('style', 'width: 100%');\n",
       "    this.root.append(nav_element);\n",
       "\n",
       "    // Define a callback function for later on.\n",
       "    function toolbar_event(event) {\n",
       "        return fig.toolbar_button_onclick(event['data']);\n",
       "    }\n",
       "    function toolbar_mouse_event(event) {\n",
       "        return fig.toolbar_button_onmouseover(event['data']);\n",
       "    }\n",
       "\n",
       "    for(var toolbar_ind in mpl.toolbar_items) {\n",
       "        var name = mpl.toolbar_items[toolbar_ind][0];\n",
       "        var tooltip = mpl.toolbar_items[toolbar_ind][1];\n",
       "        var image = mpl.toolbar_items[toolbar_ind][2];\n",
       "        var method_name = mpl.toolbar_items[toolbar_ind][3];\n",
       "\n",
       "        if (!name) {\n",
       "            // put a spacer in here.\n",
       "            continue;\n",
       "        }\n",
       "        var button = $('<button/>');\n",
       "        button.addClass('ui-button ui-widget ui-state-default ui-corner-all ' +\n",
       "                        'ui-button-icon-only');\n",
       "        button.attr('role', 'button');\n",
       "        button.attr('aria-disabled', 'false');\n",
       "        button.click(method_name, toolbar_event);\n",
       "        button.mouseover(tooltip, toolbar_mouse_event);\n",
       "\n",
       "        var icon_img = $('<span/>');\n",
       "        icon_img.addClass('ui-button-icon-primary ui-icon');\n",
       "        icon_img.addClass(image);\n",
       "        icon_img.addClass('ui-corner-all');\n",
       "\n",
       "        var tooltip_span = $('<span/>');\n",
       "        tooltip_span.addClass('ui-button-text');\n",
       "        tooltip_span.html(tooltip);\n",
       "\n",
       "        button.append(icon_img);\n",
       "        button.append(tooltip_span);\n",
       "\n",
       "        nav_element.append(button);\n",
       "    }\n",
       "\n",
       "    var fmt_picker_span = $('<span/>');\n",
       "\n",
       "    var fmt_picker = $('<select/>');\n",
       "    fmt_picker.addClass('mpl-toolbar-option ui-widget ui-widget-content');\n",
       "    fmt_picker_span.append(fmt_picker);\n",
       "    nav_element.append(fmt_picker_span);\n",
       "    this.format_dropdown = fmt_picker[0];\n",
       "\n",
       "    for (var ind in mpl.extensions) {\n",
       "        var fmt = mpl.extensions[ind];\n",
       "        var option = $(\n",
       "            '<option/>', {selected: fmt === mpl.default_extension}).html(fmt);\n",
       "        fmt_picker.append(option)\n",
       "    }\n",
       "\n",
       "    // Add hover states to the ui-buttons\n",
       "    $( \".ui-button\" ).hover(\n",
       "        function() { $(this).addClass(\"ui-state-hover\");},\n",
       "        function() { $(this).removeClass(\"ui-state-hover\");}\n",
       "    );\n",
       "\n",
       "    var status_bar = $('<span class=\"mpl-message\"/>');\n",
       "    nav_element.append(status_bar);\n",
       "    this.message = status_bar[0];\n",
       "}\n",
       "\n",
       "mpl.figure.prototype.request_resize = function(x_pixels, y_pixels) {\n",
       "    // Request matplotlib to resize the figure. Matplotlib will then trigger a resize in the client,\n",
       "    // which will in turn request a refresh of the image.\n",
       "    this.send_message('resize', {'width': x_pixels, 'height': y_pixels});\n",
       "}\n",
       "\n",
       "mpl.figure.prototype.send_message = function(type, properties) {\n",
       "    properties['type'] = type;\n",
       "    properties['figure_id'] = this.id;\n",
       "    this.ws.send(JSON.stringify(properties));\n",
       "}\n",
       "\n",
       "mpl.figure.prototype.send_draw_message = function() {\n",
       "    if (!this.waiting) {\n",
       "        this.waiting = true;\n",
       "        this.ws.send(JSON.stringify({type: \"draw\", figure_id: this.id}));\n",
       "    }\n",
       "}\n",
       "\n",
       "\n",
       "mpl.figure.prototype.handle_save = function(fig, msg) {\n",
       "    var format_dropdown = fig.format_dropdown;\n",
       "    var format = format_dropdown.options[format_dropdown.selectedIndex].value;\n",
       "    fig.ondownload(fig, format);\n",
       "}\n",
       "\n",
       "\n",
       "mpl.figure.prototype.handle_resize = function(fig, msg) {\n",
       "    var size = msg['size'];\n",
       "    if (size[0] != fig.canvas.width || size[1] != fig.canvas.height) {\n",
       "        fig._resize_canvas(size[0], size[1]);\n",
       "        fig.send_message(\"refresh\", {});\n",
       "    };\n",
       "}\n",
       "\n",
       "mpl.figure.prototype.handle_rubberband = function(fig, msg) {\n",
       "    var x0 = msg['x0'] / mpl.ratio;\n",
       "    var y0 = (fig.canvas.height - msg['y0']) / mpl.ratio;\n",
       "    var x1 = msg['x1'] / mpl.ratio;\n",
       "    var y1 = (fig.canvas.height - msg['y1']) / mpl.ratio;\n",
       "    x0 = Math.floor(x0) + 0.5;\n",
       "    y0 = Math.floor(y0) + 0.5;\n",
       "    x1 = Math.floor(x1) + 0.5;\n",
       "    y1 = Math.floor(y1) + 0.5;\n",
       "    var min_x = Math.min(x0, x1);\n",
       "    var min_y = Math.min(y0, y1);\n",
       "    var width = Math.abs(x1 - x0);\n",
       "    var height = Math.abs(y1 - y0);\n",
       "\n",
       "    fig.rubberband_context.clearRect(\n",
       "        0, 0, fig.canvas.width, fig.canvas.height);\n",
       "\n",
       "    fig.rubberband_context.strokeRect(min_x, min_y, width, height);\n",
       "}\n",
       "\n",
       "mpl.figure.prototype.handle_figure_label = function(fig, msg) {\n",
       "    // Updates the figure title.\n",
       "    fig.header.textContent = msg['label'];\n",
       "}\n",
       "\n",
       "mpl.figure.prototype.handle_cursor = function(fig, msg) {\n",
       "    var cursor = msg['cursor'];\n",
       "    switch(cursor)\n",
       "    {\n",
       "    case 0:\n",
       "        cursor = 'pointer';\n",
       "        break;\n",
       "    case 1:\n",
       "        cursor = 'default';\n",
       "        break;\n",
       "    case 2:\n",
       "        cursor = 'crosshair';\n",
       "        break;\n",
       "    case 3:\n",
       "        cursor = 'move';\n",
       "        break;\n",
       "    }\n",
       "    fig.rubberband_canvas.style.cursor = cursor;\n",
       "}\n",
       "\n",
       "mpl.figure.prototype.handle_message = function(fig, msg) {\n",
       "    fig.message.textContent = msg['message'];\n",
       "}\n",
       "\n",
       "mpl.figure.prototype.handle_draw = function(fig, msg) {\n",
       "    // Request the server to send over a new figure.\n",
       "    fig.send_draw_message();\n",
       "}\n",
       "\n",
       "mpl.figure.prototype.handle_image_mode = function(fig, msg) {\n",
       "    fig.image_mode = msg['mode'];\n",
       "}\n",
       "\n",
       "mpl.figure.prototype.updated_canvas_event = function() {\n",
       "    // Called whenever the canvas gets updated.\n",
       "    this.send_message(\"ack\", {});\n",
       "}\n",
       "\n",
       "// A function to construct a web socket function for onmessage handling.\n",
       "// Called in the figure constructor.\n",
       "mpl.figure.prototype._make_on_message_function = function(fig) {\n",
       "    return function socket_on_message(evt) {\n",
       "        if (evt.data instanceof Blob) {\n",
       "            /* FIXME: We get \"Resource interpreted as Image but\n",
       "             * transferred with MIME type text/plain:\" errors on\n",
       "             * Chrome.  But how to set the MIME type?  It doesn't seem\n",
       "             * to be part of the websocket stream */\n",
       "            evt.data.type = \"image/png\";\n",
       "\n",
       "            /* Free the memory for the previous frames */\n",
       "            if (fig.imageObj.src) {\n",
       "                (window.URL || window.webkitURL).revokeObjectURL(\n",
       "                    fig.imageObj.src);\n",
       "            }\n",
       "\n",
       "            fig.imageObj.src = (window.URL || window.webkitURL).createObjectURL(\n",
       "                evt.data);\n",
       "            fig.updated_canvas_event();\n",
       "            fig.waiting = false;\n",
       "            return;\n",
       "        }\n",
       "        else if (typeof evt.data === 'string' && evt.data.slice(0, 21) == \"data:image/png;base64\") {\n",
       "            fig.imageObj.src = evt.data;\n",
       "            fig.updated_canvas_event();\n",
       "            fig.waiting = false;\n",
       "            return;\n",
       "        }\n",
       "\n",
       "        var msg = JSON.parse(evt.data);\n",
       "        var msg_type = msg['type'];\n",
       "\n",
       "        // Call the  \"handle_{type}\" callback, which takes\n",
       "        // the figure and JSON message as its only arguments.\n",
       "        try {\n",
       "            var callback = fig[\"handle_\" + msg_type];\n",
       "        } catch (e) {\n",
       "            console.log(\"No handler for the '\" + msg_type + \"' message type: \", msg);\n",
       "            return;\n",
       "        }\n",
       "\n",
       "        if (callback) {\n",
       "            try {\n",
       "                // console.log(\"Handling '\" + msg_type + \"' message: \", msg);\n",
       "                callback(fig, msg);\n",
       "            } catch (e) {\n",
       "                console.log(\"Exception inside the 'handler_\" + msg_type + \"' callback:\", e, e.stack, msg);\n",
       "            }\n",
       "        }\n",
       "    };\n",
       "}\n",
       "\n",
       "// from http://stackoverflow.com/questions/1114465/getting-mouse-location-in-canvas\n",
       "mpl.findpos = function(e) {\n",
       "    //this section is from http://www.quirksmode.org/js/events_properties.html\n",
       "    var targ;\n",
       "    if (!e)\n",
       "        e = window.event;\n",
       "    if (e.target)\n",
       "        targ = e.target;\n",
       "    else if (e.srcElement)\n",
       "        targ = e.srcElement;\n",
       "    if (targ.nodeType == 3) // defeat Safari bug\n",
       "        targ = targ.parentNode;\n",
       "\n",
       "    // jQuery normalizes the pageX and pageY\n",
       "    // pageX,Y are the mouse positions relative to the document\n",
       "    // offset() returns the position of the element relative to the document\n",
       "    var x = e.pageX - $(targ).offset().left;\n",
       "    var y = e.pageY - $(targ).offset().top;\n",
       "\n",
       "    return {\"x\": x, \"y\": y};\n",
       "};\n",
       "\n",
       "/*\n",
       " * return a copy of an object with only non-object keys\n",
       " * we need this to avoid circular references\n",
       " * http://stackoverflow.com/a/24161582/3208463\n",
       " */\n",
       "function simpleKeys (original) {\n",
       "  return Object.keys(original).reduce(function (obj, key) {\n",
       "    if (typeof original[key] !== 'object')\n",
       "        obj[key] = original[key]\n",
       "    return obj;\n",
       "  }, {});\n",
       "}\n",
       "\n",
       "mpl.figure.prototype.mouse_event = function(event, name) {\n",
       "    var canvas_pos = mpl.findpos(event)\n",
       "\n",
       "    if (name === 'button_press')\n",
       "    {\n",
       "        this.canvas.focus();\n",
       "        this.canvas_div.focus();\n",
       "    }\n",
       "\n",
       "    var x = canvas_pos.x * mpl.ratio;\n",
       "    var y = canvas_pos.y * mpl.ratio;\n",
       "\n",
       "    this.send_message(name, {x: x, y: y, button: event.button,\n",
       "                             step: event.step,\n",
       "                             guiEvent: simpleKeys(event)});\n",
       "\n",
       "    /* This prevents the web browser from automatically changing to\n",
       "     * the text insertion cursor when the button is pressed.  We want\n",
       "     * to control all of the cursor setting manually through the\n",
       "     * 'cursor' event from matplotlib */\n",
       "    event.preventDefault();\n",
       "    return false;\n",
       "}\n",
       "\n",
       "mpl.figure.prototype._key_event_extra = function(event, name) {\n",
       "    // Handle any extra behaviour associated with a key event\n",
       "}\n",
       "\n",
       "mpl.figure.prototype.key_event = function(event, name) {\n",
       "\n",
       "    // Prevent repeat events\n",
       "    if (name == 'key_press')\n",
       "    {\n",
       "        if (event.which === this._key)\n",
       "            return;\n",
       "        else\n",
       "            this._key = event.which;\n",
       "    }\n",
       "    if (name == 'key_release')\n",
       "        this._key = null;\n",
       "\n",
       "    var value = '';\n",
       "    if (event.ctrlKey && event.which != 17)\n",
       "        value += \"ctrl+\";\n",
       "    if (event.altKey && event.which != 18)\n",
       "        value += \"alt+\";\n",
       "    if (event.shiftKey && event.which != 16)\n",
       "        value += \"shift+\";\n",
       "\n",
       "    value += 'k';\n",
       "    value += event.which.toString();\n",
       "\n",
       "    this._key_event_extra(event, name);\n",
       "\n",
       "    this.send_message(name, {key: value,\n",
       "                             guiEvent: simpleKeys(event)});\n",
       "    return false;\n",
       "}\n",
       "\n",
       "mpl.figure.prototype.toolbar_button_onclick = function(name) {\n",
       "    if (name == 'download') {\n",
       "        this.handle_save(this, null);\n",
       "    } else {\n",
       "        this.send_message(\"toolbar_button\", {name: name});\n",
       "    }\n",
       "};\n",
       "\n",
       "mpl.figure.prototype.toolbar_button_onmouseover = function(tooltip) {\n",
       "    this.message.textContent = tooltip;\n",
       "};\n",
       "mpl.toolbar_items = [[\"Home\", \"Reset original view\", \"fa fa-home icon-home\", \"home\"], [\"Back\", \"Back to previous view\", \"fa fa-arrow-left icon-arrow-left\", \"back\"], [\"Forward\", \"Forward to next view\", \"fa fa-arrow-right icon-arrow-right\", \"forward\"], [\"\", \"\", \"\", \"\"], [\"Pan\", \"Pan axes with left mouse, zoom with right\", \"fa fa-arrows icon-move\", \"pan\"], [\"Zoom\", \"Zoom to rectangle\", \"fa fa-square-o icon-check-empty\", \"zoom\"], [\"\", \"\", \"\", \"\"], [\"Download\", \"Download plot\", \"fa fa-floppy-o icon-save\", \"download\"]];\n",
       "\n",
       "mpl.extensions = [\"eps\", \"jpeg\", \"pdf\", \"png\", \"ps\", \"raw\", \"svg\", \"tif\"];\n",
       "\n",
       "mpl.default_extension = \"png\";var comm_websocket_adapter = function(comm) {\n",
       "    // Create a \"websocket\"-like object which calls the given IPython comm\n",
       "    // object with the appropriate methods. Currently this is a non binary\n",
       "    // socket, so there is still some room for performance tuning.\n",
       "    var ws = {};\n",
       "\n",
       "    ws.close = function() {\n",
       "        comm.close()\n",
       "    };\n",
       "    ws.send = function(m) {\n",
       "        //console.log('sending', m);\n",
       "        comm.send(m);\n",
       "    };\n",
       "    // Register the callback with on_msg.\n",
       "    comm.on_msg(function(msg) {\n",
       "        //console.log('receiving', msg['content']['data'], msg);\n",
       "        // Pass the mpl event to the overridden (by mpl) onmessage function.\n",
       "        ws.onmessage(msg['content']['data'])\n",
       "    });\n",
       "    return ws;\n",
       "}\n",
       "\n",
       "mpl.mpl_figure_comm = function(comm, msg) {\n",
       "    // This is the function which gets called when the mpl process\n",
       "    // starts-up an IPython Comm through the \"matplotlib\" channel.\n",
       "\n",
       "    var id = msg.content.data.id;\n",
       "    // Get hold of the div created by the display call when the Comm\n",
       "    // socket was opened in Python.\n",
       "    var element = $(\"#\" + id);\n",
       "    var ws_proxy = comm_websocket_adapter(comm)\n",
       "\n",
       "    function ondownload(figure, format) {\n",
       "        window.open(figure.imageObj.src);\n",
       "    }\n",
       "\n",
       "    var fig = new mpl.figure(id, ws_proxy,\n",
       "                           ondownload,\n",
       "                           element.get(0));\n",
       "\n",
       "    // Call onopen now - mpl needs it, as it is assuming we've passed it a real\n",
       "    // web socket which is closed, not our websocket->open comm proxy.\n",
       "    ws_proxy.onopen();\n",
       "\n",
       "    fig.parent_element = element.get(0);\n",
       "    fig.cell_info = mpl.find_output_cell(\"<div id='\" + id + \"'></div>\");\n",
       "    if (!fig.cell_info) {\n",
       "        console.error(\"Failed to find cell for figure\", id, fig);\n",
       "        return;\n",
       "    }\n",
       "\n",
       "    var output_index = fig.cell_info[2]\n",
       "    var cell = fig.cell_info[0];\n",
       "\n",
       "};\n",
       "\n",
       "mpl.figure.prototype.handle_close = function(fig, msg) {\n",
       "    var width = fig.canvas.width/mpl.ratio\n",
       "    fig.root.unbind('remove')\n",
       "\n",
       "    // Update the output cell to use the data from the current canvas.\n",
       "    fig.push_to_output();\n",
       "    var dataURL = fig.canvas.toDataURL();\n",
       "    // Re-enable the keyboard manager in IPython - without this line, in FF,\n",
       "    // the notebook keyboard shortcuts fail.\n",
       "    IPython.keyboard_manager.enable()\n",
       "    $(fig.parent_element).html('<img src=\"' + dataURL + '\" width=\"' + width + '\">');\n",
       "    fig.close_ws(fig, msg);\n",
       "}\n",
       "\n",
       "mpl.figure.prototype.close_ws = function(fig, msg){\n",
       "    fig.send_message('closing', msg);\n",
       "    // fig.ws.close()\n",
       "}\n",
       "\n",
       "mpl.figure.prototype.push_to_output = function(remove_interactive) {\n",
       "    // Turn the data on the canvas into data in the output cell.\n",
       "    var width = this.canvas.width/mpl.ratio\n",
       "    var dataURL = this.canvas.toDataURL();\n",
       "    this.cell_info[1]['text/html'] = '<img src=\"' + dataURL + '\" width=\"' + width + '\">';\n",
       "}\n",
       "\n",
       "mpl.figure.prototype.updated_canvas_event = function() {\n",
       "    // Tell IPython that the notebook contents must change.\n",
       "    IPython.notebook.set_dirty(true);\n",
       "    this.send_message(\"ack\", {});\n",
       "    var fig = this;\n",
       "    // Wait a second, then push the new image to the DOM so\n",
       "    // that it is saved nicely (might be nice to debounce this).\n",
       "    setTimeout(function () { fig.push_to_output() }, 1000);\n",
       "}\n",
       "\n",
       "mpl.figure.prototype._init_toolbar = function() {\n",
       "    var fig = this;\n",
       "\n",
       "    var nav_element = $('<div/>')\n",
       "    nav_element.attr('style', 'width: 100%');\n",
       "    this.root.append(nav_element);\n",
       "\n",
       "    // Define a callback function for later on.\n",
       "    function toolbar_event(event) {\n",
       "        return fig.toolbar_button_onclick(event['data']);\n",
       "    }\n",
       "    function toolbar_mouse_event(event) {\n",
       "        return fig.toolbar_button_onmouseover(event['data']);\n",
       "    }\n",
       "\n",
       "    for(var toolbar_ind in mpl.toolbar_items){\n",
       "        var name = mpl.toolbar_items[toolbar_ind][0];\n",
       "        var tooltip = mpl.toolbar_items[toolbar_ind][1];\n",
       "        var image = mpl.toolbar_items[toolbar_ind][2];\n",
       "        var method_name = mpl.toolbar_items[toolbar_ind][3];\n",
       "\n",
       "        if (!name) { continue; };\n",
       "\n",
       "        var button = $('<button class=\"btn btn-default\" href=\"#\" title=\"' + name + '\"><i class=\"fa ' + image + ' fa-lg\"></i></button>');\n",
       "        button.click(method_name, toolbar_event);\n",
       "        button.mouseover(tooltip, toolbar_mouse_event);\n",
       "        nav_element.append(button);\n",
       "    }\n",
       "\n",
       "    // Add the status bar.\n",
       "    var status_bar = $('<span class=\"mpl-message\" style=\"text-align:right; float: right;\"/>');\n",
       "    nav_element.append(status_bar);\n",
       "    this.message = status_bar[0];\n",
       "\n",
       "    // Add the close button to the window.\n",
       "    var buttongrp = $('<div class=\"btn-group inline pull-right\"></div>');\n",
       "    var button = $('<button class=\"btn btn-mini btn-primary\" href=\"#\" title=\"Stop Interaction\"><i class=\"fa fa-power-off icon-remove icon-large\"></i></button>');\n",
       "    button.click(function (evt) { fig.handle_close(fig, {}); } );\n",
       "    button.mouseover('Stop Interaction', toolbar_mouse_event);\n",
       "    buttongrp.append(button);\n",
       "    var titlebar = this.root.find($('.ui-dialog-titlebar'));\n",
       "    titlebar.prepend(buttongrp);\n",
       "}\n",
       "\n",
       "mpl.figure.prototype._root_extra_style = function(el){\n",
       "    var fig = this\n",
       "    el.on(\"remove\", function(){\n",
       "\tfig.close_ws(fig, {});\n",
       "    });\n",
       "}\n",
       "\n",
       "mpl.figure.prototype._canvas_extra_style = function(el){\n",
       "    // this is important to make the div 'focusable\n",
       "    el.attr('tabindex', 0)\n",
       "    // reach out to IPython and tell the keyboard manager to turn it's self\n",
       "    // off when our div gets focus\n",
       "\n",
       "    // location in version 3\n",
       "    if (IPython.notebook.keyboard_manager) {\n",
       "        IPython.notebook.keyboard_manager.register_events(el);\n",
       "    }\n",
       "    else {\n",
       "        // location in version 2\n",
       "        IPython.keyboard_manager.register_events(el);\n",
       "    }\n",
       "\n",
       "}\n",
       "\n",
       "mpl.figure.prototype._key_event_extra = function(event, name) {\n",
       "    var manager = IPython.notebook.keyboard_manager;\n",
       "    if (!manager)\n",
       "        manager = IPython.keyboard_manager;\n",
       "\n",
       "    // Check for shift+enter\n",
       "    if (event.shiftKey && event.which == 13) {\n",
       "        this.canvas_div.blur();\n",
       "        event.shiftKey = false;\n",
       "        // Send a \"J\" for go to next cell\n",
       "        event.which = 74;\n",
       "        event.keyCode = 74;\n",
       "        manager.command_mode();\n",
       "        manager.handle_keydown(event);\n",
       "    }\n",
       "}\n",
       "\n",
       "mpl.figure.prototype.handle_save = function(fig, msg) {\n",
       "    fig.ondownload(fig, null);\n",
       "}\n",
       "\n",
       "\n",
       "mpl.find_output_cell = function(html_output) {\n",
       "    // Return the cell and output element which can be found *uniquely* in the notebook.\n",
       "    // Note - this is a bit hacky, but it is done because the \"notebook_saving.Notebook\"\n",
       "    // IPython event is triggered only after the cells have been serialised, which for\n",
       "    // our purposes (turning an active figure into a static one), is too late.\n",
       "    var cells = IPython.notebook.get_cells();\n",
       "    var ncells = cells.length;\n",
       "    for (var i=0; i<ncells; i++) {\n",
       "        var cell = cells[i];\n",
       "        if (cell.cell_type === 'code'){\n",
       "            for (var j=0; j<cell.output_area.outputs.length; j++) {\n",
       "                var data = cell.output_area.outputs[j];\n",
       "                if (data.data) {\n",
       "                    // IPython >= 3 moved mimebundle to data attribute of output\n",
       "                    data = data.data;\n",
       "                }\n",
       "                if (data['text/html'] == html_output) {\n",
       "                    return [cell, data, j];\n",
       "                }\n",
       "            }\n",
       "        }\n",
       "    }\n",
       "}\n",
       "\n",
       "// Register the function which deals with the matplotlib target/channel.\n",
       "// The kernel may be null if the page has been refreshed.\n",
       "if (IPython.notebook.kernel != null) {\n",
       "    IPython.notebook.kernel.comm_manager.register_target('matplotlib', mpl.mpl_figure_comm);\n",
       "}\n"
      ],
      "text/plain": [
       "<IPython.core.display.Javascript object>"
      ]
     },
     "metadata": {},
     "output_type": "display_data"
    },
    {
     "data": {
      "text/html": [
       "<img src=\"data:image/png;base64,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\" width=\"640\">"
      ],
      "text/plain": [
       "<IPython.core.display.HTML object>"
      ]
     },
     "metadata": {},
     "output_type": "display_data"
    }
   ],
   "source": [
    "df_sentences['words'].map(len).hist()\n",
    "plt.show()"
   ]
  },
  {
   "cell_type": "code",
   "execution_count": 25,
   "metadata": {
    "ExecuteTime": {
     "end_time": "2018-11-11T19:30:38.978007Z",
     "start_time": "2018-11-11T19:30:38.854942Z"
    }
   },
   "outputs": [
    {
     "data": {
      "text/plain": [
       "25"
      ]
     },
     "execution_count": 25,
     "metadata": {},
     "output_type": "execute_result"
    }
   ],
   "source": [
    "MAX_SENTENCE_LENGTH = int(df_sentences['words'].map(len).describe()['75%'])\n",
    "MAX_SENTENCE_LENGTH"
   ]
  },
  {
   "cell_type": "code",
   "execution_count": 27,
   "metadata": {
    "ExecuteTime": {
     "end_time": "2018-11-11T19:31:13.883804Z",
     "start_time": "2018-11-11T19:31:13.863597Z"
    }
   },
   "outputs": [],
   "source": [
    "def fill_sentence(sentence):\n",
    "    tokens_to_fill = int(MAX_SENTENCE_LENGTH - len(sentence))\n",
    "    \n",
    "#     sentence.append('<END>')\n",
    "    sentence.extend(['<PAD>']*tokens_to_fill)\n",
    "    \n",
    "    return sentence[:MAX_SENTENCE_LENGTH]"
   ]
  },
  {
   "cell_type": "code",
   "execution_count": 28,
   "metadata": {
    "ExecuteTime": {
     "end_time": "2018-11-11T19:31:16.090481Z",
     "start_time": "2018-11-11T19:31:15.527828Z"
    }
   },
   "outputs": [],
   "source": [
    "df_train[\"words\"] = df_train[\"words\"].map(fill_sentence)\n",
    "df_train[\"tags\"] = df_train[\"tags\"].map(fill_sentence)\n",
    "\n",
    "df_test[\"words\"] = df_test[\"words\"].map(fill_sentence)\n",
    "df_test[\"tags\"] = df_test[\"tags\"].map(fill_sentence)\n",
    "\n",
    "df_dev[\"words\"] = df_dev[\"words\"].map(fill_sentence)\n",
    "df_dev[\"tags\"] = df_dev[\"tags\"].map(fill_sentence)"
   ]
  },
  {
   "cell_type": "code",
   "execution_count": 29,
   "metadata": {
    "ExecuteTime": {
     "end_time": "2018-11-11T19:31:18.974149Z",
     "start_time": "2018-11-11T19:31:18.948006Z"
    }
   },
   "outputs": [
    {
     "data": {
      "text/html": [
       "<div>\n",
       "<style scoped>\n",
       "    .dataframe tbody tr th:only-of-type {\n",
       "        vertical-align: middle;\n",
       "    }\n",
       "\n",
       "    .dataframe tbody tr th {\n",
       "        vertical-align: top;\n",
       "    }\n",
       "\n",
       "    .dataframe thead th {\n",
       "        text-align: right;\n",
       "    }\n",
       "</style>\n",
       "<table border=\"1\" class=\"dataframe\">\n",
       "  <thead>\n",
       "    <tr style=\"text-align: right;\">\n",
       "      <th></th>\n",
       "      <th>words</th>\n",
       "      <th>tags</th>\n",
       "    </tr>\n",
       "  </thead>\n",
       "  <tbody>\n",
       "    <tr>\n",
       "      <th>0</th>\n",
       "      <td>[salto, sete, &lt;PAD&gt;, &lt;PAD&gt;, &lt;PAD&gt;, &lt;PAD&gt;, &lt;PAD...</td>\n",
       "      <td>[N, ADJ, &lt;PAD&gt;, &lt;PAD&gt;, &lt;PAD&gt;, &lt;PAD&gt;, &lt;PAD&gt;, &lt;P...</td>\n",
       "    </tr>\n",
       "    <tr>\n",
       "      <th>1</th>\n",
       "      <td>[o, grande, assunto, da, semana, em, nova, yor...</td>\n",
       "      <td>[ART, ADJ, N, PREP+ART, N, PREP, NPROP, NPROP,...</td>\n",
       "    </tr>\n",
       "    <tr>\n",
       "      <th>2</th>\n",
       "      <td>[número, duplo, especial, ,, é, inteirinho, de...</td>\n",
       "      <td>[N, ADJ, ADJ, PU, V, ADJ, PCP, PREP, N, PREP, ...</td>\n",
       "    </tr>\n",
       "    <tr>\n",
       "      <th>3</th>\n",
       "      <td>[a, endiabrada, editora, tina, brown, ex, da, ...</td>\n",
       "      <td>[ART, PCP, N, NPROP, NPROP, N, PREP+ART, PU, N...</td>\n",
       "    </tr>\n",
       "    <tr>\n",
       "      <th>4</th>\n",
       "      <td>[além, das, fotos, de, richard, avedon, ., &lt;PA...</td>\n",
       "      <td>[PREP, PREP+ART, N, PREP, NPROP, NPROP, PU, &lt;P...</td>\n",
       "    </tr>\n",
       "  </tbody>\n",
       "</table>\n",
       "</div>"
      ],
      "text/plain": [
       "                                               words  \\\n",
       "0  [salto, sete, <PAD>, <PAD>, <PAD>, <PAD>, <PAD...   \n",
       "1  [o, grande, assunto, da, semana, em, nova, yor...   \n",
       "2  [número, duplo, especial, ,, é, inteirinho, de...   \n",
       "3  [a, endiabrada, editora, tina, brown, ex, da, ...   \n",
       "4  [além, das, fotos, de, richard, avedon, ., <PA...   \n",
       "\n",
       "                                                tags  \n",
       "0  [N, ADJ, <PAD>, <PAD>, <PAD>, <PAD>, <PAD>, <P...  \n",
       "1  [ART, ADJ, N, PREP+ART, N, PREP, NPROP, NPROP,...  \n",
       "2  [N, ADJ, ADJ, PU, V, ADJ, PCP, PREP, N, PREP, ...  \n",
       "3  [ART, PCP, N, NPROP, NPROP, N, PREP+ART, PU, N...  \n",
       "4  [PREP, PREP+ART, N, PREP, NPROP, NPROP, PU, <P...  "
      ]
     },
     "execution_count": 29,
     "metadata": {},
     "output_type": "execute_result"
    }
   ],
   "source": [
    "df_test.head()"
   ]
  },
  {
   "cell_type": "code",
   "execution_count": 43,
   "metadata": {
    "ExecuteTime": {
     "end_time": "2018-11-11T19:35:09.532256Z",
     "start_time": "2018-11-11T19:35:09.492896Z"
    }
   },
   "outputs": [
    {
     "data": {
      "text/plain": [
       "count    1997.0\n",
       "mean       25.0\n",
       "std         0.0\n",
       "min        25.0\n",
       "25%        25.0\n",
       "50%        25.0\n",
       "75%        25.0\n",
       "max        25.0\n",
       "Name: words, dtype: float64"
      ]
     },
     "execution_count": 43,
     "metadata": {},
     "output_type": "execute_result"
    }
   ],
   "source": [
    "df_dev['words'].map(len).describe()"
   ]
  },
  {
   "cell_type": "markdown",
   "metadata": {},
   "source": [
    "## Arquitetura do modelo"
   ]
  },
  {
   "cell_type": "code",
   "execution_count": 31,
   "metadata": {
    "ExecuteTime": {
     "end_time": "2018-11-11T19:31:27.948494Z",
     "start_time": "2018-11-11T19:31:27.928433Z"
    }
   },
   "outputs": [
    {
     "data": {
      "text/plain": [
       "<keras.engine.sequential.Sequential at 0x7f0ab4738ac8>"
      ]
     },
     "execution_count": 31,
     "metadata": {},
     "output_type": "execute_result"
    }
   ],
   "source": [
    "model = keras.models.Sequential()\n",
    "model"
   ]
  },
  {
   "cell_type": "markdown",
   "metadata": {},
   "source": [
    "### Adiciona camada de embedding"
   ]
  },
  {
   "cell_type": "code",
   "execution_count": 39,
   "metadata": {
    "ExecuteTime": {
     "end_time": "2018-11-11T19:33:24.188012Z",
     "start_time": "2018-11-11T19:33:24.170076Z"
    }
   },
   "outputs": [
    {
     "name": "stdout",
     "output_type": "stream",
     "text": [
      "929608\n",
      "25\n",
      "37948\n"
     ]
    }
   ],
   "source": [
    "print(len(w2v_model.vocab))\n",
    "print(MAX_SENTENCE_LENGTH)\n",
    "print(len(df_train))"
   ]
  },
  {
   "cell_type": "code",
   "execution_count": 46,
   "metadata": {
    "ExecuteTime": {
     "end_time": "2018-11-11T19:46:56.934482Z",
     "start_time": "2018-11-11T19:46:54.596255Z"
    }
   },
   "outputs": [
    {
     "name": "stdout",
     "output_type": "stream",
     "text": [
      "Result embedding shape: (929608, 100)\n",
      "Checking similar words:\n",
      "  modelo -> protótipo (0.78), conceito (0.75), padrão (0.75), propulsor (0.74), paradigma (0.73), layout (0.73), prototipo (0.72), monovolume (0.72)\n",
      "  rede -> emissora (0.73), repetidora (0.72), tv (0.72), retransmissora (0.70), operadora (0.70), rádio (0.70), televisão (0.67), transmundial (0.67)\n",
      "  treino -> treinamento (0.75), técnico-tático (0.68), técnico/tático (0.67), treinos (0.67), voo (0.66), vôo (0.63), rachão (0.62), trenamento (0.60)\n",
      "  aprendizado -> aprimoramento (0.77), auto-conhecimento (0.74), autoconhecimento (0.71), auto-aperfeiçoamento (0.70), refinamento (0.68), amadurecimento (0.68), autocontrole (0.67), letramento (0.66)\n",
      "\n",
      "Preparing the data for LSTM...\n",
      "train_x shape: (37948, 25)\n",
      "train_y shape: (37948,)\n"
     ]
    }
   ],
   "source": [
    "pretrained_weights = w2v_model.vectors\n",
    "vocab_size, emdedding_size = pretrained_weights.shape\n",
    "print('Result embedding shape:', pretrained_weights.shape)\n",
    "print('Checking similar words:')\n",
    "for word in ['modelo', 'rede', 'treino', 'aprendizado']:\n",
    "    most_similar = ', '.join('%s (%.2f)' % (similar, dist) for similar, dist in w2v_model.most_similar(word)[:8])\n",
    "    print('  %s -> %s' % (word, most_similar))\n",
    "\n",
    "def word2idx(word):\n",
    "    return w2v_model.vocab[word].index\n",
    "def idx2word(idx):\n",
    "    return w2v_model.index2word[idx]\n",
    "\n",
    "print('\\nPreparing the data for LSTM...')\n",
    "train_x = np.zeros([len(df_train), max_sentence_length], dtype=np.int32)\n",
    "train_y = np.zeros([len(df_train)], dtype=np.int32)\n",
    "\n",
    "for i, sentence in enumerate(df_train['words']):\n",
    "    for t, word in enumerate(sentence):\n",
    "        train_x[i, t] = word2idx(word)\n",
    "    train_y[i] = word2idx(sentence[-1])\n",
    "print('train_x shape:', train_x.shape)\n",
    "print('train_y shape:', train_y.shape)"
   ]
  },
  {
   "cell_type": "code",
   "execution_count": 45,
   "metadata": {
    "ExecuteTime": {
     "end_time": "2018-11-11T19:36:18.244001Z",
     "start_time": "2018-11-11T19:36:18.236702Z"
    }
   },
   "outputs": [],
   "source": [
    "# model.add(keras.layers.InputLayer(input_shape=(max_sentence_length, )))"
   ]
  },
  {
   "cell_type": "code",
   "execution_count": 47,
   "metadata": {
    "ExecuteTime": {
     "end_time": "2018-11-11T19:47:33.802002Z",
     "start_time": "2018-11-11T19:47:30.247898Z"
    },
    "scrolled": false
   },
   "outputs": [],
   "source": [
    "model.add(\n",
    "    keras.layers.Embedding(\n",
    "        input_dim=len(w2v_model.vocab),\n",
    "        output_dim=emdedding_size,\n",
    "        input_length=max_sentence_length,\n",
    "        weights=[pretrained_weights]\n",
    "    )\n",
    ")"
   ]
  },
  {
   "cell_type": "code",
   "execution_count": 48,
   "metadata": {
    "ExecuteTime": {
     "end_time": "2018-11-11T19:47:39.708914Z",
     "start_time": "2018-11-11T19:47:37.835183Z"
    }
   },
   "outputs": [
    {
     "ename": "NameError",
     "evalue": "name 'tag2index' is not defined",
     "output_type": "error",
     "traceback": [
      "\u001b[0;31m---------------------------------------------------------------------------\u001b[0m",
      "\u001b[0;31mNameError\u001b[0m                                 Traceback (most recent call last)",
      "\u001b[0;32m<ipython-input-48-dd511ac1a91f>\u001b[0m in \u001b[0;36m<module>\u001b[0;34m\u001b[0m\n\u001b[1;32m      1\u001b[0m \u001b[0mmodel\u001b[0m\u001b[0;34m.\u001b[0m\u001b[0madd\u001b[0m\u001b[0;34m(\u001b[0m\u001b[0mkeras\u001b[0m\u001b[0;34m.\u001b[0m\u001b[0mlayers\u001b[0m\u001b[0;34m.\u001b[0m\u001b[0mBidirectional\u001b[0m\u001b[0;34m(\u001b[0m\u001b[0mkeras\u001b[0m\u001b[0;34m.\u001b[0m\u001b[0mlayers\u001b[0m\u001b[0;34m.\u001b[0m\u001b[0mLSTM\u001b[0m\u001b[0;34m(\u001b[0m\u001b[0;36m256\u001b[0m\u001b[0;34m,\u001b[0m \u001b[0mreturn_sequences\u001b[0m\u001b[0;34m=\u001b[0m\u001b[0;32mTrue\u001b[0m\u001b[0;34m)\u001b[0m\u001b[0;34m)\u001b[0m\u001b[0;34m)\u001b[0m\u001b[0;34m\u001b[0m\u001b[0m\n\u001b[0;32m----> 2\u001b[0;31m \u001b[0mmodel\u001b[0m\u001b[0;34m.\u001b[0m\u001b[0madd\u001b[0m\u001b[0;34m(\u001b[0m\u001b[0mkeras\u001b[0m\u001b[0;34m.\u001b[0m\u001b[0mlayers\u001b[0m\u001b[0;34m.\u001b[0m\u001b[0mTimeDistributed\u001b[0m\u001b[0;34m(\u001b[0m\u001b[0mkeras\u001b[0m\u001b[0;34m.\u001b[0m\u001b[0mlayers\u001b[0m\u001b[0;34m.\u001b[0m\u001b[0mDense\u001b[0m\u001b[0;34m(\u001b[0m\u001b[0mlen\u001b[0m\u001b[0;34m(\u001b[0m\u001b[0mtag2index\u001b[0m\u001b[0;34m)\u001b[0m\u001b[0;34m)\u001b[0m\u001b[0;34m)\u001b[0m\u001b[0;34m)\u001b[0m\u001b[0;34m\u001b[0m\u001b[0m\n\u001b[0m\u001b[1;32m      3\u001b[0m \u001b[0mmodel\u001b[0m\u001b[0;34m.\u001b[0m\u001b[0madd\u001b[0m\u001b[0;34m(\u001b[0m\u001b[0mkeras\u001b[0m\u001b[0;34m.\u001b[0m\u001b[0mlayers\u001b[0m\u001b[0;34m.\u001b[0m\u001b[0mActivation\u001b[0m\u001b[0;34m(\u001b[0m\u001b[0;34m'softmax'\u001b[0m\u001b[0;34m)\u001b[0m\u001b[0;34m)\u001b[0m\u001b[0;34m\u001b[0m\u001b[0m\n\u001b[1;32m      4\u001b[0m \u001b[0;34m\u001b[0m\u001b[0m\n\u001b[1;32m      5\u001b[0m model.compile(loss='categorical_crossentropy',\n",
      "\u001b[0;31mNameError\u001b[0m: name 'tag2index' is not defined"
     ]
    }
   ],
   "source": [
    "model.add(keras.layers.Bidirectional(keras.layers.LSTM(256, return_sequences=True)))\n",
    "model.add(keras.layers.TimeDistributed(keras.layers.Dense(len(tag2index))))\n",
    "model.add(keras.layers.Activation('softmax'))\n",
    " \n",
    "model.compile(loss='categorical_crossentropy',\n",
    "              optimizer=Adam(0.001),\n",
    "              metrics=['accuracy'])\n",
    " \n",
    "model.summary()\n"
   ]
  }
 ],
 "metadata": {
  "kernelspec": {
   "display_name": "Python 3",
   "language": "python",
   "name": "python3"
  },
  "language_info": {
   "codemirror_mode": {
    "name": "ipython",
    "version": 3
   },
   "file_extension": ".py",
   "mimetype": "text/x-python",
   "name": "python",
   "nbconvert_exporter": "python",
   "pygments_lexer": "ipython3",
   "version": "3.6.6"
  }
 },
 "nbformat": 4,
 "nbformat_minor": 2
}
